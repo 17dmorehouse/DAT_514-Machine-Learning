{
 "cells": [
  {
   "cell_type": "code",
   "execution_count": 28,
   "id": "9cfafb0c",
   "metadata": {},
   "outputs": [],
   "source": [
    "import numpy as np \n",
    "\n",
    "X = np.random.rand(1,15)\n",
    "m = 3\n",
    "b = 2\n",
    "Y = X*m + b"
   ]
  },
  {
   "cell_type": "code",
   "execution_count": 34,
   "id": "dd6f020a",
   "metadata": {},
   "outputs": [
    {
     "data": {
      "text/plain": [
       "3.0000000000000004"
      ]
     },
     "execution_count": 34,
     "metadata": {},
     "output_type": "execute_result"
    }
   ],
   "source": [
    "XY_bar = np.sum(X*Y)/X.shape[1]\n",
    "Y_bar = np.sum(Y)/Y.shape[1]\n",
    "X_bar = np.sum(X)/X.shape[1]\n",
    "Xsquared_bar = np.sum(X**2)/X.shape[1]\n",
    "\n",
    "# Calculations for finding m\n",
    "(XY_bar - (Y_bar*X_bar))/(Xsquared_bar - (X_bar*X_bar))\n",
    "\n",
    "# Notice how the output is very close to our set slope of 3"
   ]
  },
  {
   "cell_type": "code",
   "execution_count": 31,
   "id": "06e8a35e",
   "metadata": {},
   "outputs": [
    {
     "data": {
      "text/plain": [
       "2.0"
      ]
     },
     "execution_count": 31,
     "metadata": {},
     "output_type": "execute_result"
    }
   ],
   "source": [
    "# Calculations for finding b\n",
    "Y_bar - m*X_bar\n",
    "\n",
    "# Notice how the output is very close to our set slope-intercept of 2"
   ]
  },
  {
   "cell_type": "code",
   "execution_count": 38,
   "id": "d74b114d",
   "metadata": {},
   "outputs": [
    {
     "data": {
      "text/plain": [
       "2.0"
      ]
     },
     "execution_count": 38,
     "metadata": {},
     "output_type": "execute_result"
    }
   ],
   "source": [
    "# Another calculations for finding b\n",
    "Y_bar - ((XY_bar - (Y_bar*X_bar))/(Xsquared_bar - (X_bar*X_bar)))*X_bar\n",
    "# Notice how the output is very close to our set slope-intercept of 2"
   ]
  }
 ],
 "metadata": {
  "kernelspec": {
   "display_name": "Python 3 (ipykernel)",
   "language": "python",
   "name": "python3"
  },
  "language_info": {
   "codemirror_mode": {
    "name": "ipython",
    "version": 3
   },
   "file_extension": ".py",
   "mimetype": "text/x-python",
   "name": "python",
   "nbconvert_exporter": "python",
   "pygments_lexer": "ipython3",
   "version": "3.11.5"
  }
 },
 "nbformat": 4,
 "nbformat_minor": 5
}
