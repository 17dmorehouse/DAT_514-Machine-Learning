{
  "cells": [
    {
      "cell_type": "markdown",
      "metadata": {
        "id": "NOiOPbdo2gNi"
      },
      "source": [
        "This is the MNIST digit problem, but using the Tensor Flow system instead of the scikit-learn version\n",
        "\n",
        "Tensorflow is the package from Google for machine learning,  the most common pro level tool for ML\n",
        "\n",
        "The other prominent package for machine learning is called pytorch, we may look at that package later in the semester.  Tensorflow is more common for applications,  pytorch is more of an R&D\n",
        "tool"
      ]
    },
    {
      "cell_type": "code",
      "execution_count": 1,
      "metadata": {
        "colab": {
          "base_uri": "https://localhost:8080/"
        },
        "id": "lIyu8A252gNl",
        "outputId": "a3cae364-e3ae-4f9e-d6c0-12aa9a65c867"
      },
      "outputs": [
        {
          "output_type": "stream",
          "name": "stdout",
          "text": [
            "Downloading data from https://storage.googleapis.com/tensorflow/tf-keras-datasets/mnist.npz\n",
            "11490434/11490434 [==============================] - 0s 0us/step\n"
          ]
        }
      ],
      "source": [
        "from tensorflow.keras.datasets import mnist\n",
        "\n",
        "[train_images,train_labels],[test_images,test_labels]=mnist.load_data(path=\"D:\\\\Example_data\\\\MNIST\\mnist.npz\")"
      ]
    },
    {
      "cell_type": "code",
      "execution_count": 2,
      "metadata": {
        "colab": {
          "base_uri": "https://localhost:8080/"
        },
        "id": "zw3pSKD42gNm",
        "outputId": "c6cf5594-259e-4c23-ac72-15b0859d97b3"
      },
      "outputs": [
        {
          "output_type": "execute_result",
          "data": {
            "text/plain": [
              "(60000, 28, 28)"
            ]
          },
          "metadata": {},
          "execution_count": 2
        }
      ],
      "source": [
        "train_images.shape"
      ]
    },
    {
      "cell_type": "markdown",
      "metadata": {
        "id": "j07qf8ss2gNm"
      },
      "source": [
        "Note the different storage format, as 28 by 28 images,  not flat arrays this time"
      ]
    },
    {
      "cell_type": "markdown",
      "metadata": {
        "id": "soysZ-m12gNm"
      },
      "source": [
        "# Building an ML model using the Keras sequential model\n",
        "we define the model,  called network here,  with the line models.Sequential()\n",
        "\n",
        "and then we add layers to it,   specifying the numbers of neuron in the layer, the activation function and the size of the input data in the first layer\n",
        "\n",
        "in the output layer, we are using a softmax activation,  so the outputs scale from 0 to 1, and sum to one\n",
        "\n",
        "Notice how much control we have on the model using the keras API in tensorflow to construct the model"
      ]
    },
    {
      "cell_type": "code",
      "execution_count": 3,
      "metadata": {
        "id": "vq7ILoZD2gNn"
      },
      "outputs": [],
      "source": [
        "from tensorflow.keras import models\n",
        "from tensorflow.keras import layers\n",
        "\n",
        "network=models.Sequential()\n",
        "network.add(layers.Dense(512,activation='relu',input_shape=(28*28,)))\n",
        "network.add(layers.Dense(10,activation='softmax'))"
      ]
    },
    {
      "cell_type": "markdown",
      "metadata": {
        "id": "N3gN14zS2gNn"
      },
      "source": [
        "Below is a deeper alternative model,   don't run this cell the first time through the notebook,   come back to this book when\n",
        "you reach the end and run it from here to see a more complex model in action"
      ]
    },
    {
      "cell_type": "code",
      "execution_count": 4,
      "metadata": {
        "id": "BX3jVTbn2gNn"
      },
      "outputs": [],
      "source": [
        "# alternative model- don't run this the first time!   This model adds another layer,  reducing the size of the first layer\n",
        "\n",
        "network=models.Sequential()\n",
        "network.add(layers.Dense(128,activation='relu',input_shape=(28*28,)))\n",
        "network.add(layers.Dense(8,activation='relu'))\n",
        "network.add(layers.Dense(10,activation='softmax'))"
      ]
    },
    {
      "cell_type": "markdown",
      "metadata": {
        "id": "KI7oov2Y2gNo"
      },
      "source": [
        "This is the set of instructions on how we want to see the model fitted.   The loss function and optimizer are specified here\n",
        "and we can also indicate that we want performance metrics calculated as this model is trained"
      ]
    },
    {
      "cell_type": "code",
      "execution_count": 5,
      "metadata": {
        "id": "N2W_zOHz2gNo"
      },
      "outputs": [],
      "source": [
        "network.compile(optimizer='rmsprop',\n",
        "               loss='categorical_crossentropy',\n",
        "               metrics=['accuracy','AUC'])"
      ]
    },
    {
      "cell_type": "markdown",
      "metadata": {
        "id": "2RckJVe22gNo"
      },
      "source": [
        "We are using a keras utility to convert the test labels to onehot encodings"
      ]
    },
    {
      "cell_type": "code",
      "execution_count": 6,
      "metadata": {
        "id": "2hb1v8Uo2gNo"
      },
      "outputs": [],
      "source": [
        "from tensorflow.keras.utils import to_categorical\n",
        "\n",
        "test_labels=to_categorical(test_labels)\n",
        "train_labels=to_categorical(train_labels)"
      ]
    },
    {
      "cell_type": "code",
      "execution_count": 7,
      "metadata": {
        "colab": {
          "base_uri": "https://localhost:8080/"
        },
        "id": "BrrkeQwm2gNo",
        "outputId": "ff49c78a-217d-41b9-fdb6-2f4faf0a7fa2"
      },
      "outputs": [
        {
          "output_type": "execute_result",
          "data": {
            "text/plain": [
              "(10000, 10)"
            ]
          },
          "metadata": {},
          "execution_count": 7
        }
      ],
      "source": [
        "test_labels.shape"
      ]
    },
    {
      "cell_type": "markdown",
      "metadata": {
        "id": "k71KLAdk2gNo"
      },
      "source": [
        "We are going to reshape the images to the flat form,and also rescale them to the range 0 to 1,  and also convert them to 32 bit float to save a bit of space"
      ]
    },
    {
      "cell_type": "code",
      "execution_count": 8,
      "metadata": {
        "id": "nPZiuj4-2gNp"
      },
      "outputs": [],
      "source": [
        "train_images=train_images.reshape(60000,28*28)\n",
        "train_images=train_images.astype('float32')/255"
      ]
    },
    {
      "cell_type": "markdown",
      "metadata": {
        "id": "uyh1nX-u2gNp"
      },
      "source": [
        "We will now split the training set into a test set 2 and a validation set.   We will fit the model using the second training set and use the validation set to test\n",
        "the models during the model adjustment process"
      ]
    },
    {
      "cell_type": "code",
      "execution_count": 9,
      "metadata": {
        "id": "WApuhorx2gNp"
      },
      "outputs": [],
      "source": [
        "from sklearn.model_selection import train_test_split\n",
        "\n",
        "X_train2, X_valid, y_train2, y_valid = train_test_split(train_images, train_labels, test_size=0.2, random_state=42)"
      ]
    },
    {
      "cell_type": "code",
      "execution_count": 10,
      "metadata": {
        "colab": {
          "base_uri": "https://localhost:8080/"
        },
        "id": "5SdimmDj2gNp",
        "outputId": "7f536888-2df7-4b66-e08e-c8edcc24ef01"
      },
      "outputs": [
        {
          "output_type": "stream",
          "name": "stdout",
          "text": [
            "(48000, 784)\n",
            "(12000, 784)\n",
            "(48000, 10)\n",
            "(12000, 10)\n"
          ]
        }
      ],
      "source": [
        "print(X_train2.shape)\n",
        "print(X_valid.shape)\n",
        "print(y_train2.shape)\n",
        "print(y_valid.shape)"
      ]
    },
    {
      "cell_type": "code",
      "execution_count": 11,
      "metadata": {
        "colab": {
          "base_uri": "https://localhost:8080/"
        },
        "id": "zqxCzwEa2gNp",
        "outputId": "de366974-fec5-430d-a032-a6059b8536fc"
      },
      "outputs": [
        {
          "output_type": "stream",
          "name": "stdout",
          "text": [
            "(60000, 784)\n"
          ]
        }
      ],
      "source": [
        "print(train_images.shape)"
      ]
    },
    {
      "cell_type": "markdown",
      "metadata": {
        "id": "_hLxB9qm2gNp"
      },
      "source": [
        "# Model fitting\n",
        "\n",
        "here is the model fitting process, running for 30 epochs, with a batch size of 512 points\n",
        "\n",
        "The validation set will be used at the end of each epoch, and the metrics reported\n",
        "\n",
        "The metrics will all be stored in history"
      ]
    },
    {
      "cell_type": "code",
      "execution_count": 11,
      "metadata": {
        "id": "x81qSnYd2gNp"
      },
      "outputs": [],
      "source": []
    },
    {
      "cell_type": "code",
      "execution_count": 12,
      "metadata": {
        "scrolled": true,
        "colab": {
          "base_uri": "https://localhost:8080/"
        },
        "id": "1IrITWTi2gNp",
        "outputId": "91dd6487-0745-44fa-9ade-a1a06ddec1be"
      },
      "outputs": [
        {
          "output_type": "stream",
          "name": "stdout",
          "text": [
            "Epoch 1/30\n",
            "94/94 [==============================] - 6s 43ms/step - loss: 1.2104 - accuracy: 0.6558 - auc: 0.9176 - val_loss: 0.8057 - val_accuracy: 0.7974 - val_auc: 0.9645\n",
            "Epoch 2/30\n",
            "94/94 [==============================] - 2s 24ms/step - loss: 0.6700 - accuracy: 0.8024 - auc: 0.9744 - val_loss: 0.5430 - val_accuracy: 0.8126 - val_auc: 0.9833\n",
            "Epoch 3/30\n",
            "94/94 [==============================] - 2s 17ms/step - loss: 0.4338 - accuracy: 0.8810 - auc: 0.9887 - val_loss: 0.3058 - val_accuracy: 0.9268 - val_auc: 0.9925\n",
            "Epoch 4/30\n",
            "94/94 [==============================] - 2s 19ms/step - loss: 0.2626 - accuracy: 0.9313 - auc: 0.9942 - val_loss: 0.2311 - val_accuracy: 0.9369 - val_auc: 0.9952\n",
            "Epoch 5/30\n",
            "94/94 [==============================] - 1s 11ms/step - loss: 0.2099 - accuracy: 0.9425 - auc: 0.9959 - val_loss: 0.2049 - val_accuracy: 0.9420 - val_auc: 0.9958\n",
            "Epoch 6/30\n",
            "94/94 [==============================] - 1s 11ms/step - loss: 0.1790 - accuracy: 0.9507 - auc: 0.9967 - val_loss: 0.1782 - val_accuracy: 0.9503 - val_auc: 0.9967\n",
            "Epoch 7/30\n",
            "94/94 [==============================] - 1s 11ms/step - loss: 0.1570 - accuracy: 0.9564 - auc: 0.9974 - val_loss: 0.1678 - val_accuracy: 0.9520 - val_auc: 0.9967\n",
            "Epoch 8/30\n",
            "94/94 [==============================] - 1s 10ms/step - loss: 0.1410 - accuracy: 0.9607 - auc: 0.9978 - val_loss: 0.1581 - val_accuracy: 0.9553 - val_auc: 0.9971\n",
            "Epoch 9/30\n",
            "94/94 [==============================] - 1s 14ms/step - loss: 0.1254 - accuracy: 0.9651 - auc: 0.9981 - val_loss: 0.1445 - val_accuracy: 0.9580 - val_auc: 0.9972\n",
            "Epoch 10/30\n",
            "94/94 [==============================] - 2s 17ms/step - loss: 0.1147 - accuracy: 0.9676 - auc: 0.9983 - val_loss: 0.1324 - val_accuracy: 0.9621 - val_auc: 0.9973\n",
            "Epoch 11/30\n",
            "94/94 [==============================] - 1s 12ms/step - loss: 0.1052 - accuracy: 0.9708 - auc: 0.9985 - val_loss: 0.1328 - val_accuracy: 0.9613 - val_auc: 0.9978\n",
            "Epoch 12/30\n",
            "94/94 [==============================] - 1s 10ms/step - loss: 0.0955 - accuracy: 0.9732 - auc: 0.9988 - val_loss: 0.1361 - val_accuracy: 0.9595 - val_auc: 0.9974\n",
            "Epoch 13/30\n",
            "94/94 [==============================] - 1s 10ms/step - loss: 0.0883 - accuracy: 0.9754 - auc: 0.9989 - val_loss: 0.1192 - val_accuracy: 0.9653 - val_auc: 0.9980\n",
            "Epoch 14/30\n",
            "94/94 [==============================] - 1s 10ms/step - loss: 0.0811 - accuracy: 0.9771 - auc: 0.9991 - val_loss: 0.1169 - val_accuracy: 0.9647 - val_auc: 0.9983\n",
            "Epoch 15/30\n",
            "94/94 [==============================] - 1s 10ms/step - loss: 0.0743 - accuracy: 0.9795 - auc: 0.9991 - val_loss: 0.1162 - val_accuracy: 0.9647 - val_auc: 0.9978\n",
            "Epoch 16/30\n",
            "94/94 [==============================] - 1s 10ms/step - loss: 0.0685 - accuracy: 0.9809 - auc: 0.9993 - val_loss: 0.1045 - val_accuracy: 0.9688 - val_auc: 0.9983\n",
            "Epoch 17/30\n",
            "94/94 [==============================] - 1s 11ms/step - loss: 0.0636 - accuracy: 0.9826 - auc: 0.9993 - val_loss: 0.1046 - val_accuracy: 0.9693 - val_auc: 0.9980\n",
            "Epoch 18/30\n",
            "94/94 [==============================] - 1s 10ms/step - loss: 0.0593 - accuracy: 0.9838 - auc: 0.9994 - val_loss: 0.1030 - val_accuracy: 0.9699 - val_auc: 0.9981\n",
            "Epoch 19/30\n",
            "94/94 [==============================] - 1s 11ms/step - loss: 0.0544 - accuracy: 0.9850 - auc: 0.9995 - val_loss: 0.1000 - val_accuracy: 0.9696 - val_auc: 0.9982\n",
            "Epoch 20/30\n",
            "94/94 [==============================] - 1s 11ms/step - loss: 0.0507 - accuracy: 0.9863 - auc: 0.9995 - val_loss: 0.1027 - val_accuracy: 0.9690 - val_auc: 0.9979\n",
            "Epoch 21/30\n",
            "94/94 [==============================] - 1s 15ms/step - loss: 0.0464 - accuracy: 0.9871 - auc: 0.9996 - val_loss: 0.0982 - val_accuracy: 0.9717 - val_auc: 0.9981\n",
            "Epoch 22/30\n",
            "94/94 [==============================] - 2s 16ms/step - loss: 0.0433 - accuracy: 0.9883 - auc: 0.9997 - val_loss: 0.1023 - val_accuracy: 0.9707 - val_auc: 0.9975\n",
            "Epoch 23/30\n",
            "94/94 [==============================] - 1s 11ms/step - loss: 0.0401 - accuracy: 0.9890 - auc: 0.9997 - val_loss: 0.1041 - val_accuracy: 0.9695 - val_auc: 0.9979\n",
            "Epoch 24/30\n",
            "94/94 [==============================] - 1s 10ms/step - loss: 0.0368 - accuracy: 0.9901 - auc: 0.9998 - val_loss: 0.0962 - val_accuracy: 0.9723 - val_auc: 0.9981\n",
            "Epoch 25/30\n",
            "94/94 [==============================] - 1s 10ms/step - loss: 0.0337 - accuracy: 0.9909 - auc: 0.9998 - val_loss: 0.0958 - val_accuracy: 0.9722 - val_auc: 0.9977\n",
            "Epoch 26/30\n",
            "94/94 [==============================] - 1s 10ms/step - loss: 0.0309 - accuracy: 0.9921 - auc: 0.9999 - val_loss: 0.0949 - val_accuracy: 0.9719 - val_auc: 0.9976\n",
            "Epoch 27/30\n",
            "94/94 [==============================] - 1s 10ms/step - loss: 0.0287 - accuracy: 0.9928 - auc: 0.9999 - val_loss: 0.0964 - val_accuracy: 0.9722 - val_auc: 0.9976\n",
            "Epoch 28/30\n",
            "94/94 [==============================] - 1s 11ms/step - loss: 0.0266 - accuracy: 0.9935 - auc: 0.9999 - val_loss: 0.0942 - val_accuracy: 0.9734 - val_auc: 0.9976\n",
            "Epoch 29/30\n",
            "94/94 [==============================] - 1s 11ms/step - loss: 0.0250 - accuracy: 0.9937 - auc: 0.9999 - val_loss: 0.0939 - val_accuracy: 0.9746 - val_auc: 0.9974\n",
            "Epoch 30/30\n",
            "94/94 [==============================] - 1s 10ms/step - loss: 0.0226 - accuracy: 0.9946 - auc: 0.9999 - val_loss: 0.1062 - val_accuracy: 0.9708 - val_auc: 0.9971\n"
          ]
        }
      ],
      "source": [
        "history=network.fit(X_train2,y_train2,epochs=30,batch_size=512, validation_data=(X_valid,y_valid))\n"
      ]
    },
    {
      "cell_type": "code",
      "execution_count": 13,
      "metadata": {
        "scrolled": true,
        "colab": {
          "base_uri": "https://localhost:8080/"
        },
        "id": "oI2GI9OY2gNq",
        "outputId": "1966f985-3906-44ff-8bf4-9da5e910c984"
      },
      "outputs": [
        {
          "output_type": "stream",
          "name": "stdout",
          "text": [
            "1500/1500 [==============================] - 3s 2ms/step - loss: 0.0241 - accuracy: 0.9937 - auc: 0.9999\n",
            "test acc: 0.9936875104904175\n"
          ]
        }
      ],
      "source": [
        "test_loss,test_accuracy,test_AUC=network.evaluate(X_train2,y_train2)\n",
        "print('test acc:',test_accuracy)"
      ]
    },
    {
      "cell_type": "code",
      "execution_count": 14,
      "metadata": {
        "colab": {
          "base_uri": "https://localhost:8080/"
        },
        "id": "axmVzk1r2gNq",
        "outputId": "17452ebb-ccb5-45a7-b92d-9ab0b6de02fb"
      },
      "outputs": [
        {
          "output_type": "stream",
          "name": "stdout",
          "text": [
            "test AUC 0.9998984932899475\n"
          ]
        }
      ],
      "source": [
        "print('test AUC',test_AUC)"
      ]
    },
    {
      "cell_type": "markdown",
      "metadata": {
        "id": "29t_e8UI2gNq"
      },
      "source": [
        "# Question\n",
        "\n",
        "This is the MNIST digits problem, using a bit more advanced neural net than we did with data set\n",
        "earlier.\n",
        "\n",
        "But what is claimed performance level look like?    How does it compare with your earlier results?   Is this reasonable?"
      ]
    },
    {
      "cell_type": "markdown",
      "metadata": {
        "id": "5aNZWFx42gNq"
      },
      "source": [
        "# Now some plots using the history\n",
        "\n",
        "We can look at the loss function for the training data and the loss function for the cross validation level as a function of the number of training epochs run.\n",
        "\n",
        "Note that this notebook has two different models, watch what changes the second time we run this\n",
        "notebook using the more complex model."
      ]
    },
    {
      "cell_type": "code",
      "execution_count": 15,
      "metadata": {
        "colab": {
          "base_uri": "https://localhost:8080/",
          "height": 472
        },
        "id": "Jz0MXhIu2gNq",
        "outputId": "a8cfd5af-9c9b-4e3c-fa51-781db3d6fe46"
      },
      "outputs": [
        {
          "output_type": "display_data",
          "data": {
            "text/plain": [
              "<Figure size 640x480 with 1 Axes>"
            ],
            "image/png": "[encoded data removed]"
          },
          "metadata": {}
        }
      ],
      "source": [
        "import matplotlib.pyplot as plt\n",
        "history_dict=history.history\n",
        "loss_values=history_dict['loss']\n",
        "val_loss_values=history_dict['val_loss']\n",
        "epoch=range(1,len(loss_values)+1)\n",
        "\n",
        "plt.plot(epoch,loss_values,label='Training Loss')\n",
        "plt.plot(epoch,val_loss_values,label=\"Validation_Loss\")\n",
        "plt.title(\"Traing and Validation loss\")\n",
        "plt.xlabel(\"epochs\")\n",
        "plt.ylabel(\"Loss\")\n",
        "plt.legend()\n",
        "plt.show()\n"
      ]
    },
    {
      "cell_type": "code",
      "execution_count": 16,
      "metadata": {
        "colab": {
          "base_uri": "https://localhost:8080/",
          "height": 472
        },
        "id": "UbFNu0nS2gNq",
        "outputId": "2ac1a4e8-8269-4085-875a-c88bffb0889c"
      },
      "outputs": [
        {
          "output_type": "display_data",
          "data": {
            "text/plain": [
              "<Figure size 640x480 with 1 Axes>"
            ],
            "image/png": "[encoded data removed]"
          },
          "metadata": {}
        }
      ],
      "source": [
        "AUC=history_dict['auc']\n",
        "val_AUC=history_dict['val_auc']\n",
        "\n",
        "\n",
        "plt.plot(epoch,AUC,label='Training AUC')\n",
        "plt.plot(epoch,val_AUC,label=\"Validation AUC\")\n",
        "plt.title(\"Traing and Validation AUC\")\n",
        "plt.xlabel(\"epochs\")\n",
        "plt.ylabel(\"AUC\")\n",
        "plt.legend()\n",
        "plt.show()\n"
      ]
    },
    {
      "cell_type": "code",
      "execution_count": 17,
      "metadata": {
        "colab": {
          "base_uri": "https://localhost:8080/"
        },
        "id": "ypesAx-m2gNq",
        "outputId": "249f7f7c-1174-4df7-a1ea-fc28dc60e8af"
      },
      "outputs": [
        {
          "output_type": "execute_result",
          "data": {
            "text/plain": [
              "dict_keys(['loss', 'accuracy', 'auc', 'val_loss', 'val_accuracy', 'val_auc'])"
            ]
          },
          "metadata": {},
          "execution_count": 17
        }
      ],
      "source": [
        "history_dict.keys()"
      ]
    },
    {
      "cell_type": "code",
      "execution_count": 18,
      "metadata": {
        "colab": {
          "base_uri": "https://localhost:8080/",
          "height": 472
        },
        "id": "ys3j2eWZ2gNq",
        "outputId": "9ec375db-e460-4101-c43f-d4d06a3ad57a"
      },
      "outputs": [
        {
          "output_type": "display_data",
          "data": {
            "text/plain": [
              "<Figure size 640x480 with 1 Axes>"
            ],
            "image/png": "[encoded data removed]"
          },
          "metadata": {}
        }
      ],
      "source": [
        "ACC=history_dict['accuracy']\n",
        "val_ACC=history_dict['val_accuracy']\n",
        "\n",
        "\n",
        "plt.plot(epoch,ACC,label='Training Accuracy')\n",
        "plt.plot(epoch,val_AUC,label=\"Validation Accuracy\")\n",
        "plt.title(\"Traing and Validation Accuracy\")\n",
        "plt.xlabel(\"epochs\")\n",
        "plt.ylabel(\"Accuracy\")\n",
        "plt.legend()\n",
        "plt.show()"
      ]
    },
    {
      "cell_type": "code",
      "execution_count": 18,
      "metadata": {
        "id": "VRz9d9aX2gNr"
      },
      "outputs": [],
      "source": []
    }
  ],
  "metadata": {
    "kernelspec": {
      "display_name": "Python 3 (ipykernel)",
      "language": "python",
      "name": "python3"
    },
    "language_info": {
      "codemirror_mode": {
        "name": "ipython",
        "version": 3
      },
      "file_extension": ".py",
      "mimetype": "text/x-python",
      "name": "python",
      "nbconvert_exporter": "python",
      "pygments_lexer": "ipython3",
      "version": "3.7.13"
    },
    "colab": {
      "provenance": []
    }
  },
  "nbformat": 4,
  "nbformat_minor": 0
}