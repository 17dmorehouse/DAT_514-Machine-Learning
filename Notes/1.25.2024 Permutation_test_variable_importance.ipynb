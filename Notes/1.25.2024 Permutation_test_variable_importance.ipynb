{
 "cells": [
  {
   "cell_type": "markdown",
   "id": "cee08799-b65d-4720-af2e-e5954667821b",
   "metadata": {
    "id": "cee08799-b65d-4720-af2e-e5954667821b",
    "tags": []
   },
   "source": [
    "# Carrying out a Eli5 style permutation test of variable importance\n",
    "\n",
    "This is a numerical approach to understanding which variables are most important in a predictive model we have built.  Eli5 is a libary that does permutation testing of variable importance.\n",
    "\n",
    "We are not going to use Eli5 today,  that will be next time.  We will create our own permutation test using Python code to see what effect randomizing each variable, one at a time, has on the predicted performance of the model.\n",
    "\n",
    "We are going to use a linear model analyzed with a linear regression model, and see what the relative importance of three variables is.\n",
    "\n",
    "Note that people have the tendency to identify the most important model in the model as being the most important model in the real world.  But, for a variety of reasons (correlation among variables,  missing variables, or oddities in the model structure),  what is important in a model may not be what is important in the external world.\n",
    "\n",
    "In many cases,  you really do want to know what the model is doing in making predictions.   You really don't want to see a proxy for age, gender or race being the primary factor in a model of loan eligibility for example.\n",
    "\n"
   ]
  },
  {
   "cell_type": "code",
   "execution_count": 1,
   "id": "0c622aa9-0f07-44c1-9077-8a24425c2047",
   "metadata": {
    "executionInfo": {
     "elapsed": 3695,
     "status": "ok",
     "timestamp": 1706232875194,
     "user": {
      "displayName": "Devan Morehouse",
      "userId": "12659030949256190002"
     },
     "user_tz": 300
    },
    "id": "0c622aa9-0f07-44c1-9077-8a24425c2047"
   },
   "outputs": [],
   "source": [
    "import numpy as np\n",
    "import pandas as pd\n",
    "import statsmodels. api as sm"
   ]
  },
  {
   "cell_type": "markdown",
   "id": "399e6e3b-ebe8-4032-bfd3-f2d98f802c88",
   "metadata": {
    "id": "399e6e3b-ebe8-4032-bfd3-f2d98f802c88"
   },
   "source": [
    "Generate predictors x1, x2, x2 and an output y of known form,  then we will prredict the importance of each variable based on the Epi5 style model\n",
    "\n",
    "Note this is a generative use of a model,  or synthetic data, so we know what the structure is and can learn to use the method"
   ]
  },
  {
   "cell_type": "code",
   "execution_count": 2,
   "id": "28961ade-3e63-41d9-b194-95fc7008993f",
   "metadata": {
    "executionInfo": {
     "elapsed": 46,
     "status": "ok",
     "timestamp": 1706232875196,
     "user": {
      "displayName": "Devan Morehouse",
      "userId": "12659030949256190002"
     },
     "user_tz": 300
    },
    "id": "28961ade-3e63-41d9-b194-95fc7008993f"
   },
   "outputs": [],
   "source": [
    "import numpy.random\n",
    "\n",
    "# we are just setting up an example data set of a relative complex relationship\n",
    "\n",
    "x1=np.random.normal(0,3,30)\n",
    "x2=np.random.normal(0,2,30)\n",
    "x3=np.random.normal(0,2,30)\n",
    "\n",
    "y=2*x1-3*x2+ np.random.normal(0,2,30)"
   ]
  },
  {
   "cell_type": "markdown",
   "id": "tTtBoWBX5zzo",
   "metadata": {
    "id": "tTtBoWBX5zzo"
   },
   "source": [
    "Which two variables are important in predicting y?\n",
    "\n",
    "Which variable has no influence on y?\n",
    "\n",
    "Does y have some \"error\", or \"noise\" or \"unexplained variance\" which is not predicted by x1, x2 or x3?"
   ]
  },
  {
   "cell_type": "markdown",
   "id": "f4c28d5d-7ff7-4151-8970-4150fb0abcec",
   "metadata": {
    "id": "f4c28d5d-7ff7-4151-8970-4150fb0abcec"
   },
   "source": [
    "Put things into a pandas array"
   ]
  },
  {
   "cell_type": "code",
   "execution_count": 3,
   "id": "1429cbae-05da-4b3a-9409-faa8915ddbc5",
   "metadata": {
    "executionInfo": {
     "elapsed": 41,
     "status": "ok",
     "timestamp": 1706232875197,
     "user": {
      "displayName": "Devan Morehouse",
      "userId": "12659030949256190002"
     },
     "user_tz": 300
    },
    "id": "1429cbae-05da-4b3a-9409-faa8915ddbc5"
   },
   "outputs": [],
   "source": [
    "X=pd.DataFrame(x1,columns=['x1'])\n",
    "X['x2']=x2\n",
    "X['x3']=x3"
   ]
  },
  {
   "cell_type": "code",
   "execution_count": 4,
   "id": "0046665c-bec8-4c20-96e8-88e69d094524",
   "metadata": {
    "colab": {
     "base_uri": "https://localhost:8080/",
     "height": 206
    },
    "executionInfo": {
     "elapsed": 39,
     "status": "ok",
     "timestamp": 1706232875198,
     "user": {
      "displayName": "Devan Morehouse",
      "userId": "12659030949256190002"
     },
     "user_tz": 300
    },
    "id": "0046665c-bec8-4c20-96e8-88e69d094524",
    "outputId": "c78e3184-2a1d-47ce-8ce4-2b20f0ecb31c"
   },
   "outputs": [
    {
     "data": {
      "text/html": [
       "\n",
       "  <div id=\"df-4ff58d72-38a6-4102-b37d-a82c94712bd6\" class=\"colab-df-container\">\n",
       "    <div>\n",
       "<style scoped>\n",
       "    .dataframe tbody tr th:only-of-type {\n",
       "        vertical-align: middle;\n",
       "    }\n",
       "\n",
       "    .dataframe tbody tr th {\n",
       "        vertical-align: top;\n",
       "    }\n",
       "\n",
       "    .dataframe thead th {\n",
       "        text-align: right;\n",
       "    }\n",
       "</style>\n",
       "<table border=\"1\" class=\"dataframe\">\n",
       "  <thead>\n",
       "    <tr style=\"text-align: right;\">\n",
       "      <th></th>\n",
       "      <th>x1</th>\n",
       "      <th>x2</th>\n",
       "      <th>x3</th>\n",
       "    </tr>\n",
       "  </thead>\n",
       "  <tbody>\n",
       "    <tr>\n",
       "      <th>0</th>\n",
       "      <td>0.135349</td>\n",
       "      <td>-3.269062</td>\n",
       "      <td>-1.488947</td>\n",
       "    </tr>\n",
       "    <tr>\n",
       "      <th>1</th>\n",
       "      <td>1.968518</td>\n",
       "      <td>2.750372</td>\n",
       "      <td>2.186532</td>\n",
       "    </tr>\n",
       "    <tr>\n",
       "      <th>2</th>\n",
       "      <td>-1.485521</td>\n",
       "      <td>1.597218</td>\n",
       "      <td>0.254440</td>\n",
       "    </tr>\n",
       "    <tr>\n",
       "      <th>3</th>\n",
       "      <td>-1.158635</td>\n",
       "      <td>0.532057</td>\n",
       "      <td>1.484048</td>\n",
       "    </tr>\n",
       "    <tr>\n",
       "      <th>4</th>\n",
       "      <td>-3.487669</td>\n",
       "      <td>-0.045296</td>\n",
       "      <td>3.756608</td>\n",
       "    </tr>\n",
       "  </tbody>\n",
       "</table>\n",
       "</div>\n",
       "    <div class=\"colab-df-buttons\">\n",
       "\n",
       "  <div class=\"colab-df-container\">\n",
       "    <button class=\"colab-df-convert\" onclick=\"convertToInteractive('df-4ff58d72-38a6-4102-b37d-a82c94712bd6')\"\n",
       "            title=\"Convert this dataframe to an interactive table.\"\n",
       "            style=\"display:none;\">\n",
       "\n",
       "  <svg xmlns=\"http://www.w3.org/2000/svg\" height=\"24px\" viewBox=\"0 -960 960 960\">\n",
       "    <path d=\"M120-120v-720h720v720H120Zm60-500h600v-160H180v160Zm220 220h160v-160H400v160Zm0 220h160v-160H400v160ZM180-400h160v-160H180v160Zm440 0h160v-160H620v160ZM180-180h160v-160H180v160Zm440 0h160v-160H620v160Z\"/>\n",
       "  </svg>\n",
       "    </button>\n",
       "\n",
       "  <style>\n",
       "    .colab-df-container {\n",
       "      display:flex;\n",
       "      gap: 12px;\n",
       "    }\n",
       "\n",
       "    .colab-df-convert {\n",
       "      background-color: #E8F0FE;\n",
       "      border: none;\n",
       "      border-radius: 50%;\n",
       "      cursor: pointer;\n",
       "      display: none;\n",
       "      fill: #1967D2;\n",
       "      height: 32px;\n",
       "      padding: 0 0 0 0;\n",
       "      width: 32px;\n",
       "    }\n",
       "\n",
       "    .colab-df-convert:hover {\n",
       "      background-color: #E2EBFA;\n",
       "      box-shadow: 0px 1px 2px rgba(60, 64, 67, 0.3), 0px 1px 3px 1px rgba(60, 64, 67, 0.15);\n",
       "      fill: #174EA6;\n",
       "    }\n",
       "\n",
       "    .colab-df-buttons div {\n",
       "      margin-bottom: 4px;\n",
       "    }\n",
       "\n",
       "    [theme=dark] .colab-df-convert {\n",
       "      background-color: #3B4455;\n",
       "      fill: #D2E3FC;\n",
       "    }\n",
       "\n",
       "    [theme=dark] .colab-df-convert:hover {\n",
       "      background-color: #434B5C;\n",
       "      box-shadow: 0px 1px 3px 1px rgba(0, 0, 0, 0.15);\n",
       "      filter: drop-shadow(0px 1px 2px rgba(0, 0, 0, 0.3));\n",
       "      fill: #FFFFFF;\n",
       "    }\n",
       "  </style>\n",
       "\n",
       "    <script>\n",
       "      const buttonEl =\n",
       "        document.querySelector('#df-4ff58d72-38a6-4102-b37d-a82c94712bd6 button.colab-df-convert');\n",
       "      buttonEl.style.display =\n",
       "        google.colab.kernel.accessAllowed ? 'block' : 'none';\n",
       "\n",
       "      async function convertToInteractive(key) {\n",
       "        const element = document.querySelector('#df-4ff58d72-38a6-4102-b37d-a82c94712bd6');\n",
       "        const dataTable =\n",
       "          await google.colab.kernel.invokeFunction('convertToInteractive',\n",
       "                                                    [key], {});\n",
       "        if (!dataTable) return;\n",
       "\n",
       "        const docLinkHtml = 'Like what you see? Visit the ' +\n",
       "          '<a target=\"_blank\" href=https://colab.research.google.com/notebooks/data_table.ipynb>data table notebook</a>'\n",
       "          + ' to learn more about interactive tables.';\n",
       "        element.innerHTML = '';\n",
       "        dataTable['output_type'] = 'display_data';\n",
       "        await google.colab.output.renderOutput(dataTable, element);\n",
       "        const docLink = document.createElement('div');\n",
       "        docLink.innerHTML = docLinkHtml;\n",
       "        element.appendChild(docLink);\n",
       "      }\n",
       "    </script>\n",
       "  </div>\n",
       "\n",
       "\n",
       "<div id=\"df-aff3d741-ac31-4bed-a573-13a13a4c2af0\">\n",
       "  <button class=\"colab-df-quickchart\" onclick=\"quickchart('df-aff3d741-ac31-4bed-a573-13a13a4c2af0')\"\n",
       "            title=\"Suggest charts\"\n",
       "            style=\"display:none;\">\n",
       "\n",
       "<svg xmlns=\"http://www.w3.org/2000/svg\" height=\"24px\"viewBox=\"0 0 24 24\"\n",
       "     width=\"24px\">\n",
       "    <g>\n",
       "        <path d=\"M19 3H5c-1.1 0-2 .9-2 2v14c0 1.1.9 2 2 2h14c1.1 0 2-.9 2-2V5c0-1.1-.9-2-2-2zM9 17H7v-7h2v7zm4 0h-2V7h2v10zm4 0h-2v-4h2v4z\"/>\n",
       "    </g>\n",
       "</svg>\n",
       "  </button>\n",
       "\n",
       "<style>\n",
       "  .colab-df-quickchart {\n",
       "      --bg-color: #E8F0FE;\n",
       "      --fill-color: #1967D2;\n",
       "      --hover-bg-color: #E2EBFA;\n",
       "      --hover-fill-color: #174EA6;\n",
       "      --disabled-fill-color: #AAA;\n",
       "      --disabled-bg-color: #DDD;\n",
       "  }\n",
       "\n",
       "  [theme=dark] .colab-df-quickchart {\n",
       "      --bg-color: #3B4455;\n",
       "      --fill-color: #D2E3FC;\n",
       "      --hover-bg-color: #434B5C;\n",
       "      --hover-fill-color: #FFFFFF;\n",
       "      --disabled-bg-color: #3B4455;\n",
       "      --disabled-fill-color: #666;\n",
       "  }\n",
       "\n",
       "  .colab-df-quickchart {\n",
       "    background-color: var(--bg-color);\n",
       "    border: none;\n",
       "    border-radius: 50%;\n",
       "    cursor: pointer;\n",
       "    display: none;\n",
       "    fill: var(--fill-color);\n",
       "    height: 32px;\n",
       "    padding: 0;\n",
       "    width: 32px;\n",
       "  }\n",
       "\n",
       "  .colab-df-quickchart:hover {\n",
       "    background-color: var(--hover-bg-color);\n",
       "    box-shadow: 0 1px 2px rgba(60, 64, 67, 0.3), 0 1px 3px 1px rgba(60, 64, 67, 0.15);\n",
       "    fill: var(--button-hover-fill-color);\n",
       "  }\n",
       "\n",
       "  .colab-df-quickchart-complete:disabled,\n",
       "  .colab-df-quickchart-complete:disabled:hover {\n",
       "    background-color: var(--disabled-bg-color);\n",
       "    fill: var(--disabled-fill-color);\n",
       "    box-shadow: none;\n",
       "  }\n",
       "\n",
       "  .colab-df-spinner {\n",
       "    border: 2px solid var(--fill-color);\n",
       "    border-color: transparent;\n",
       "    border-bottom-color: var(--fill-color);\n",
       "    animation:\n",
       "      spin 1s steps(1) infinite;\n",
       "  }\n",
       "\n",
       "  @keyframes spin {\n",
       "    0% {\n",
       "      border-color: transparent;\n",
       "      border-bottom-color: var(--fill-color);\n",
       "      border-left-color: var(--fill-color);\n",
       "    }\n",
       "    20% {\n",
       "      border-color: transparent;\n",
       "      border-left-color: var(--fill-color);\n",
       "      border-top-color: var(--fill-color);\n",
       "    }\n",
       "    30% {\n",
       "      border-color: transparent;\n",
       "      border-left-color: var(--fill-color);\n",
       "      border-top-color: var(--fill-color);\n",
       "      border-right-color: var(--fill-color);\n",
       "    }\n",
       "    40% {\n",
       "      border-color: transparent;\n",
       "      border-right-color: var(--fill-color);\n",
       "      border-top-color: var(--fill-color);\n",
       "    }\n",
       "    60% {\n",
       "      border-color: transparent;\n",
       "      border-right-color: var(--fill-color);\n",
       "    }\n",
       "    80% {\n",
       "      border-color: transparent;\n",
       "      border-right-color: var(--fill-color);\n",
       "      border-bottom-color: var(--fill-color);\n",
       "    }\n",
       "    90% {\n",
       "      border-color: transparent;\n",
       "      border-bottom-color: var(--fill-color);\n",
       "    }\n",
       "  }\n",
       "</style>\n",
       "\n",
       "  <script>\n",
       "    async function quickchart(key) {\n",
       "      const quickchartButtonEl =\n",
       "        document.querySelector('#' + key + ' button');\n",
       "      quickchartButtonEl.disabled = true;  // To prevent multiple clicks.\n",
       "      quickchartButtonEl.classList.add('colab-df-spinner');\n",
       "      try {\n",
       "        const charts = await google.colab.kernel.invokeFunction(\n",
       "            'suggestCharts', [key], {});\n",
       "      } catch (error) {\n",
       "        console.error('Error during call to suggestCharts:', error);\n",
       "      }\n",
       "      quickchartButtonEl.classList.remove('colab-df-spinner');\n",
       "      quickchartButtonEl.classList.add('colab-df-quickchart-complete');\n",
       "    }\n",
       "    (() => {\n",
       "      let quickchartButtonEl =\n",
       "        document.querySelector('#df-aff3d741-ac31-4bed-a573-13a13a4c2af0 button');\n",
       "      quickchartButtonEl.style.display =\n",
       "        google.colab.kernel.accessAllowed ? 'block' : 'none';\n",
       "    })();\n",
       "  </script>\n",
       "</div>\n",
       "\n",
       "    </div>\n",
       "  </div>\n"
      ],
      "text/plain": [
       "         x1        x2        x3\n",
       "0  0.135349 -3.269062 -1.488947\n",
       "1  1.968518  2.750372  2.186532\n",
       "2 -1.485521  1.597218  0.254440\n",
       "3 -1.158635  0.532057  1.484048\n",
       "4 -3.487669 -0.045296  3.756608"
      ]
     },
     "execution_count": 4,
     "metadata": {},
     "output_type": "execute_result"
    }
   ],
   "source": [
    "X.head()"
   ]
  },
  {
   "cell_type": "code",
   "execution_count": 5,
   "id": "1aa4884e-f593-4ebd-9b0f-7fa7772b9f06",
   "metadata": {
    "executionInfo": {
     "elapsed": 261,
     "status": "ok",
     "timestamp": 1706232875433,
     "user": {
      "displayName": "Devan Morehouse",
      "userId": "12659030949256190002"
     },
     "user_tz": 300
    },
    "id": "1aa4884e-f593-4ebd-9b0f-7fa7772b9f06"
   },
   "outputs": [],
   "source": [
    "# add a constant column to the predictors, this results in a constant value in the linear model, in the approach used in statsmodels\n",
    "X=sm.add_constant(X,prepend=False)"
   ]
  },
  {
   "cell_type": "code",
   "execution_count": 6,
   "id": "9b35cd16-4ccc-4233-a95d-2f5101f29a6d",
   "metadata": {
    "colab": {
     "base_uri": "https://localhost:8080/",
     "height": 206
    },
    "executionInfo": {
     "elapsed": 27,
     "status": "ok",
     "timestamp": 1706232875433,
     "user": {
      "displayName": "Devan Morehouse",
      "userId": "12659030949256190002"
     },
     "user_tz": 300
    },
    "id": "9b35cd16-4ccc-4233-a95d-2f5101f29a6d",
    "outputId": "994a699f-b205-471f-f9d8-3b22b3eb31bd"
   },
   "outputs": [
    {
     "data": {
      "text/html": [
       "\n",
       "  <div id=\"df-a48d9038-6acc-4357-9ab6-a2fb531982ba\" class=\"colab-df-container\">\n",
       "    <div>\n",
       "<style scoped>\n",
       "    .dataframe tbody tr th:only-of-type {\n",
       "        vertical-align: middle;\n",
       "    }\n",
       "\n",
       "    .dataframe tbody tr th {\n",
       "        vertical-align: top;\n",
       "    }\n",
       "\n",
       "    .dataframe thead th {\n",
       "        text-align: right;\n",
       "    }\n",
       "</style>\n",
       "<table border=\"1\" class=\"dataframe\">\n",
       "  <thead>\n",
       "    <tr style=\"text-align: right;\">\n",
       "      <th></th>\n",
       "      <th>x1</th>\n",
       "      <th>x2</th>\n",
       "      <th>x3</th>\n",
       "      <th>const</th>\n",
       "    </tr>\n",
       "  </thead>\n",
       "  <tbody>\n",
       "    <tr>\n",
       "      <th>0</th>\n",
       "      <td>0.135349</td>\n",
       "      <td>-3.269062</td>\n",
       "      <td>-1.488947</td>\n",
       "      <td>1.0</td>\n",
       "    </tr>\n",
       "    <tr>\n",
       "      <th>1</th>\n",
       "      <td>1.968518</td>\n",
       "      <td>2.750372</td>\n",
       "      <td>2.186532</td>\n",
       "      <td>1.0</td>\n",
       "    </tr>\n",
       "    <tr>\n",
       "      <th>2</th>\n",
       "      <td>-1.485521</td>\n",
       "      <td>1.597218</td>\n",
       "      <td>0.254440</td>\n",
       "      <td>1.0</td>\n",
       "    </tr>\n",
       "    <tr>\n",
       "      <th>3</th>\n",
       "      <td>-1.158635</td>\n",
       "      <td>0.532057</td>\n",
       "      <td>1.484048</td>\n",
       "      <td>1.0</td>\n",
       "    </tr>\n",
       "    <tr>\n",
       "      <th>4</th>\n",
       "      <td>-3.487669</td>\n",
       "      <td>-0.045296</td>\n",
       "      <td>3.756608</td>\n",
       "      <td>1.0</td>\n",
       "    </tr>\n",
       "  </tbody>\n",
       "</table>\n",
       "</div>\n",
       "    <div class=\"colab-df-buttons\">\n",
       "\n",
       "  <div class=\"colab-df-container\">\n",
       "    <button class=\"colab-df-convert\" onclick=\"convertToInteractive('df-a48d9038-6acc-4357-9ab6-a2fb531982ba')\"\n",
       "            title=\"Convert this dataframe to an interactive table.\"\n",
       "            style=\"display:none;\">\n",
       "\n",
       "  <svg xmlns=\"http://www.w3.org/2000/svg\" height=\"24px\" viewBox=\"0 -960 960 960\">\n",
       "    <path d=\"M120-120v-720h720v720H120Zm60-500h600v-160H180v160Zm220 220h160v-160H400v160Zm0 220h160v-160H400v160ZM180-400h160v-160H180v160Zm440 0h160v-160H620v160ZM180-180h160v-160H180v160Zm440 0h160v-160H620v160Z\"/>\n",
       "  </svg>\n",
       "    </button>\n",
       "\n",
       "  <style>\n",
       "    .colab-df-container {\n",
       "      display:flex;\n",
       "      gap: 12px;\n",
       "    }\n",
       "\n",
       "    .colab-df-convert {\n",
       "      background-color: #E8F0FE;\n",
       "      border: none;\n",
       "      border-radius: 50%;\n",
       "      cursor: pointer;\n",
       "      display: none;\n",
       "      fill: #1967D2;\n",
       "      height: 32px;\n",
       "      padding: 0 0 0 0;\n",
       "      width: 32px;\n",
       "    }\n",
       "\n",
       "    .colab-df-convert:hover {\n",
       "      background-color: #E2EBFA;\n",
       "      box-shadow: 0px 1px 2px rgba(60, 64, 67, 0.3), 0px 1px 3px 1px rgba(60, 64, 67, 0.15);\n",
       "      fill: #174EA6;\n",
       "    }\n",
       "\n",
       "    .colab-df-buttons div {\n",
       "      margin-bottom: 4px;\n",
       "    }\n",
       "\n",
       "    [theme=dark] .colab-df-convert {\n",
       "      background-color: #3B4455;\n",
       "      fill: #D2E3FC;\n",
       "    }\n",
       "\n",
       "    [theme=dark] .colab-df-convert:hover {\n",
       "      background-color: #434B5C;\n",
       "      box-shadow: 0px 1px 3px 1px rgba(0, 0, 0, 0.15);\n",
       "      filter: drop-shadow(0px 1px 2px rgba(0, 0, 0, 0.3));\n",
       "      fill: #FFFFFF;\n",
       "    }\n",
       "  </style>\n",
       "\n",
       "    <script>\n",
       "      const buttonEl =\n",
       "        document.querySelector('#df-a48d9038-6acc-4357-9ab6-a2fb531982ba button.colab-df-convert');\n",
       "      buttonEl.style.display =\n",
       "        google.colab.kernel.accessAllowed ? 'block' : 'none';\n",
       "\n",
       "      async function convertToInteractive(key) {\n",
       "        const element = document.querySelector('#df-a48d9038-6acc-4357-9ab6-a2fb531982ba');\n",
       "        const dataTable =\n",
       "          await google.colab.kernel.invokeFunction('convertToInteractive',\n",
       "                                                    [key], {});\n",
       "        if (!dataTable) return;\n",
       "\n",
       "        const docLinkHtml = 'Like what you see? Visit the ' +\n",
       "          '<a target=\"_blank\" href=https://colab.research.google.com/notebooks/data_table.ipynb>data table notebook</a>'\n",
       "          + ' to learn more about interactive tables.';\n",
       "        element.innerHTML = '';\n",
       "        dataTable['output_type'] = 'display_data';\n",
       "        await google.colab.output.renderOutput(dataTable, element);\n",
       "        const docLink = document.createElement('div');\n",
       "        docLink.innerHTML = docLinkHtml;\n",
       "        element.appendChild(docLink);\n",
       "      }\n",
       "    </script>\n",
       "  </div>\n",
       "\n",
       "\n",
       "<div id=\"df-737a1d3f-7952-4176-a1d9-669b18f426aa\">\n",
       "  <button class=\"colab-df-quickchart\" onclick=\"quickchart('df-737a1d3f-7952-4176-a1d9-669b18f426aa')\"\n",
       "            title=\"Suggest charts\"\n",
       "            style=\"display:none;\">\n",
       "\n",
       "<svg xmlns=\"http://www.w3.org/2000/svg\" height=\"24px\"viewBox=\"0 0 24 24\"\n",
       "     width=\"24px\">\n",
       "    <g>\n",
       "        <path d=\"M19 3H5c-1.1 0-2 .9-2 2v14c0 1.1.9 2 2 2h14c1.1 0 2-.9 2-2V5c0-1.1-.9-2-2-2zM9 17H7v-7h2v7zm4 0h-2V7h2v10zm4 0h-2v-4h2v4z\"/>\n",
       "    </g>\n",
       "</svg>\n",
       "  </button>\n",
       "\n",
       "<style>\n",
       "  .colab-df-quickchart {\n",
       "      --bg-color: #E8F0FE;\n",
       "      --fill-color: #1967D2;\n",
       "      --hover-bg-color: #E2EBFA;\n",
       "      --hover-fill-color: #174EA6;\n",
       "      --disabled-fill-color: #AAA;\n",
       "      --disabled-bg-color: #DDD;\n",
       "  }\n",
       "\n",
       "  [theme=dark] .colab-df-quickchart {\n",
       "      --bg-color: #3B4455;\n",
       "      --fill-color: #D2E3FC;\n",
       "      --hover-bg-color: #434B5C;\n",
       "      --hover-fill-color: #FFFFFF;\n",
       "      --disabled-bg-color: #3B4455;\n",
       "      --disabled-fill-color: #666;\n",
       "  }\n",
       "\n",
       "  .colab-df-quickchart {\n",
       "    background-color: var(--bg-color);\n",
       "    border: none;\n",
       "    border-radius: 50%;\n",
       "    cursor: pointer;\n",
       "    display: none;\n",
       "    fill: var(--fill-color);\n",
       "    height: 32px;\n",
       "    padding: 0;\n",
       "    width: 32px;\n",
       "  }\n",
       "\n",
       "  .colab-df-quickchart:hover {\n",
       "    background-color: var(--hover-bg-color);\n",
       "    box-shadow: 0 1px 2px rgba(60, 64, 67, 0.3), 0 1px 3px 1px rgba(60, 64, 67, 0.15);\n",
       "    fill: var(--button-hover-fill-color);\n",
       "  }\n",
       "\n",
       "  .colab-df-quickchart-complete:disabled,\n",
       "  .colab-df-quickchart-complete:disabled:hover {\n",
       "    background-color: var(--disabled-bg-color);\n",
       "    fill: var(--disabled-fill-color);\n",
       "    box-shadow: none;\n",
       "  }\n",
       "\n",
       "  .colab-df-spinner {\n",
       "    border: 2px solid var(--fill-color);\n",
       "    border-color: transparent;\n",
       "    border-bottom-color: var(--fill-color);\n",
       "    animation:\n",
       "      spin 1s steps(1) infinite;\n",
       "  }\n",
       "\n",
       "  @keyframes spin {\n",
       "    0% {\n",
       "      border-color: transparent;\n",
       "      border-bottom-color: var(--fill-color);\n",
       "      border-left-color: var(--fill-color);\n",
       "    }\n",
       "    20% {\n",
       "      border-color: transparent;\n",
       "      border-left-color: var(--fill-color);\n",
       "      border-top-color: var(--fill-color);\n",
       "    }\n",
       "    30% {\n",
       "      border-color: transparent;\n",
       "      border-left-color: var(--fill-color);\n",
       "      border-top-color: var(--fill-color);\n",
       "      border-right-color: var(--fill-color);\n",
       "    }\n",
       "    40% {\n",
       "      border-color: transparent;\n",
       "      border-right-color: var(--fill-color);\n",
       "      border-top-color: var(--fill-color);\n",
       "    }\n",
       "    60% {\n",
       "      border-color: transparent;\n",
       "      border-right-color: var(--fill-color);\n",
       "    }\n",
       "    80% {\n",
       "      border-color: transparent;\n",
       "      border-right-color: var(--fill-color);\n",
       "      border-bottom-color: var(--fill-color);\n",
       "    }\n",
       "    90% {\n",
       "      border-color: transparent;\n",
       "      border-bottom-color: var(--fill-color);\n",
       "    }\n",
       "  }\n",
       "</style>\n",
       "\n",
       "  <script>\n",
       "    async function quickchart(key) {\n",
       "      const quickchartButtonEl =\n",
       "        document.querySelector('#' + key + ' button');\n",
       "      quickchartButtonEl.disabled = true;  // To prevent multiple clicks.\n",
       "      quickchartButtonEl.classList.add('colab-df-spinner');\n",
       "      try {\n",
       "        const charts = await google.colab.kernel.invokeFunction(\n",
       "            'suggestCharts', [key], {});\n",
       "      } catch (error) {\n",
       "        console.error('Error during call to suggestCharts:', error);\n",
       "      }\n",
       "      quickchartButtonEl.classList.remove('colab-df-spinner');\n",
       "      quickchartButtonEl.classList.add('colab-df-quickchart-complete');\n",
       "    }\n",
       "    (() => {\n",
       "      let quickchartButtonEl =\n",
       "        document.querySelector('#df-737a1d3f-7952-4176-a1d9-669b18f426aa button');\n",
       "      quickchartButtonEl.style.display =\n",
       "        google.colab.kernel.accessAllowed ? 'block' : 'none';\n",
       "    })();\n",
       "  </script>\n",
       "</div>\n",
       "\n",
       "    </div>\n",
       "  </div>\n"
      ],
      "text/plain": [
       "         x1        x2        x3  const\n",
       "0  0.135349 -3.269062 -1.488947    1.0\n",
       "1  1.968518  2.750372  2.186532    1.0\n",
       "2 -1.485521  1.597218  0.254440    1.0\n",
       "3 -1.158635  0.532057  1.484048    1.0\n",
       "4 -3.487669 -0.045296  3.756608    1.0"
      ]
     },
     "execution_count": 6,
     "metadata": {},
     "output_type": "execute_result"
    }
   ],
   "source": [
    "#gotta check matters...\n",
    "X.head()"
   ]
  },
  {
   "cell_type": "markdown",
   "id": "2087e5ae-658a-43d0-af5e-0bcfdb680ccf",
   "metadata": {
    "id": "2087e5ae-658a-43d0-af5e-0bcfdb680ccf"
   },
   "source": [
    "# Classical approaches to predictor importance\n",
    "\n",
    "There is a set of classical statistical methods known as Analysis of Variance (ANOVA).   It is meant as a way to determine the amound of variance explained by each term in a model"
   ]
  },
  {
   "cell_type": "code",
   "execution_count": 7,
   "id": "55143719-c24a-4c3c-9079-30e70f12bfd2",
   "metadata": {
    "colab": {
     "base_uri": "https://localhost:8080/"
    },
    "executionInfo": {
     "elapsed": 24,
     "status": "ok",
     "timestamp": 1706232875434,
     "user": {
      "displayName": "Devan Morehouse",
      "userId": "12659030949256190002"
     },
     "user_tz": 300
    },
    "id": "55143719-c24a-4c3c-9079-30e70f12bfd2",
    "outputId": "b9548972-afd3-49f3-ad23-29e9e4ce9cf4"
   },
   "outputs": [
    {
     "name": "stdout",
     "output_type": "stream",
     "text": [
      "                            OLS Regression Results                            \n",
      "==============================================================================\n",
      "Dep. Variable:                      y   R-squared:                       0.950\n",
      "Model:                            OLS   Adj. R-squared:                  0.944\n",
      "Method:                 Least Squares   F-statistic:                     164.0\n",
      "Date:                Fri, 26 Jan 2024   Prob (F-statistic):           5.23e-17\n",
      "Time:                        01:34:40   Log-Likelihood:                -54.413\n",
      "No. Observations:                  30   AIC:                             116.8\n",
      "Df Residuals:                      26   BIC:                             122.4\n",
      "Df Model:                           3                                         \n",
      "Covariance Type:            nonrobust                                         \n",
      "==============================================================================\n",
      "                 coef    std err          t      P>|t|      [0.025      0.975]\n",
      "------------------------------------------------------------------------------\n",
      "x1             1.8103      0.098     18.459      0.000       1.609       2.012\n",
      "x2            -3.0498      0.189    -16.132      0.000      -3.438      -2.661\n",
      "x3             0.1238      0.189      0.656      0.518      -0.264       0.512\n",
      "const          0.2482      0.326      0.761      0.454      -0.423       0.919\n",
      "==============================================================================\n",
      "Omnibus:                        0.196   Durbin-Watson:                   2.264\n",
      "Prob(Omnibus):                  0.906   Jarque-Bera (JB):                0.284\n",
      "Skew:                           0.170   Prob(JB):                        0.868\n",
      "Kurtosis:                       2.665   Cond. No.                         3.72\n",
      "==============================================================================\n",
      "\n",
      "Notes:\n",
      "[1] Standard Errors assume that the covariance matrix of the errors is correctly specified.\n"
     ]
    }
   ],
   "source": [
    "# here is the linear regression model,   Ordinary Least Squares (OLS)\n",
    "# this is from the statsmodels package\n",
    "\n",
    "results = sm.OLS(y,X).fit()\n",
    "print(results.summary())"
   ]
  },
  {
   "cell_type": "markdown",
   "id": "gREs5WXT6Pzb",
   "metadata": {
    "id": "gREs5WXT6Pzb"
   },
   "source": [
    "What does this result mean?\n",
    "\n",
    "Is the overall model, that y is predicted by the whole set (x1,x2,x3 and the constant) statistically significant?   How do you know this?\n",
    "\n",
    "Of the predictor variables, x1,x2,x3 which appear to be meaningful predictors?   How do you know this?"
   ]
  },
  {
   "cell_type": "markdown",
   "id": "EAvtnFtZ7H7y",
   "metadata": {
    "id": "EAvtnFtZ7H7y"
   },
   "source": [
    "Add your answer here"
   ]
  },
  {
   "cell_type": "code",
   "execution_count": 8,
   "id": "9f8d7413-8665-4bb6-800d-f51eca032a51",
   "metadata": {
    "colab": {
     "base_uri": "https://localhost:8080/"
    },
    "executionInfo": {
     "elapsed": 19,
     "status": "ok",
     "timestamp": 1706232875435,
     "user": {
      "displayName": "Devan Morehouse",
      "userId": "12659030949256190002"
     },
     "user_tz": 300
    },
    "id": "9f8d7413-8665-4bb6-800d-f51eca032a51",
    "outputId": "57ce46e8-8936-4cb9-c154-796acb159d51"
   },
   "outputs": [
    {
     "data": {
      "text/plain": [
       "['HC0_se',\n",
       " 'HC1_se',\n",
       " 'HC2_se',\n",
       " 'HC3_se',\n",
       " '_HCCM',\n",
       " '__class__',\n",
       " '__delattr__',\n",
       " '__dict__',\n",
       " '__dir__',\n",
       " '__doc__',\n",
       " '__eq__',\n",
       " '__format__',\n",
       " '__ge__',\n",
       " '__getattribute__',\n",
       " '__gt__',\n",
       " '__hash__',\n",
       " '__init__',\n",
       " '__init_subclass__',\n",
       " '__le__',\n",
       " '__lt__',\n",
       " '__module__',\n",
       " '__ne__',\n",
       " '__new__',\n",
       " '__reduce__',\n",
       " '__reduce_ex__',\n",
       " '__repr__',\n",
       " '__setattr__',\n",
       " '__sizeof__',\n",
       " '__str__',\n",
       " '__subclasshook__',\n",
       " '__weakref__',\n",
       " '_abat_diagonal',\n",
       " '_cache',\n",
       " '_data_attr',\n",
       " '_data_in_cache',\n",
       " '_get_robustcov_results',\n",
       " '_get_wald_nonlinear',\n",
       " '_is_nested',\n",
       " '_transform_predict_exog',\n",
       " '_use_t',\n",
       " '_wexog_singular_values',\n",
       " 'aic',\n",
       " 'bic',\n",
       " 'bse',\n",
       " 'centered_tss',\n",
       " 'compare_f_test',\n",
       " 'compare_lm_test',\n",
       " 'compare_lr_test',\n",
       " 'condition_number',\n",
       " 'conf_int',\n",
       " 'conf_int_el',\n",
       " 'cov_HC0',\n",
       " 'cov_HC1',\n",
       " 'cov_HC2',\n",
       " 'cov_HC3',\n",
       " 'cov_kwds',\n",
       " 'cov_params',\n",
       " 'cov_type',\n",
       " 'df_model',\n",
       " 'df_resid',\n",
       " 'diagn',\n",
       " 'eigenvals',\n",
       " 'el_test',\n",
       " 'ess',\n",
       " 'f_pvalue',\n",
       " 'f_test',\n",
       " 'fittedvalues',\n",
       " 'fvalue',\n",
       " 'get_influence',\n",
       " 'get_prediction',\n",
       " 'get_robustcov_results',\n",
       " 'info_criteria',\n",
       " 'initialize',\n",
       " 'k_constant',\n",
       " 'llf',\n",
       " 'load',\n",
       " 'model',\n",
       " 'mse_model',\n",
       " 'mse_resid',\n",
       " 'mse_total',\n",
       " 'nobs',\n",
       " 'normalized_cov_params',\n",
       " 'outlier_test',\n",
       " 'params',\n",
       " 'predict',\n",
       " 'pvalues',\n",
       " 'remove_data',\n",
       " 'resid',\n",
       " 'resid_pearson',\n",
       " 'rsquared',\n",
       " 'rsquared_adj',\n",
       " 'save',\n",
       " 'scale',\n",
       " 'ssr',\n",
       " 'summary',\n",
       " 'summary2',\n",
       " 't_test',\n",
       " 't_test_pairwise',\n",
       " 'tvalues',\n",
       " 'uncentered_tss',\n",
       " 'use_t',\n",
       " 'wald_test',\n",
       " 'wald_test_terms',\n",
       " 'wresid']"
      ]
     },
     "execution_count": 8,
     "metadata": {},
     "output_type": "execute_result"
    }
   ],
   "source": [
    "dir(results)"
   ]
  },
  {
   "cell_type": "code",
   "execution_count": 9,
   "id": "edb6d93f-135a-45a0-bb5c-b9cbb5c89433",
   "metadata": {
    "colab": {
     "base_uri": "https://localhost:8080/"
    },
    "executionInfo": {
     "elapsed": 15,
     "status": "ok",
     "timestamp": 1706232875435,
     "user": {
      "displayName": "Devan Morehouse",
      "userId": "12659030949256190002"
     },
     "user_tz": 300
    },
    "id": "edb6d93f-135a-45a0-bb5c-b9cbb5c89433",
    "outputId": "d1b1d496-f3c0-4b32-dec6-341e79b9c891"
   },
   "outputs": [
    {
     "name": "stdout",
     "output_type": "stream",
     "text": [
      "0.9498159372549415\n"
     ]
    }
   ],
   "source": [
    "# extract the R^2 value we will use it as our metric of importance\n",
    "obs_r2=results.rsquared\n",
    "print(obs_r2)\n"
   ]
  },
  {
   "cell_type": "code",
   "execution_count": 9,
   "id": "7ce8fe99-a011-494d-8b08-74d06e062518",
   "metadata": {
    "executionInfo": {
     "elapsed": 192,
     "status": "ok",
     "timestamp": 1706232875618,
     "user": {
      "displayName": "Devan Morehouse",
      "userId": "12659030949256190002"
     },
     "user_tz": 300
    },
    "id": "7ce8fe99-a011-494d-8b08-74d06e062518"
   },
   "outputs": [],
   "source": []
  },
  {
   "cell_type": "code",
   "execution_count": 10,
   "id": "905971a4-963a-44ca-ba9a-a522f0944be8",
   "metadata": {
    "colab": {
     "base_uri": "https://localhost:8080/"
    },
    "executionInfo": {
     "elapsed": 440,
     "status": "ok",
     "timestamp": 1706232876054,
     "user": {
      "displayName": "Devan Morehouse",
      "userId": "12659030949256190002"
     },
     "user_tz": 300
    },
    "id": "905971a4-963a-44ca-ba9a-a522f0944be8",
    "outputId": "87f20522-2507-4137-a4a0-756e2f5ce2b6"
   },
   "outputs": [
    {
     "data": {
      "text/plain": [
       "0.6272855585816256"
      ]
     },
     "execution_count": 10,
     "metadata": {},
     "output_type": "execute_result"
    }
   ],
   "source": [
    "x1_change=np.empty(100)\n",
    "\n",
    "for k in np.arange(0,100,1,dtype=\"int32\"):\n",
    "    Xtemp=X.copy()\n",
    "    Xtemp['x1']=np.random.permutation(Xtemp['x1'])\n",
    "    modelx=sm.OLS(y,Xtemp)\n",
    "    resx=modelx.fit()\n",
    "    x1_change[k]=abs(resx.rsquared-obs_r2)\n",
    "\n",
    "\n",
    "x1_change.mean()\n"
   ]
  },
  {
   "cell_type": "markdown",
   "id": "ab1cf2dc-53f0-45b5-ba86-09482c673c0d",
   "metadata": {
    "id": "ab1cf2dc-53f0-45b5-ba86-09482c673c0d"
   },
   "source": [
    "# Question\n",
    "\n",
    "Explain what is happening the the loop above.\n",
    "\n",
    "What is the value of x1_change.mean() telling you?\n",
    "\n",
    "If this value (x1_change.mean()) is large, what does that imply about x1?\n",
    "\n",
    "What if this change.mean is small or even negative?"
   ]
  },
  {
   "cell_type": "markdown",
   "id": "OSR7TGTf7EGS",
   "metadata": {
    "id": "OSR7TGTf7EGS"
   },
   "source": [
    "Add your answer here"
   ]
  },
  {
   "cell_type": "markdown",
   "id": "9addd835",
   "metadata": {
    "colab": {
     "base_uri": "https://localhost:8080/",
     "height": 140
    },
    "executionInfo": {
     "elapsed": 35,
     "status": "error",
     "timestamp": 1706232876056,
     "user": {
      "displayName": "Devan Morehouse",
      "userId": "12659030949256190002"
     },
     "user_tz": 300
    },
    "id": "6b88a1de-7580-4129-b101-5a319a0b8464",
    "outputId": "d5c576b1-0197-4b72-afb2-2e0d68b9187b"
   },
   "source": [
    "### Answer: \n",
    "- Calculating the mean squared error from randomizing the variables\n",
    "- If the value is large  the varible is important and had a big impact on the model\n",
    "- If the value is small  the varible is important and had a small impact on the model"
   ]
  },
  {
   "cell_type": "markdown",
   "id": "56435b42-cb3d-4932-aa3d-8e6875ff4380",
   "metadata": {
    "id": "56435b42-cb3d-4932-aa3d-8e6875ff4380"
   },
   "source": [
    "# Question\n",
    "Find the change in the R^2 produced when x2 and x3 are permuted\n",
    "\n",
    "Use these values to produce a relative ranking of the importance of the 3 variables\n",
    "\n",
    "Cut and paste my code above into cells below, and then modify my code to check whether or not x2 and x3 are useful as predictors.    "
   ]
  },
  {
   "cell_type": "code",
   "execution_count": 12,
   "id": "e402a47b-5692-4105-9bfd-96a1a36944c4",
   "metadata": {
    "colab": {
     "base_uri": "https://localhost:8080/"
    },
    "executionInfo": {
     "elapsed": 510,
     "status": "ok",
     "timestamp": 1706232890561,
     "user": {
      "displayName": "Devan Morehouse",
      "userId": "12659030949256190002"
     },
     "user_tz": 300
    },
    "id": "e402a47b-5692-4105-9bfd-96a1a36944c4",
    "outputId": "daa41e64-3285-4071-dbc6-310191fb9edb"
   },
   "outputs": [
    {
     "data": {
      "text/plain": [
       "0.4799566108778029"
      ]
     },
     "execution_count": 12,
     "metadata": {},
     "output_type": "execute_result"
    }
   ],
   "source": [
    "x2_change=np.empty(100)\n",
    "\n",
    "for k in np.arange(0,100,1,dtype=\"int32\"):\n",
    "    Xtemp=X.copy()\n",
    "    Xtemp['x2']=np.random.permutation(Xtemp['x2'])\n",
    "    modelx=sm.OLS(y,Xtemp)\n",
    "    resx=modelx.fit()\n",
    "    x2_change[k]=abs(resx.rsquared-obs_r2)\n",
    "\n",
    "\n",
    "x2_change.mean()"
   ]
  },
  {
   "cell_type": "code",
   "execution_count": 13,
   "id": "5kZn1XbfDRMe",
   "metadata": {
    "colab": {
     "base_uri": "https://localhost:8080/"
    },
    "executionInfo": {
     "elapsed": 161,
     "status": "ok",
     "timestamp": 1706232892341,
     "user": {
      "displayName": "Devan Morehouse",
      "userId": "12659030949256190002"
     },
     "user_tz": 300
    },
    "id": "5kZn1XbfDRMe",
    "outputId": "fd95a968-9aa1-4adc-cc82-2cce21f72ee7"
   },
   "outputs": [
    {
     "data": {
      "text/plain": [
       "0.0015700616886188711"
      ]
     },
     "execution_count": 13,
     "metadata": {},
     "output_type": "execute_result"
    }
   ],
   "source": [
    "x3_change=np.empty(100)\n",
    "\n",
    "for k in np.arange(0,100,1,dtype=\"int32\"):\n",
    "    Xtemp=X.copy()\n",
    "    Xtemp['x3']=np.random.permutation(Xtemp['x3'])\n",
    "    modelx=sm.OLS(y,Xtemp)\n",
    "    resx=modelx.fit()\n",
    "    x1_change[k]=abs(resx.rsquared-obs_r2)\n",
    "\n",
    "\n",
    "x1_change.mean()"
   ]
  },
  {
   "cell_type": "code",
   "execution_count": null,
   "id": "C123-5f7Z-9_",
   "metadata": {
    "id": "C123-5f7Z-9_"
   },
   "outputs": [],
   "source": [
    "# - Because X1 was the largest varible is important and had a big impact on the model"
   ]
  }
 ],
 "metadata": {
  "colab": {
   "provenance": []
  },
  "kernelspec": {
   "display_name": "Python 3 (ipykernel)",
   "language": "python",
   "name": "python3"
  },
  "language_info": {
   "codemirror_mode": {
    "name": "ipython",
    "version": 3
   },
   "file_extension": ".py",
   "mimetype": "text/x-python",
   "name": "python",
   "nbconvert_exporter": "python",
   "pygments_lexer": "ipython3",
   "version": "3.11.5"
  }
 },
 "nbformat": 4,
 "nbformat_minor": 5
}
