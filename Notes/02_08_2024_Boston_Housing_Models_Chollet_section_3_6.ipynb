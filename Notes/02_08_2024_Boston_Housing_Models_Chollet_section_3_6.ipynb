{
  "cells": [
    {
      "cell_type": "markdown",
      "metadata": {
        "id": "XCKbl_Q43ZEO"
      },
      "source": [
        "## Boston Housing Price Models- Discussed in Chollet section 3.6 page 85\n",
        "\n",
        "Building a regression model in Tensorflow\n",
        "\n",
        "This data set is now generally recognized as being problematic\n",
        "There is an unpleasant racial bias embedded in one variable, and the complete data behind this variable cannot be seen.  Those are problems.\n",
        "\n"
      ]
    },
    {
      "cell_type": "code",
      "execution_count": 1,
      "metadata": {
        "colab": {
          "base_uri": "https://localhost:8080/"
        },
        "id": "a6dm9cdV3ZEP",
        "outputId": "e1feeac1-3943-4b5b-ff90-b832eea34319"
      },
      "outputs": [
        {
          "output_type": "stream",
          "name": "stdout",
          "text": [
            "Downloading data from https://storage.googleapis.com/tensorflow/tf-keras-datasets/boston_housing.npz\n",
            "57026/57026 [==============================] - 0s 0us/step\n"
          ]
        }
      ],
      "source": [
        "import tensorflow as tf\n",
        "from tensorflow.keras.datasets import boston_housing\n",
        "\n",
        "(train_data,train_targets),(test_data,test_targets) =boston_housing.load_data()"
      ]
    },
    {
      "cell_type": "code",
      "execution_count": 2,
      "metadata": {
        "colab": {
          "base_uri": "https://localhost:8080/"
        },
        "id": "jjnKeawR3ZEQ",
        "outputId": "39d36929-60bf-4855-a0b6-3d821955cbac"
      },
      "outputs": [
        {
          "output_type": "execute_result",
          "data": {
            "text/plain": [
              "[PhysicalDevice(name='/physical_device:CPU:0', device_type='CPU')]"
            ]
          },
          "metadata": {},
          "execution_count": 2
        }
      ],
      "source": [
        "tf.config.list_physical_devices()"
      ]
    },
    {
      "cell_type": "code",
      "execution_count": 3,
      "metadata": {
        "id": "CkH-3CJH3ZEQ"
      },
      "outputs": [],
      "source": [
        "gpus = tf.config.experimental.list_physical_devices('GPU')\n",
        "if gpus:\n",
        "    try:\n",
        "        # Currently, memory growth needs to be the same across GPUs\n",
        "        for gpu in gpus:\n",
        "            tf.config.experimental.set_memory_growth(gpu, True)\n",
        "        logical_gpus = tf.config.experimental.list_logical_devices('GPU')\n",
        "        print(len(gpus), \"Physical GPUs,\", len(logical_gpus), \"Logical GPUs\")\n",
        "    except RuntimeError as e:\n",
        "        # Memory growth must be set before GPUs have been initialized\n",
        "        print(e)"
      ]
    },
    {
      "cell_type": "code",
      "execution_count": 4,
      "metadata": {
        "colab": {
          "base_uri": "https://localhost:8080/"
        },
        "id": "OufK_7rm3ZEQ",
        "outputId": "8b3e65c8-6c5f-4367-a0aa-a4c3a0d7b2bc"
      },
      "outputs": [
        {
          "output_type": "execute_result",
          "data": {
            "text/plain": [
              "(404, 13)"
            ]
          },
          "metadata": {},
          "execution_count": 4
        }
      ],
      "source": [
        "train_data.shape"
      ]
    },
    {
      "cell_type": "code",
      "execution_count": 5,
      "metadata": {
        "colab": {
          "base_uri": "https://localhost:8080/"
        },
        "id": "ywqn28up3ZER",
        "outputId": "27f845c2-ed5d-47f2-a45f-a7060e87e3b2"
      },
      "outputs": [
        {
          "output_type": "execute_result",
          "data": {
            "text/plain": [
              "(102, 13)"
            ]
          },
          "metadata": {},
          "execution_count": 5
        }
      ],
      "source": [
        "test_data.shape"
      ]
    },
    {
      "cell_type": "code",
      "execution_count": 6,
      "metadata": {
        "scrolled": true,
        "colab": {
          "base_uri": "https://localhost:8080/"
        },
        "id": "aTxMsI2M3ZER",
        "outputId": "e22bd846-0733-40b4-c755-a21fad275dc2"
      },
      "outputs": [
        {
          "output_type": "execute_result",
          "data": {
            "text/plain": [
              "array([[8.2500e+01, 2.0300e+00, 0.0000e+00, 4.1500e-01, 7.6100e+00,\n",
              "        1.5700e+01, 6.2700e+00, 2.0000e+00, 3.4800e+02, 1.4700e+01,\n",
              "        3.9538e+02, 3.1100e+00],\n",
              "       [0.0000e+00, 1.8100e+01, 0.0000e+00, 6.3100e-01, 4.9700e+00,\n",
              "        1.0000e+02, 1.3325e+00, 2.4000e+01, 6.6600e+02, 2.0200e+01,\n",
              "        3.7552e+02, 3.2600e+00],\n",
              "       [0.0000e+00, 5.1900e+00, 0.0000e+00, 5.1500e-01, 6.0370e+00,\n",
              "        3.4500e+01, 5.9853e+00, 5.0000e+00, 2.2400e+02, 2.0200e+01,\n",
              "        3.9690e+02, 8.0100e+00],\n",
              "       [0.0000e+00, 1.8100e+01, 0.0000e+00, 7.1300e-01, 6.3760e+00,\n",
              "        8.8400e+01, 2.5671e+00, 2.4000e+01, 6.6600e+02, 2.0200e+01,\n",
              "        3.9143e+02, 1.4650e+01]])"
            ]
          },
          "metadata": {},
          "execution_count": 6
        }
      ],
      "source": [
        "train_data[1:5,1:13]"
      ]
    },
    {
      "cell_type": "code",
      "execution_count": 7,
      "metadata": {
        "colab": {
          "base_uri": "https://localhost:8080/"
        },
        "id": "cJAETU4F3ZER",
        "outputId": "31a41244-912c-4d2a-d2ef-990d741f24db"
      },
      "outputs": [
        {
          "output_type": "execute_result",
          "data": {
            "text/plain": [
              "numpy.ndarray"
            ]
          },
          "metadata": {},
          "execution_count": 7
        }
      ],
      "source": [
        "type(train_data)"
      ]
    },
    {
      "cell_type": "markdown",
      "metadata": {
        "id": "qvAtp9qW3ZER"
      },
      "source": [
        "http://lib.stat.cmu.edu/datasets/boston\n",
        "\n",
        "\n",
        "The Boston house-price data of Harrison, D. and Rubinfeld, D.L. 'Hedonic\n",
        " prices and the demand for clean air', J. Environ. Economics & Management,\n",
        " vol.5, 81-102, 1978.   Used in Belsley, Kuh & Welsch, 'Regression diagnostics\n",
        " ...', Wiley, 1980.   N.B. Various transformations are used in the table on\n",
        " pages 244-261 of the latter.\n",
        "\n",
        " Variables in order:\n",
        " CRIM     per capita crime rate by town\n",
        "\n",
        " ZN       proportion of residential land zoned for lots over 25,000 sq.ft.\n",
        "\n",
        " INDUS    proportion of non-retail business acres per town\n",
        "\n",
        " CHAS     Charles River dummy variable (= 1 if tract bounds river; 0 otherwise)\n",
        "\n",
        " NOX      nitric oxides concentration (parts per 10 million)\n",
        "\n",
        " RM       average number of rooms per dwelling\n",
        "\n",
        " AGE      proportion of owner-occupied units built prior to 1940\n",
        "\n",
        " DIS      weighted distances to five Boston employment centres\n",
        "\n",
        " RAD      index of accessibility to radial highways\n",
        "\n",
        " TAX      full-value property-tax rate per $10,000\n",
        "\n",
        " PTRATIO  pupil-teacher ratio by town\n",
        "\n",
        " B        1000(Bk - 0.63)^2 where Bk is the proportion of blacks by town\n",
        "\n",
        " LSTAT    % lower status of the population\n",
        "\n",
        " MEDV     Median value of owner-occupied homes in $1000's"
      ]
    },
    {
      "cell_type": "markdown",
      "metadata": {
        "id": "gHpe8ESC3ZER"
      },
      "source": [
        "the targets are the house price sin thousands of dollars"
      ]
    },
    {
      "cell_type": "markdown",
      "metadata": {
        "id": "qipynksf3ZER"
      },
      "source": [
        "# **Question/Task**\n",
        "\n",
        "Remove the variable B from the data set at this point, before the test-train split\n",
        "\n",
        "Create yourself a list of the variable names as well"
      ]
    },
    {
      "cell_type": "code",
      "source": [
        "# Task"
      ],
      "metadata": {
        "id": "meL549sgGCPo"
      },
      "execution_count": 24,
      "outputs": []
    },
    {
      "cell_type": "code",
      "execution_count": 7,
      "metadata": {
        "id": "iBerqMv23ZES"
      },
      "outputs": [],
      "source": []
    },
    {
      "cell_type": "markdown",
      "metadata": {
        "id": "O0bT7lUj3ZES"
      },
      "source": [
        "Standardize the data, subtracting the mean and dividing by the standard deviation,  this is a \"Z standardization\", and could be done with scikit learn functions, there may be built-in functions in tensorflow as well\n",
        "\n",
        "Note use of the mean and std of the train data to standardardize the test data, the same standardization is used"
      ]
    },
    {
      "cell_type": "code",
      "execution_count": 8,
      "metadata": {
        "id": "aeiqQS3A3ZES"
      },
      "outputs": [],
      "source": [
        "mean=train_data.mean(axis=0)\n",
        "train_data-=mean\n",
        "std=train_data.std(axis=0)\n",
        "train_data=train_data/std\n",
        "\n",
        "test_data -= mean\n",
        "test_data /= std"
      ]
    },
    {
      "cell_type": "markdown",
      "metadata": {
        "id": "bahudLco3ZES"
      },
      "source": [
        "Create a validation set from the training data"
      ]
    },
    {
      "cell_type": "code",
      "execution_count": 9,
      "metadata": {
        "id": "Re5nyLks3ZES"
      },
      "outputs": [],
      "source": [
        "# split off a validation set from the training data\n",
        "from sklearn.model_selection import train_test_split\n",
        "\n",
        "X_train2, X_valid, y_train2, y_valid = train_test_split(train_data, train_targets, test_size=0.2, random_state=42)"
      ]
    },
    {
      "cell_type": "markdown",
      "metadata": {
        "id": "ikB9EZRk3ZES"
      },
      "source": [
        "Build a function to create models"
      ]
    },
    {
      "cell_type": "markdown",
      "metadata": {
        "id": "wlR8BbA93ZES"
      },
      "source": [
        "# ***Questions:***\n",
        "\n",
        "What is the structure of this model?\n",
        "    \n",
        "How many layers?    \n",
        "\n",
        "Why no activation on the output layer?\n",
        "\n",
        "Notice that build_model is a function to create copies of this particular model,  used in the K-fold cross validation used later"
      ]
    },
    {
      "cell_type": "code",
      "execution_count": 10,
      "metadata": {
        "id": "lteM6wkE3ZES"
      },
      "outputs": [],
      "source": [
        "from tensorflow.keras import models\n",
        "from tensorflow.keras import layers\n",
        "\n",
        "def build_model():\n",
        "    model=models.Sequential()\n",
        "    model.add(layers.Dense(64,activation=\"relu\",input_shape=(train_data.shape[1],)))\n",
        "    model.add(layers.Dense(64,activation=\"relu\"))\n",
        "    model.add(layers.Dense(1))\n",
        "\n",
        "    model.compile(optimizer='rmsprop',loss='mse',metrics=['mse','mae'])\n",
        "    return(model)"
      ]
    },
    {
      "cell_type": "code",
      "execution_count": 11,
      "metadata": {
        "id": "TfCWC9W33ZET"
      },
      "outputs": [],
      "source": [
        "from tensorflow.keras.callbacks import History\n",
        "history = History()"
      ]
    },
    {
      "cell_type": "code",
      "execution_count": 12,
      "metadata": {
        "colab": {
          "base_uri": "https://localhost:8080/"
        },
        "id": "3jYA6Cdd3ZET",
        "outputId": "d5326174-43f3-4d92-8bcd-1a6b5aeb0d32"
      },
      "outputs": [
        {
          "metadata": {
            "tags": null
          },
          "name": "stdout",
          "output_type": "stream",
          "text": [
            "Epoch 1/60\n",
            "6/6 [==============================] - 2s 100ms/step - loss: 613.4221 - mse: 613.4221 - mae: 22.8007 - val_loss: 441.9888 - val_mse: 441.9888 - val_mae: 19.7518\n",
            "Epoch 2/60\n",
            "6/6 [==============================] - 0s 38ms/step - loss: 562.2900 - mse: 562.2900 - mae: 21.7008 - val_loss: 404.8550 - val_mse: 404.8550 - val_mae: 18.8053\n",
            "Epoch 3/60\n",
            "6/6 [==============================] - 0s 34ms/step - loss: 517.2238 - mse: 517.2238 - mae: 20.6826 - val_loss: 371.3527 - val_mse: 371.3527 - val_mae: 17.8993\n",
            "Epoch 4/60\n",
            "6/6 [==============================] - 0s 25ms/step - loss: 474.1097 - mse: 474.1097 - mae: 19.6328 - val_loss: 335.5793 - val_mse: 335.5793 - val_mae: 16.8664\n",
            "Epoch 5/60\n",
            "6/6 [==============================] - 0s 38ms/step - loss: 427.5535 - mse: 427.5535 - mae: 18.4656 - val_loss: 297.9335 - val_mse: 297.9335 - val_mae: 15.7205\n",
            "Epoch 6/60\n",
            "6/6 [==============================] - 0s 49ms/step - loss: 378.9018 - mse: 378.9018 - mae: 17.1732 - val_loss: 258.4138 - val_mse: 258.4138 - val_mae: 14.4715\n",
            "Epoch 7/60\n",
            "6/6 [==============================] - 0s 34ms/step - loss: 327.6484 - mse: 327.6484 - mae: 15.7658 - val_loss: 217.6516 - val_mse: 217.6516 - val_mae: 13.1509\n",
            "Epoch 8/60\n",
            "6/6 [==============================] - 0s 42ms/step - loss: 274.6324 - mse: 274.6324 - mae: 14.2412 - val_loss: 179.3945 - val_mse: 179.3945 - val_mae: 11.7834\n",
            "Epoch 9/60\n",
            "6/6 [==============================] - 0s 16ms/step - loss: 225.7018 - mse: 225.7018 - mae: 12.7075 - val_loss: 141.5573 - val_mse: 141.5573 - val_mae: 10.2725\n",
            "Epoch 10/60\n",
            "6/6 [==============================] - 0s 29ms/step - loss: 178.3413 - mse: 178.3413 - mae: 11.0322 - val_loss: 111.5531 - val_mse: 111.5531 - val_mae: 8.8778\n",
            "Epoch 11/60\n",
            "6/6 [==============================] - 0s 23ms/step - loss: 141.6526 - mse: 141.6526 - mae: 9.4829 - val_loss: 89.1715 - val_mse: 89.1715 - val_mae: 7.7671\n",
            "Epoch 12/60\n",
            "6/6 [==============================] - 0s 15ms/step - loss: 114.0989 - mse: 114.0989 - mae: 8.2525 - val_loss: 69.2474 - val_mse: 69.2474 - val_mae: 6.7272\n",
            "Epoch 13/60\n",
            "6/6 [==============================] - 0s 17ms/step - loss: 91.5115 - mse: 91.5115 - mae: 7.1694 - val_loss: 52.7613 - val_mse: 52.7613 - val_mae: 5.9301\n",
            "Epoch 14/60\n",
            "6/6 [==============================] - 0s 18ms/step - loss: 73.4970 - mse: 73.4970 - mae: 6.3259 - val_loss: 44.4819 - val_mse: 44.4819 - val_mae: 5.4971\n",
            "Epoch 15/60\n",
            "6/6 [==============================] - 0s 17ms/step - loss: 64.1087 - mse: 64.1087 - mae: 5.8812 - val_loss: 37.1727 - val_mse: 37.1727 - val_mae: 5.0840\n",
            "Epoch 16/60\n",
            "6/6 [==============================] - 0s 14ms/step - loss: 55.9788 - mse: 55.9788 - mae: 5.4853 - val_loss: 31.3540 - val_mse: 31.3540 - val_mae: 4.7003\n",
            "Epoch 17/60\n",
            "6/6 [==============================] - 0s 16ms/step - loss: 49.8299 - mse: 49.8299 - mae: 5.1639 - val_loss: 27.3974 - val_mse: 27.3974 - val_mae: 4.3940\n",
            "Epoch 18/60\n",
            "6/6 [==============================] - 0s 21ms/step - loss: 44.5456 - mse: 44.5456 - mae: 4.8378 - val_loss: 23.7316 - val_mse: 23.7316 - val_mae: 4.1242\n",
            "Epoch 19/60\n",
            "6/6 [==============================] - 0s 16ms/step - loss: 39.7983 - mse: 39.7983 - mae: 4.5483 - val_loss: 21.6402 - val_mse: 21.6402 - val_mae: 3.9083\n",
            "Epoch 20/60\n",
            "6/6 [==============================] - 0s 20ms/step - loss: 36.7447 - mse: 36.7447 - mae: 4.3472 - val_loss: 20.0408 - val_mse: 20.0408 - val_mae: 3.7090\n",
            "Epoch 21/60\n",
            "6/6 [==============================] - 0s 25ms/step - loss: 34.1187 - mse: 34.1187 - mae: 4.1037 - val_loss: 19.2527 - val_mse: 19.2527 - val_mae: 3.6204\n",
            "Epoch 22/60\n",
            "6/6 [==============================] - 0s 29ms/step - loss: 32.0321 - mse: 32.0321 - mae: 3.9740 - val_loss: 19.2462 - val_mse: 19.2462 - val_mae: 3.5391\n",
            "Epoch 23/60\n",
            "6/6 [==============================] - 0s 22ms/step - loss: 30.6474 - mse: 30.6474 - mae: 3.8336 - val_loss: 18.0862 - val_mse: 18.0862 - val_mae: 3.3776\n",
            "Epoch 24/60\n",
            "6/6 [==============================] - 0s 41ms/step - loss: 29.1950 - mse: 29.1950 - mae: 3.7303 - val_loss: 18.6473 - val_mse: 18.6473 - val_mae: 3.4462\n",
            "Epoch 25/60\n",
            "6/6 [==============================] - 0s 27ms/step - loss: 28.1176 - mse: 28.1176 - mae: 3.6554 - val_loss: 17.5501 - val_mse: 17.5501 - val_mae: 3.3595\n",
            "Epoch 26/60\n",
            "6/6 [==============================] - 0s 25ms/step - loss: 27.0736 - mse: 27.0736 - mae: 3.5572 - val_loss: 17.1239 - val_mse: 17.1239 - val_mae: 3.2478\n",
            "Epoch 27/60\n",
            "6/6 [==============================] - 0s 38ms/step - loss: 25.6136 - mse: 25.6136 - mae: 3.4603 - val_loss: 16.7233 - val_mse: 16.7233 - val_mae: 3.2260\n",
            "Epoch 28/60\n",
            "6/6 [==============================] - 0s 38ms/step - loss: 24.7224 - mse: 24.7224 - mae: 3.3605 - val_loss: 18.6411 - val_mse: 18.6411 - val_mae: 3.4438\n",
            "Epoch 29/60\n",
            "6/6 [==============================] - 0s 44ms/step - loss: 24.2306 - mse: 24.2306 - mae: 3.3880 - val_loss: 16.5308 - val_mse: 16.5308 - val_mae: 3.1634\n",
            "Epoch 30/60\n",
            "6/6 [==============================] - 0s 46ms/step - loss: 22.7353 - mse: 22.7353 - mae: 3.2203 - val_loss: 15.6712 - val_mse: 15.6712 - val_mae: 3.0048\n",
            "Epoch 31/60\n",
            "6/6 [==============================] - 0s 30ms/step - loss: 22.0056 - mse: 22.0056 - mae: 3.1186 - val_loss: 16.9328 - val_mse: 16.9328 - val_mae: 3.2118\n",
            "Epoch 32/60\n",
            "6/6 [==============================] - 0s 24ms/step - loss: 21.6922 - mse: 21.6922 - mae: 3.1571 - val_loss: 15.1335 - val_mse: 15.1335 - val_mae: 2.9118\n",
            "Epoch 33/60\n",
            "6/6 [==============================] - 0s 47ms/step - loss: 20.9500 - mse: 20.9500 - mae: 3.0127 - val_loss: 14.7589 - val_mse: 14.7589 - val_mae: 2.8748\n",
            "Epoch 34/60\n",
            "6/6 [==============================] - 0s 33ms/step - loss: 20.6645 - mse: 20.6645 - mae: 2.9862 - val_loss: 14.9665 - val_mse: 14.9665 - val_mae: 2.9350\n",
            "Epoch 35/60\n",
            "6/6 [==============================] - 0s 36ms/step - loss: 19.9008 - mse: 19.9008 - mae: 2.9644 - val_loss: 14.3414 - val_mse: 14.3414 - val_mae: 2.8473\n",
            "Epoch 36/60\n",
            "6/6 [==============================] - 0s 34ms/step - loss: 19.1888 - mse: 19.1888 - mae: 2.9077 - val_loss: 14.0746 - val_mse: 14.0746 - val_mae: 2.8421\n",
            "Epoch 37/60\n",
            "6/6 [==============================] - 0s 21ms/step - loss: 18.6217 - mse: 18.6217 - mae: 2.8746 - val_loss: 15.8270 - val_mse: 15.8270 - val_mae: 3.0443\n",
            "Epoch 38/60\n",
            "6/6 [==============================] - 0s 23ms/step - loss: 18.1342 - mse: 18.1342 - mae: 2.9233 - val_loss: 15.0747 - val_mse: 15.0747 - val_mae: 3.0019\n",
            "Epoch 39/60\n",
            "6/6 [==============================] - 0s 15ms/step - loss: 18.2017 - mse: 18.2017 - mae: 2.9197 - val_loss: 14.4114 - val_mse: 14.4114 - val_mae: 2.8702\n",
            "Epoch 40/60\n",
            "6/6 [==============================] - 0s 15ms/step - loss: 17.3094 - mse: 17.3094 - mae: 2.8400 - val_loss: 13.9994 - val_mse: 13.9994 - val_mae: 2.8788\n",
            "Epoch 41/60\n",
            "6/6 [==============================] - 0s 19ms/step - loss: 17.6978 - mse: 17.6978 - mae: 2.8943 - val_loss: 13.8170 - val_mse: 13.8170 - val_mae: 2.8199\n",
            "Epoch 42/60\n",
            "6/6 [==============================] - 0s 28ms/step - loss: 16.9735 - mse: 16.9735 - mae: 2.8232 - val_loss: 13.2727 - val_mse: 13.2727 - val_mae: 2.7534\n",
            "Epoch 43/60\n",
            "6/6 [==============================] - 0s 29ms/step - loss: 16.6383 - mse: 16.6383 - mae: 2.7747 - val_loss: 12.1255 - val_mse: 12.1255 - val_mae: 2.5929\n",
            "Epoch 44/60\n",
            "6/6 [==============================] - 0s 18ms/step - loss: 16.2515 - mse: 16.2515 - mae: 2.6801 - val_loss: 13.4393 - val_mse: 13.4393 - val_mae: 2.7803\n",
            "Epoch 45/60\n",
            "6/6 [==============================] - 0s 37ms/step - loss: 15.9655 - mse: 15.9655 - mae: 2.7342 - val_loss: 15.2918 - val_mse: 15.2918 - val_mae: 3.0318\n",
            "Epoch 46/60\n",
            "6/6 [==============================] - 0s 23ms/step - loss: 16.0139 - mse: 16.0139 - mae: 2.8078 - val_loss: 13.5651 - val_mse: 13.5651 - val_mae: 2.7335\n",
            "Epoch 47/60\n",
            "6/6 [==============================] - 0s 27ms/step - loss: 15.3093 - mse: 15.3093 - mae: 2.6345 - val_loss: 13.5085 - val_mse: 13.5085 - val_mae: 2.7628\n",
            "Epoch 48/60\n",
            "6/6 [==============================] - 0s 16ms/step - loss: 15.0103 - mse: 15.0103 - mae: 2.6376 - val_loss: 15.5040 - val_mse: 15.5040 - val_mae: 3.0124\n",
            "Epoch 49/60\n",
            "6/6 [==============================] - 0s 20ms/step - loss: 15.0318 - mse: 15.0318 - mae: 2.7612 - val_loss: 15.6841 - val_mse: 15.6841 - val_mae: 2.9837\n",
            "Epoch 50/60\n",
            "6/6 [==============================] - 0s 16ms/step - loss: 14.7958 - mse: 14.7958 - mae: 2.7236 - val_loss: 13.9778 - val_mse: 13.9778 - val_mae: 2.8143\n",
            "Epoch 51/60\n",
            "6/6 [==============================] - 0s 24ms/step - loss: 14.2850 - mse: 14.2850 - mae: 2.6417 - val_loss: 12.2907 - val_mse: 12.2907 - val_mae: 2.5958\n",
            "Epoch 52/60\n",
            "6/6 [==============================] - 0s 24ms/step - loss: 13.9467 - mse: 13.9467 - mae: 2.5851 - val_loss: 12.4018 - val_mse: 12.4018 - val_mae: 2.6895\n",
            "Epoch 53/60\n",
            "6/6 [==============================] - 0s 45ms/step - loss: 14.1177 - mse: 14.1177 - mae: 2.5914 - val_loss: 11.3816 - val_mse: 11.3816 - val_mae: 2.5340\n",
            "Epoch 54/60\n",
            "6/6 [==============================] - 0s 18ms/step - loss: 13.6269 - mse: 13.6269 - mae: 2.5173 - val_loss: 11.3357 - val_mse: 11.3357 - val_mae: 2.5196\n",
            "Epoch 55/60\n",
            "6/6 [==============================] - 0s 26ms/step - loss: 13.3678 - mse: 13.3678 - mae: 2.5403 - val_loss: 10.7073 - val_mse: 10.7073 - val_mae: 2.4703\n",
            "Epoch 56/60\n",
            "6/6 [==============================] - 0s 19ms/step - loss: 13.1323 - mse: 13.1323 - mae: 2.4664 - val_loss: 13.0902 - val_mse: 13.0902 - val_mae: 2.7329\n",
            "Epoch 57/60\n",
            "6/6 [==============================] - 0s 20ms/step - loss: 13.1063 - mse: 13.1063 - mae: 2.5900 - val_loss: 12.1803 - val_mse: 12.1803 - val_mae: 2.5931\n",
            "Epoch 58/60\n",
            "6/6 [==============================] - 0s 17ms/step - loss: 12.6722 - mse: 12.6722 - mae: 2.4973 - val_loss: 14.0743 - val_mse: 14.0743 - val_mae: 2.9077\n",
            "Epoch 59/60\n",
            "6/6 [==============================] - 0s 27ms/step - loss: 13.2552 - mse: 13.2552 - mae: 2.5759 - val_loss: 11.0834 - val_mse: 11.0834 - val_mae: 2.5148\n",
            "Epoch 60/60\n",
            "6/6 [==============================] - 0s 13ms/step - loss: 12.5415 - mse: 12.5415 - mae: 2.4487 - val_loss: 11.9527 - val_mse: 11.9527 - val_mae: 2.5553\n"
          ]
        }
      ],
      "source": [
        "model = build_model()\n",
        "# Train the model (in silent mode, verbose=0)\n",
        "num_epochs=60\n",
        "\n",
        "history= model.fit(X_train2, y_train2,epochs=num_epochs, batch_size=64, verbose=1, validation_data=(X_valid, y_valid))"
      ]
    },
    {
      "cell_type": "code",
      "execution_count": 13,
      "metadata": {
        "scrolled": true,
        "id": "bKJlPnzI3ZET"
      },
      "outputs": [],
      "source": [
        "history_dict=history.history"
      ]
    },
    {
      "cell_type": "code",
      "execution_count": 14,
      "metadata": {
        "colab": {
          "base_uri": "https://localhost:8080/"
        },
        "id": "qEPa-ZGW3ZET",
        "outputId": "239dd23c-8e42-421e-ab29-342b602fe7be"
      },
      "outputs": [
        {
          "data": {
            "text/plain": [
              "dict_keys(['loss', 'mse', 'mae', 'val_loss', 'val_mse', 'val_mae'])"
            ]
          },
          "execution_count": 14,
          "metadata": {},
          "output_type": "execute_result"
        }
      ],
      "source": [
        "history_dict.keys()"
      ]
    },
    {
      "cell_type": "code",
      "execution_count": 15,
      "metadata": {
        "scrolled": true,
        "colab": {
          "base_uri": "https://localhost:8080/",
          "height": 472
        },
        "id": "fdp-6ZsY3ZET",
        "outputId": "310407f6-3772-4bae-bece-4c4d8250fe99"
      },
      "outputs": [
        {
          "data": {
            "image/png": "[encoded data removed]",
            "text/plain": [
              "<Figure size 640x480 with 1 Axes>"
            ]
          },
          "metadata": {},
          "output_type": "display_data"
        }
      ],
      "source": [
        "import matplotlib.pyplot as plt\n",
        "\n",
        "mse_values=history_dict['mse']\n",
        "val_mse_values=history_dict['val_mse']\n",
        "epoch=range(1,len(mse_values)+1)\n",
        "\n",
        "plt.plot(epoch,mse_values,label='Training mse')\n",
        "plt.plot(epoch,val_mse_values,label=\"Validation mse\")\n",
        "plt.title(\"Traing and Validation MSE\")\n",
        "plt.xlabel(\"epochs\")\n",
        "plt.ylabel(\"Loss\")\n",
        "#plt.ylim(0,100)\n",
        "plt.legend()\n",
        "plt.show()"
      ]
    },
    {
      "cell_type": "markdown",
      "metadata": {
        "id": "-pU-FxSp3ZET"
      },
      "source": [
        "# ***Question/Test***\n",
        "\n",
        "is there any indication of overfitting here?\n",
        "\n",
        "What does that indicate about model complexity?\n",
        "\n",
        "Create a more complex model (another layer maybe???) and check on it's performance and evidence of overfitting"
      ]
    },
    {
      "cell_type": "code",
      "execution_count": 15,
      "metadata": {
        "id": "BdR2TA2N3ZET"
      },
      "outputs": [],
      "source": []
    },
    {
      "cell_type": "markdown",
      "source": [
        "# ***Questions/Operation***,  \n",
        "\n",
        "** Run Eli5 and Shap on this model to identify the important variables**\n"
      ],
      "metadata": {
        "id": "2Yzw2Qm54XrI"
      }
    },
    {
      "cell_type": "code",
      "source": [],
      "metadata": {
        "id": "jlJQWf824fqg"
      },
      "execution_count": 15,
      "outputs": []
    },
    {
      "cell_type": "markdown",
      "source": [
        "**Question**\n",
        "\n",
        "What is the F value for this model?\n",
        "\n",
        "What is the R^2 or the adjusted R^2 for the model?"
      ],
      "metadata": {
        "id": "-CJxmCwk4gqQ"
      }
    },
    {
      "cell_type": "markdown",
      "metadata": {
        "id": "TxOnC3ub3ZET"
      },
      "source": [
        "# K-fold validation\n",
        "\n",
        "Omit 1/k of the data at a time, build and train the model, then evaluate the performance on the omitted portion\n",
        "\n",
        "This is from an older k-fold validation model,  there are some easier ways to do this"
      ]
    },
    {
      "cell_type": "code",
      "execution_count": 16,
      "metadata": {
        "colab": {
          "base_uri": "https://localhost:8080/"
        },
        "id": "IZJ3a9PS3ZEU",
        "outputId": "b48e9414-beaf-41e6-f65f-2fc7f77070ab"
      },
      "outputs": [
        {
          "metadata": {
            "tags": null
          },
          "name": "stdout",
          "output_type": "stream",
          "text": [
            "processing fold # 0\n",
            "Epoch 1/10\n",
            "303/303 [==============================] - 3s 6ms/step - loss: 201.1525 - mse: 201.1525 - mae: 10.5739\n",
            "Epoch 2/10\n",
            "303/303 [==============================] - 1s 2ms/step - loss: 27.6455 - mse: 27.6455 - mae: 3.6110\n",
            "Epoch 3/10\n",
            "303/303 [==============================] - 0s 2ms/step - loss: 19.7471 - mse: 19.7471 - mae: 3.0214\n",
            "Epoch 4/10\n",
            "303/303 [==============================] - 0s 2ms/step - loss: 16.7697 - mse: 16.7697 - mae: 2.8332\n",
            "Epoch 5/10\n",
            "303/303 [==============================] - 1s 2ms/step - loss: 14.9902 - mse: 14.9902 - mae: 2.6138\n",
            "Epoch 6/10\n",
            "303/303 [==============================] - 1s 2ms/step - loss: 14.1846 - mse: 14.1846 - mae: 2.4799\n",
            "Epoch 7/10\n",
            "303/303 [==============================] - 1s 2ms/step - loss: 12.9114 - mse: 12.9114 - mae: 2.4428\n",
            "Epoch 8/10\n",
            "303/303 [==============================] - 1s 3ms/step - loss: 12.3278 - mse: 12.3278 - mae: 2.4138\n",
            "Epoch 9/10\n",
            "303/303 [==============================] - 1s 3ms/step - loss: 11.9320 - mse: 11.9320 - mae: 2.3679\n",
            "Epoch 10/10\n",
            "303/303 [==============================] - 1s 3ms/step - loss: 11.4402 - mse: 11.4402 - mae: 2.3325\n",
            "processing fold # 1\n",
            "Epoch 1/10\n",
            "303/303 [==============================] - 1s 2ms/step - loss: 213.5724 - mse: 213.5724 - mae: 10.9617\n",
            "Epoch 2/10\n",
            "303/303 [==============================] - 1s 2ms/step - loss: 34.5068 - mse: 34.5068 - mae: 3.8952\n",
            "Epoch 3/10\n",
            "303/303 [==============================] - 1s 3ms/step - loss: 23.2542 - mse: 23.2542 - mae: 3.1211\n",
            "Epoch 4/10\n",
            "303/303 [==============================] - 1s 4ms/step - loss: 18.7634 - mse: 18.7634 - mae: 2.8598\n",
            "Epoch 5/10\n",
            "303/303 [==============================] - 1s 2ms/step - loss: 16.3614 - mse: 16.3614 - mae: 2.6773\n",
            "Epoch 6/10\n",
            "303/303 [==============================] - 0s 2ms/step - loss: 15.2026 - mse: 15.2026 - mae: 2.4699\n",
            "Epoch 7/10\n",
            "303/303 [==============================] - 0s 2ms/step - loss: 13.9004 - mse: 13.9004 - mae: 2.4207\n",
            "Epoch 8/10\n",
            "303/303 [==============================] - 1s 2ms/step - loss: 13.3029 - mse: 13.3029 - mae: 2.2774\n",
            "Epoch 9/10\n",
            "303/303 [==============================] - 1s 2ms/step - loss: 13.0285 - mse: 13.0285 - mae: 2.2739\n",
            "Epoch 10/10\n",
            "303/303 [==============================] - 2s 6ms/step - loss: 11.9546 - mse: 11.9546 - mae: 2.3130\n",
            "processing fold # 2\n",
            "Epoch 1/10\n",
            "303/303 [==============================] - 1s 2ms/step - loss: 194.7238 - mse: 194.7238 - mae: 10.4620\n",
            "Epoch 2/10\n",
            "303/303 [==============================] - 1s 2ms/step - loss: 33.0961 - mse: 33.0961 - mae: 3.7249\n",
            "Epoch 3/10\n",
            "303/303 [==============================] - 1s 2ms/step - loss: 21.2552 - mse: 21.2552 - mae: 3.0888\n",
            "Epoch 4/10\n",
            "303/303 [==============================] - 1s 2ms/step - loss: 16.4782 - mse: 16.4782 - mae: 2.7424\n",
            "Epoch 5/10\n",
            "303/303 [==============================] - 1s 2ms/step - loss: 14.8613 - mse: 14.8613 - mae: 2.5369\n",
            "Epoch 6/10\n",
            "303/303 [==============================] - 1s 2ms/step - loss: 13.6759 - mse: 13.6759 - mae: 2.5036\n",
            "Epoch 7/10\n",
            "303/303 [==============================] - 0s 2ms/step - loss: 12.0903 - mse: 12.0903 - mae: 2.4002\n",
            "Epoch 8/10\n",
            "303/303 [==============================] - 1s 2ms/step - loss: 11.3852 - mse: 11.3852 - mae: 2.3484\n",
            "Epoch 9/10\n",
            "303/303 [==============================] - 1s 2ms/step - loss: 10.9004 - mse: 10.9004 - mae: 2.2335\n",
            "Epoch 10/10\n",
            "303/303 [==============================] - 1s 2ms/step - loss: 10.3743 - mse: 10.3743 - mae: 2.2236\n",
            "processing fold # 3\n",
            "Epoch 1/10\n",
            "303/303 [==============================] - 1s 2ms/step - loss: 213.2721 - mse: 213.2721 - mae: 11.1413\n",
            "Epoch 2/10\n",
            "303/303 [==============================] - 1s 2ms/step - loss: 33.9416 - mse: 33.9416 - mae: 3.8251\n",
            "Epoch 3/10\n",
            "303/303 [==============================] - 1s 2ms/step - loss: 23.9562 - mse: 23.9562 - mae: 3.2164\n",
            "Epoch 4/10\n",
            "303/303 [==============================] - 1s 2ms/step - loss: 19.9999 - mse: 19.9999 - mae: 2.8976\n",
            "Epoch 5/10\n",
            "303/303 [==============================] - 1s 2ms/step - loss: 17.1070 - mse: 17.1070 - mae: 2.6182\n",
            "Epoch 6/10\n",
            "303/303 [==============================] - 1s 2ms/step - loss: 15.0565 - mse: 15.0565 - mae: 2.5411\n",
            "Epoch 7/10\n",
            "303/303 [==============================] - 1s 2ms/step - loss: 13.8550 - mse: 13.8550 - mae: 2.4150\n",
            "Epoch 8/10\n",
            "303/303 [==============================] - 1s 2ms/step - loss: 13.1056 - mse: 13.1056 - mae: 2.3034\n",
            "Epoch 9/10\n",
            "303/303 [==============================] - 1s 2ms/step - loss: 11.9387 - mse: 11.9387 - mae: 2.3035\n",
            "Epoch 10/10\n",
            "303/303 [==============================] - 1s 2ms/step - loss: 11.7166 - mse: 11.7166 - mae: 2.1902\n"
          ]
        }
      ],
      "source": [
        "import numpy as np\n",
        "\n",
        "k=4\n",
        "num_val_samples=len(train_data)//k\n",
        "num_epochs=10\n",
        "all_scores=[]\n",
        "\n",
        "for i in range(k):\n",
        "    print('processing fold #', i)\n",
        "    # Prepare the validation data: data from partition # k\n",
        "    val_data = train_data[i * num_val_samples: (i + 1) * num_val_samples]\n",
        "    val_targets = train_targets[i * num_val_samples: (i + 1) * num_val_samples]\n",
        "\n",
        "    # Prepare the training data: data from all other partitions\n",
        "    partial_train_data = np.concatenate(\n",
        "        [train_data[:i * num_val_samples],\n",
        "         train_data[(i + 1) * num_val_samples:]],\n",
        "        axis=0)\n",
        "    partial_train_targets = np.concatenate(\n",
        "        [train_targets[:i * num_val_samples],\n",
        "         train_targets[(i + 1) * num_val_samples:]],\n",
        "        axis=0)\n",
        "\n",
        "    # Build the Keras model (already compiled)\n",
        "    model = build_model()\n",
        "    # Train the model (in silent mode, verbose=0)\n",
        "    model.fit(partial_train_data, partial_train_targets,\n",
        "              epochs=num_epochs, batch_size=1, verbose=1)          # alter the batch size to change speed here\n",
        "    # Evaluate the model on the validation data\n",
        "    val_mse, val_mae, val_loss = model.evaluate(val_data, val_targets, verbose=0)\n",
        "    all_scores.append(val_mae)"
      ]
    },
    {
      "cell_type": "code",
      "execution_count": 17,
      "metadata": {
        "colab": {
          "base_uri": "https://localhost:8080/"
        },
        "id": "qc7EGhZd3ZEU",
        "outputId": "37919046-b31a-4d21-8beb-930c55331ae0"
      },
      "outputs": [
        {
          "data": {
            "text/plain": [
              "[8.704679489135742, 13.195023536682129, 18.091590881347656, 18.77276039123535]"
            ]
          },
          "execution_count": 17,
          "metadata": {},
          "output_type": "execute_result"
        }
      ],
      "source": [
        "all_scores"
      ]
    },
    {
      "cell_type": "code",
      "execution_count": 18,
      "metadata": {
        "colab": {
          "base_uri": "https://localhost:8080/"
        },
        "id": "RQxGdPa03ZEU",
        "outputId": "599920a6-9d5c-4f74-d613-8599c0f95c29"
      },
      "outputs": [
        {
          "data": {
            "text/plain": [
              "14.69101357460022"
            ]
          },
          "execution_count": 18,
          "metadata": {},
          "output_type": "execute_result"
        }
      ],
      "source": [
        "np.mean(all_scores)"
      ]
    },
    {
      "cell_type": "code",
      "execution_count": 19,
      "metadata": {
        "colab": {
          "base_uri": "https://localhost:8080/"
        },
        "id": "DuFiKhLp3ZEU",
        "outputId": "087e0ec3-43cb-4aba-dbdc-543b9ef8a324"
      },
      "outputs": [
        {
          "data": {
            "text/plain": [
              "4.071202680738846"
            ]
          },
          "execution_count": 19,
          "metadata": {},
          "output_type": "execute_result"
        }
      ],
      "source": [
        "np.std(all_scores)"
      ]
    },
    {
      "cell_type": "markdown",
      "metadata": {
        "id": "aP5qvmCz3ZEU"
      },
      "source": [
        "Tracking training performance over the k-folds- in other words, the average training curve over the folds- this is going to take a while\n",
        "\n",
        "setting verbose=1 turns off the training feedback"
      ]
    },
    {
      "cell_type": "code",
      "execution_count": 20,
      "metadata": {
        "colab": {
          "base_uri": "https://localhost:8080/"
        },
        "id": "TyG5SHbM3ZEU",
        "outputId": "016c4b68-ad7f-427a-b0f4-ad6dc0c85f6b"
      },
      "outputs": [
        {
          "metadata": {
            "tags": null
          },
          "name": "stdout",
          "output_type": "stream",
          "text": [
            "processing fold # 0\n",
            "processing fold # 1\n",
            "processing fold # 2\n",
            "processing fold # 3\n"
          ]
        }
      ],
      "source": [
        "num_epochs = 10   # book uses 500 here-see how much run time you can tolerate, also change the batch size\n",
        "all_mae_histories = []\n",
        "for i in range(k):\n",
        "    print('processing fold #', i)\n",
        "    # Prepare the validation data: data from partition # k\n",
        "    val_data = train_data[i * num_val_samples: (i + 1) * num_val_samples]\n",
        "    val_targets = train_targets[i * num_val_samples: (i + 1) * num_val_samples]\n",
        "\n",
        "    # Prepare the training data: data from all other partitions\n",
        "    partial_train_data = np.concatenate(\n",
        "        [train_data[:i * num_val_samples],\n",
        "         train_data[(i + 1) * num_val_samples:]],\n",
        "        axis=0)\n",
        "    partial_train_targets = np.concatenate(\n",
        "        [train_targets[:i * num_val_samples],\n",
        "         train_targets[(i + 1) * num_val_samples:]],\n",
        "        axis=0)\n",
        "\n",
        "    # Build the Keras model (already compiled)\n",
        "    model = build_model()\n",
        "    # Train the model (in silent mode, verbose=0)\n",
        "    history = model.fit(partial_train_data, partial_train_targets,\n",
        "                        validation_data=(val_data, val_targets),\n",
        "                        epochs=num_epochs, batch_size=16, verbose=0)     #note I changed batch size from 1 to 16 here\n",
        "    mae_history = history.history['val_mae']\n",
        "    all_mae_histories.append(mae_history)"
      ]
    },
    {
      "cell_type": "code",
      "execution_count": 21,
      "metadata": {
        "scrolled": true,
        "colab": {
          "base_uri": "https://localhost:8080/"
        },
        "id": "ND3MSjqC3ZEU",
        "outputId": "3843797e-0d6f-4827-e8e8-86f07625f03a"
      },
      "outputs": [
        {
          "data": {
            "text/plain": [
              "dict_keys(['loss', 'mse', 'mae', 'val_loss', 'val_mse', 'val_mae'])"
            ]
          },
          "execution_count": 21,
          "metadata": {},
          "output_type": "execute_result"
        }
      ],
      "source": [
        "history.history.keys()"
      ]
    },
    {
      "cell_type": "code",
      "execution_count": 22,
      "metadata": {
        "id": "8DcvHRCF3ZEV"
      },
      "outputs": [],
      "source": [
        "average_mae_history = [\n",
        "    np.mean([x[i] for x in all_mae_histories]) for i in range(num_epochs)]"
      ]
    },
    {
      "cell_type": "code",
      "execution_count": 23,
      "metadata": {
        "scrolled": true,
        "colab": {
          "base_uri": "https://localhost:8080/",
          "height": 449
        },
        "id": "4pNyBdWt3ZEV",
        "outputId": "b12b84e3-d024-4f0f-d9c4-6951c5f2f3d5"
      },
      "outputs": [
        {
          "data": {
            "image/png": "[encoded data removed]",
            "text/plain": [
              "<Figure size 640x480 with 1 Axes>"
            ]
          },
          "metadata": {},
          "output_type": "display_data"
        }
      ],
      "source": [
        "import matplotlib.pyplot as plt\n",
        "\n",
        "plt.plot(range(1, len(average_mae_history) + 1), average_mae_history)\n",
        "plt.xlabel('Epochs')\n",
        "plt.ylabel('Validation MAE')\n",
        "plt.show()"
      ]
    },
    {
      "cell_type": "markdown",
      "metadata": {
        "id": "WSgIbfp43ZEV"
      },
      "source": [
        "Replot, but remove the first 10 points, and then smooth the data"
      ]
    },
    {
      "cell_type": "code",
      "execution_count": 23,
      "metadata": {
        "id": "wYPFMGND3ZEV"
      },
      "outputs": [],
      "source": []
    }
  ],
  "metadata": {
    "kernelspec": {
      "display_name": "Python 3 (ipykernel)",
      "language": "python",
      "name": "python3"
    },
    "language_info": {
      "codemirror_mode": {
        "name": "ipython",
        "version": 3
      },
      "file_extension": ".py",
      "mimetype": "text/x-python",
      "name": "python",
      "nbconvert_exporter": "python",
      "pygments_lexer": "ipython3",
      "version": "3.7.13"
    },
    "colab": {
      "provenance": []
    }
  },
  "nbformat": 4,
  "nbformat_minor": 0
}