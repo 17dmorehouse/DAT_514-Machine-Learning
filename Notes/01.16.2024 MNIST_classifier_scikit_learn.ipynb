{
 "cells": [
  {
   "cell_type": "markdown",
   "metadata": {
    "id": "yqTRfpT5I-sr"
   },
   "source": [
    "# Hands on Machine Learning, Building a Neural Net Model\n",
    "\n",
    "Chapter 3 from \"Hands on Maching Learning with Scikit-learn, Keras and Tensorflow\" by Geron\n",
    "\n",
    "Using the MNIST numbers set\n",
    "\n",
    "Using a simple perceptron neural net system\n",
    "\n",
    "Updated January 2023"
   ]
  },
  {
   "cell_type": "markdown",
   "metadata": {
    "id": "HnLlnJmWI-ss"
   },
   "source": [
    "## Yes, you are being thrown into the deep end of the pool\n",
    "\n",
    "The lecture material for the coming week will start to explain this in more detail,  if you feel lost during tonight's\n",
    "exercise,  it's not your fault, but mine.\n",
    "\n",
    "Work through this exercise with your pair programming partner,  ask questions, talk to me, do some reading.\n",
    "\n",
    "You will be able to then relate what happened tonight to the lectures and to the next homework."
   ]
  },
  {
   "cell_type": "markdown",
   "metadata": {
    "id": "XVRk7r8QI-st"
   },
   "source": [
    "## Step 0:  load a classic example data set and understand how it is formated or structured\n",
    "\n",
    "This is a data prep phase\n",
    "\n",
    "Note- Python starts array indexes with zero every time!\n",
    "\n",
    "Second Note- I use the terms scikit-learn and the short version of the name sklearn as well.  This is the same package, we'll see a lot of it."
   ]
  },
  {
   "cell_type": "markdown",
   "metadata": {
    "id": "zmK7x9i8I-st"
   },
   "source": [
    "Load the data set,  same tactic as in the text\n",
    "\n",
    "This is using one of the standard datasets in ML,  the MNist numbers set.  We are using an scikit-learn (sklearn) utility to load it.\n",
    "\n",
    "Note the import statement here to load the package- this will run slowly the first on a given computer,  it download the data from a repository"
   ]
  },
  {
   "cell_type": "code",
   "execution_count": 3,
   "metadata": {
    "colab": {
     "base_uri": "https://localhost:8080/"
    },
    "executionInfo": {
     "elapsed": 62392,
     "status": "ok",
     "timestamp": 1706225771679,
     "user": {
      "displayName": "Devan Morehouse",
      "userId": "12659030949256190002"
     },
     "user_tz": 300
    },
    "id": "4i8ztgxLI-st",
    "outputId": "12f093bc-ac0e-450e-ba97-00596104fdb0",
    "scrolled": true
   },
   "outputs": [
    {
     "name": "stderr",
     "output_type": "stream",
     "text": [
      "/usr/local/lib/python3.10/dist-packages/sklearn/datasets/_openml.py:968: FutureWarning: The default value of `parser` will change from `'liac-arff'` to `'auto'` in 1.4. You can set `parser='auto'` to silence this warning. Therefore, an `ImportError` will be raised from 1.4 if the dataset is dense and pandas is not installed. Note that the pandas parser may return different data types. See the Notes Section in fetch_openml's API doc for details.\n",
      "  warn(\n"
     ]
    },
    {
     "data": {
      "text/plain": [
       "dict_keys(['data', 'target', 'frame', 'categories', 'feature_names', 'target_names', 'DESCR', 'details', 'url'])"
      ]
     },
     "execution_count": 3,
     "metadata": {},
     "output_type": "execute_result"
    }
   ],
   "source": [
    "from sklearn.datasets import fetch_openml\n",
    "mnist = fetch_openml('mnist_784', version=1)\n",
    "mnist.keys()\n",
    "\n",
    "#'DESCR' is a description of the dataset\n",
    "#'data' is the input data (usually a 2D NumPy array)\n",
    "#'target' is the labels were trying to classify to (usually as a 1D NumPy array)"
   ]
  },
  {
   "cell_type": "markdown",
   "metadata": {
    "id": "k0NY4SpzI-su"
   },
   "source": [
    "Many software tools come with these built in datasets that are really helpful in learning\n",
    "how the tools work\n",
    "\n",
    "It is always important to understand how these example data sets are structured,  because it will be necessary to format new data into the form need for the software tool.  This is typically the most tedious, time consuming and annoying part of the process.\n",
    "\n",
    "When looking at examples,  we really need to understand the data formats.\n",
    "\n",
    "In many packages or libraries used in R and Python,  much of the package actually consists\n",
    "of definitions of storage classes or objects to make data handling easier for the calculations done in the package- so you will see new storage classes constantly,  be aware of them"
   ]
  },
  {
   "cell_type": "code",
   "execution_count": 4,
   "metadata": {
    "executionInfo": {
     "elapsed": 199,
     "status": "ok",
     "timestamp": 1706225771872,
     "user": {
      "displayName": "Devan Morehouse",
      "userId": "12659030949256190002"
     },
     "user_tz": 300
    },
    "id": "oglbeUp9I-su"
   },
   "outputs": [],
   "source": [
    "# ?mnist"
   ]
  },
  {
   "cell_type": "markdown",
   "metadata": {
    "id": "sL_g1DJkI-su"
   },
   "source": [
    "# Question/Action\n",
    "\n",
    "Okay, a bunch is kind of an odd object\n",
    "\n",
    "How does it appear to relate to a database like MongoDB? or other systems that use JSON like data storage\n",
    "\n",
    "*Try to connect novel data formats to formats you are more familiar with.  Despite all the different names and formats, there are only a few underlying conceptual ideas.*"
   ]
  },
  {
   "cell_type": "code",
   "execution_count": 5,
   "metadata": {
    "executionInfo": {
     "elapsed": 49,
     "status": "ok",
     "timestamp": 1706225771907,
     "user": {
      "displayName": "Devan Morehouse",
      "userId": "12659030949256190002"
     },
     "user_tz": 300
    },
    "id": "2ih23S-nI-su"
   },
   "outputs": [],
   "source": [
    "#Bunch objects are dictionaries, whose entries can also be accessed as attributes"
   ]
  },
  {
   "cell_type": "markdown",
   "metadata": {
    "id": "XUKFSoomI-su"
   },
   "source": [
    "What does the data look like?   Here we assign the data to X and the target (aka label) to y"
   ]
  },
  {
   "cell_type": "code",
   "execution_count": 6,
   "metadata": {
    "colab": {
     "base_uri": "https://localhost:8080/"
    },
    "executionInfo": {
     "elapsed": 48,
     "status": "ok",
     "timestamp": 1706225771908,
     "user": {
      "displayName": "Devan Morehouse",
      "userId": "12659030949256190002"
     },
     "user_tz": 300
    },
    "id": "uqAYCZOwI-su",
    "outputId": "2a5cb47b-aa96-4bb5-9719-b1c85ed555b3"
   },
   "outputs": [
    {
     "name": "stdout",
     "output_type": "stream",
     "text": [
      "(70000, 784)\n",
      "(70000,)\n"
     ]
    }
   ],
   "source": [
    "X,y=mnist[\"data\"],mnist[\"target\"]\n",
    "print(X.shape)\n",
    "print(y.shape)"
   ]
  },
  {
   "cell_type": "code",
   "execution_count": 7,
   "metadata": {
    "colab": {
     "base_uri": "https://localhost:8080/"
    },
    "executionInfo": {
     "elapsed": 43,
     "status": "ok",
     "timestamp": 1706225771908,
     "user": {
      "displayName": "Devan Morehouse",
      "userId": "12659030949256190002"
     },
     "user_tz": 300
    },
    "id": "pt-dT0z6a_M3",
    "outputId": "10c10975-d62c-4339-8e53-a36395e256d0"
   },
   "outputs": [
    {
     "name": "stdout",
     "output_type": "stream",
     "text": [
      "data\n",
      "target\n",
      "frame\n",
      "categories\n",
      "feature_names\n",
      "target_names\n",
      "DESCR\n",
      "details\n",
      "url\n"
     ]
    }
   ],
   "source": [
    "for items in mnist:\n",
    "print(items)"
   ]
  },
  {
   "cell_type": "code",
   "execution_count": 8,
   "metadata": {
    "executionInfo": {
     "elapsed": 40,
     "status": "ok",
     "timestamp": 1706225771908,
     "user": {
      "displayName": "Devan Morehouse",
      "userId": "12659030949256190002"
     },
     "user_tz": 300
    },
    "id": "04xZjPDHI-sv"
   },
   "outputs": [],
   "source": [
    "?X\n"
   ]
  },
  {
   "cell_type": "markdown",
   "metadata": {
    "id": "9w5id5pUI-sv"
   },
   "source": [
    "It is in linear arrays of 784 values, these are 28 by 28 images, stored as linear vectors.    Each line is a 28x28 image black and white image.    \n",
    "\n",
    "We have 70,000 data points (images) one per line in the variable X, X are the predictor variables for this system, which are actually images.\n",
    "\n",
    "Y are the targets or labels\n",
    "\n",
    "\n",
    "Use the magic command  (which is Jupyter notebook command, rather than a Python command)  %matplotlib inline,   which causes the Python matplotlib package functions to plot to the Jupyter Notebook - you will want to use this command a lot."
   ]
  },
  {
   "cell_type": "code",
   "execution_count": 9,
   "metadata": {
    "executionInfo": {
     "elapsed": 53,
     "status": "ok",
     "timestamp": 1706225771922,
     "user": {
      "displayName": "Devan Morehouse",
      "userId": "12659030949256190002"
     },
     "user_tz": 300
    },
    "id": "3Ec6Hgo-I-sv"
   },
   "outputs": [],
   "source": [
    "%matplotlib inline"
   ]
  },
  {
   "cell_type": "markdown",
   "metadata": {
    "id": "WVAXDUxuI-sv"
   },
   "source": [
    "We'll plot a couple of the images, by reshaping them to 28 x 28 matrices and then using imshow to plot them\n",
    "\n",
    "There is a convention for storing images in rows like this.\n",
    "\n",
    "The image we have here are black and white and have only one color channel (black to white).   Color images have three channels (aka layers),  R, G, B.    \n",
    "\n",
    "Images are stored in 3 D matrices,   usually as indexed as [channel, row, column]\n",
    "\n",
    "For the MNIST digit images we have images that are 1 x 28 x 28\n",
    "\n",
    "Below we convert on image on a row of the data matrix X into a 28 by 28 matrix we can plot\n",
    "\n",
    "\n",
    "See:\n",
    "\n",
    "https://machinelearningmastery.com/a-gentle-introduction-to-channels-first-and-channels-last-image-formats-for-deep-learning/\n",
    "\n",
    "Note the use of the reshape function,  were reshaped a 1 by 784 linear structure into a\n",
    "28 by 28 matrix.   There are a number of ways of doing this"
   ]
  },
  {
   "cell_type": "code",
   "execution_count": 10,
   "metadata": {
    "colab": {
     "base_uri": "https://localhost:8080/",
     "height": 406
    },
    "executionInfo": {
     "elapsed": 355,
     "status": "ok",
     "timestamp": 1706225772224,
     "user": {
      "displayName": "Devan Morehouse",
      "userId": "12659030949256190002"
     },
     "user_tz": 300
    },
    "id": "iPYJuLxII-sv",
    "outputId": "8f22703d-74c1-499e-d2ac-00300e44b89d"
   },
   "outputs": [
    {
     "data": {
      "image/png": "[encoded data removed]",
      "text/plain": [
       "<Figure size 640x480 with 1 Axes>"
      ]
     },
     "metadata": {},
     "output_type": "display_data"
    }
   ],
   "source": [
    "import matplotlib as mpl\n",
    "import matplotlib.pyplot as plt\n",
    "\n",
    "# X is a pandas data frame,   X.iloc[0] is a pandas series containing\n",
    "#  row zero of the dataframe, we then force it to be a numpy array, which can be reshaped\n",
    "# into a matrix\n",
    "\n",
    "some_digit = X.iloc[0].to_numpy()\n",
    "some_digit_image = some_digit.reshape(28, 28)\n",
    "\n",
    "plt.imshow(some_digit_image, cmap=\"binary\") #cmap= binary, returns a image of a grayscale color map that ranges from 0 (white) to 255 (black)\n",
    "plt.axis(\"off\")\n",
    "plt.show()"
   ]
  },
  {
   "cell_type": "markdown",
   "metadata": {
    "id": "gB-9XB-_I-sv"
   },
   "source": [
    "What is the target for this image?"
   ]
  },
  {
   "cell_type": "code",
   "execution_count": 11,
   "metadata": {
    "colab": {
     "base_uri": "https://localhost:8080/",
     "height": 35
    },
    "executionInfo": {
     "elapsed": 6,
     "status": "ok",
     "timestamp": 1706225772224,
     "user": {
      "displayName": "Devan Morehouse",
      "userId": "12659030949256190002"
     },
     "user_tz": 300
    },
    "id": "g6lE8LNYI-sv",
    "outputId": "5bb0ed36-ed73-419e-dab8-81981f1ad98c"
   },
   "outputs": [
    {
     "data": {
      "application/vnd.google.colaboratory.intrinsic+json": {
       "type": "string"
      },
      "text/plain": [
       "'5'"
      ]
     },
     "execution_count": 11,
     "metadata": {},
     "output_type": "execute_result"
    }
   ],
   "source": [
    "y[0] #the targeted image for the first item in the dataset is a 5"
   ]
  },
  {
   "cell_type": "markdown",
   "metadata": {
    "id": "5jz5Zz-YI-sw",
    "tags": []
   },
   "source": [
    "# Question/Action\n",
    "\n",
    "Use google to look up the reshape function\n",
    "\n",
    "What options are there on how to carry out the reshaping?   copy the cell above that does\n",
    "the reshaping and plotting and use a different option for reshaping.  What happens?"
   ]
  },
  {
   "cell_type": "code",
   "execution_count": 12,
   "metadata": {
    "colab": {
     "base_uri": "https://localhost:8080/",
     "height": 406
    },
    "executionInfo": {
     "elapsed": 189,
     "status": "ok",
     "timestamp": 1706225772407,
     "user": {
      "displayName": "Devan Morehouse",
      "userId": "12659030949256190002"
     },
     "user_tz": 300
    },
    "id": "6f-EvaBpI-sw",
    "outputId": "d673cb06-bfab-40a8-87b4-7606ffe9cd4e"
   },
   "outputs": [
    {
     "data": {
      "image/png": "[encoded data removed]",
      "text/plain": [
       "<Figure size 640x480 with 1 Axes>"
      ]
     },
     "metadata": {},
     "output_type": "display_data"
    }
   ],
   "source": [
    "# show variation in reshaping here\n",
    "some_digit = X.iloc[0].to_numpy()\n",
    "some_digit_image = some_digit.reshape(28, 28, order = 'F')\n",
    "plt.imshow(some_digit_image, cmap=\"binary\")\n",
    "plt.axis(\"off\")\n",
    "plt.show()"
   ]
  },
  {
   "cell_type": "markdown",
   "metadata": {
    "id": "BXo9GJnBI-sw"
   },
   "source": [
    "At this point,  make some changes to look at some other images,   pick and image number at random and plot it.\n",
    "\n"
   ]
  },
  {
   "cell_type": "code",
   "execution_count": 13,
   "metadata": {
    "colab": {
     "base_uri": "https://localhost:8080/",
     "height": 406
    },
    "executionInfo": {
     "elapsed": 217,
     "status": "ok",
     "timestamp": 1706225772620,
     "user": {
      "displayName": "Devan Morehouse",
      "userId": "12659030949256190002"
     },
     "user_tz": 300
    },
    "id": "vSRGmC6QKWzs",
    "outputId": "f9c96396-0d20-4c43-c6d1-08f9f874b579"
   },
   "outputs": [
    {
     "data": {
      "image/png": "[encoded data removed]",
      "text/plain": [
       "<Figure size 640x480 with 1 Axes>"
      ]
     },
     "metadata": {},
     "output_type": "display_data"
    }
   ],
   "source": [
    "some_digit = X.iloc[10].to_numpy()\n",
    "some_digit_image = some_digit.reshape(28, 28, order = 'C')\n",
    "plt.imshow(some_digit_image, cmap=\"binary\")\n",
    "plt.axis(\"off\")\n",
    "plt.show()"
   ]
  },
  {
   "cell_type": "markdown",
   "metadata": {
    "id": "rDor2PCOI-sw"
   },
   "source": [
    "Notice here that the target or label,  y,  is an integer value.\n",
    "\n",
    "mnist[\"feature_names\"] should show us the names associated with the integer coded target numbers,   print out the feature names"
   ]
  },
  {
   "cell_type": "code",
   "execution_count": 14,
   "metadata": {
    "colab": {
     "base_uri": "https://localhost:8080/"
    },
    "executionInfo": {
     "elapsed": 6,
     "status": "ok",
     "timestamp": 1706225772621,
     "user": {
      "displayName": "Devan Morehouse",
      "userId": "12659030949256190002"
     },
     "user_tz": 300
    },
    "id": "OeCOVFhdKYTE",
    "outputId": "98ae8d5b-8a14-4663-e9fe-f4d23e9c45e3"
   },
   "outputs": [
    {
     "data": {
      "text/plain": [
       "['pixel1',\n",
       " 'pixel2',\n",
       " 'pixel3',\n",
       " 'pixel4',\n",
       " 'pixel5',\n",
       " 'pixel6',\n",
       " 'pixel7',\n",
       " 'pixel8',\n",
       " 'pixel9',\n",
       " 'pixel10']"
      ]
     },
     "execution_count": 14,
     "metadata": {},
     "output_type": "execute_result"
    }
   ],
   "source": [
    "mnist[\"feature_names\"][0:10]"
   ]
  },
  {
   "cell_type": "markdown",
   "metadata": {
    "id": "Ue0u0kjXI-sw"
   },
   "source": [
    "This is a manual split of the data into a training set and a test set.  We will only use the test set at the very end to look\n",
    "the performance of the system.  This is common in machine learning, using a test set to characterize how well the system works.   \n",
    "\n",
    "Here the first 60,000 points are used as a training set\n",
    "\n",
    "Note: Using the first 60,000 as training and the rest as a test is not a good way to do this.  The data should be randomly split, not sequentially- think about why--\n",
    "\n",
    "Later, we will see some better tools for creating test and train sets"
   ]
  },
  {
   "cell_type": "code",
   "execution_count": 15,
   "metadata": {
    "executionInfo": {
     "elapsed": 276,
     "status": "ok",
     "timestamp": 1706225772893,
     "user": {
      "displayName": "Devan Morehouse",
      "userId": "12659030949256190002"
     },
     "user_tz": 300
    },
    "id": "WvcnR_L2I-sw"
   },
   "outputs": [],
   "source": [
    "#Note that the data had already been randomly order, which is import for cross validation folds\n",
    "    # (we want each fold to have a equal representation of the data)\n",
    "\n",
    "X_train, X_test, y_train, y_test = X[:60000], X[60000:], y[:60000], y[60000:]"
   ]
  },
  {
   "cell_type": "markdown",
   "metadata": {
    "id": "wHQgt0S-I-sw"
   },
   "source": [
    "We are doing a binary classification,  so the outcome is true or false\n",
    "\n",
    "We could do a more complex classification,  into all 10 categories, but that's a more complex task\n",
    "\n",
    "We will create a neural net that can recognize the image of a number \"5\"\n",
    "\n",
    "the label or target y is currently a set of numbers 0 to 9,   we want a set of true and false labels, indicating wheter the object is a '5' or not"
   ]
  },
  {
   "cell_type": "code",
   "execution_count": 16,
   "metadata": {
    "executionInfo": {
     "elapsed": 20,
     "status": "ok",
     "timestamp": 1706225772894,
     "user": {
      "displayName": "Devan Morehouse",
      "userId": "12659030949256190002"
     },
     "user_tz": 300
    },
    "id": "Kjafcd1VI-sw"
   },
   "outputs": [],
   "source": [
    "y_train_5 = (y_train == '5')  # True for all 5s, False for all other digits\n",
    "y_test_5 = (y_test == '5')"
   ]
  },
  {
   "cell_type": "markdown",
   "metadata": {
    "id": "EPLi03zuI-sw"
   },
   "source": [
    "## Part 1: Construction of a neural net classification Model\n",
    "\n",
    "Followed by model training and then a bit of a look at the object that holds the classifier model"
   ]
  },
  {
   "cell_type": "markdown",
   "metadata": {
    "id": "uoRwTFI4I-sx"
   },
   "source": [
    "We are going to use a neural net,   a perceptron classifier from sklearn\n",
    "\n",
    "A number of issues to discuss here-\n",
    "\n",
    "a.) This is a simple Machine Learning Classifier,  using 3 hidden layers, each with 20, 10 and 5 neurons respectively.  Note that input layer must have 784 neurons to handle the input data, while the output layer will have 2, the probabilities of each output category, true or false\n",
    "    \n",
    "b.) MLPClassifier is a more limited approach than using Tensorflow, but it does work reasonable\n",
    "\n",
    "Some details:\n",
    "\n",
    "The MLPClassifier sets the number of input neurons to be equal to the number of variables in the input data,  in this case we will have 784 input neurons\n",
    "\n",
    "The list of hidden layer sizes input to the function indicates we want 3 hidden layers of sizes 20,10,5 neurons respectively.  I got better performance using 100,50, 20 or so,  you may want to try altering or tinkering with the number of neurons per layer or the number of layers or both.   The number of neurons and layers are called \"hyper-parameters\" of the model.   Training will take much longer with a bigger network.\n",
    "\n",
    "The output layer of the net work will have a number of outputs equal to the number of classes used.\n",
    "\n",
    "The verbose=True entry indicates that the training procedure will give us an a constant updating on progress,  indicating the \"loss\" which is the value of the objective or error function being used.  Most classifiers use the cross-entropy objective (loss) function,   which is what is being used here\n",
    "\n",
    "The solver is \"adam\" which is one implementation of a gradient descent,\n",
    "\n",
    "alpha is an L2 regularization parameter- more on regularization later- this is meant to reduce overfitting problems\n",
    "\n",
    "warm start=False indicates the training starts from a new random set of parameters (weights) instead of starting from the results of the last training operation by the member function fit.\n",
    "\n",
    "The learning rate,  tolerance and other parameters are all set to the default values,  see the sklearn manual below for more information\n",
    "\n",
    "\n",
    "There is a nice discussion of the model at\n",
    "\n",
    "https://scikit-learn.org/stable/modules/neural_networks_supervised.html\n",
    "\n",
    "Look at the website above before you run the model"
   ]
  },
  {
   "cell_type": "markdown",
   "metadata": {
    "id": "Sp2I1CCTI-sx"
   },
   "source": [
    "Here we create an instance of a classifier with the desired structure and operating parameters\n",
    "\n",
    "We then fit the model to the training predictors X_train and the labels (or targets) y_train_5\n",
    "\n",
    "Sklearn models all work this way\n",
    "\n",
    "The fitting process will run rather slowly,  it will typically end at roughly 100 iterations,   maybe 2 to 5 minutes run time at maximum"
   ]
  },
  {
   "cell_type": "code",
   "execution_count": 17,
   "metadata": {
    "colab": {
     "base_uri": "https://localhost:8080/",
     "height": 1000
    },
    "executionInfo": {
     "elapsed": 100308,
     "status": "ok",
     "timestamp": 1706225873183,
     "user": {
      "displayName": "Devan Morehouse",
      "userId": "12659030949256190002"
     },
     "user_tz": 300
    },
    "id": "tXnuB-GOI-sx",
    "outputId": "37883180-6dfe-4e7d-c86e-ab17b0f4750d",
    "scrolled": true
   },
   "outputs": [
    {
     "name": "stdout",
     "output_type": "stream",
     "text": [
      "Iteration 1, loss = 0.27028725\n",
      "Iteration 2, loss = 0.08038020\n",
      "Iteration 3, loss = 0.05730453\n",
      "Iteration 4, loss = 0.04481164\n",
      "Iteration 5, loss = 0.03709973\n",
      "Iteration 6, loss = 0.03257554\n",
      "Iteration 7, loss = 0.02849133\n",
      "Iteration 8, loss = 0.02612611\n",
      "Iteration 9, loss = 0.02331228\n",
      "Iteration 10, loss = 0.02080288\n",
      "Iteration 11, loss = 0.02111216\n",
      "Iteration 12, loss = 0.01944051\n",
      "Iteration 13, loss = 0.01709165\n",
      "Iteration 14, loss = 0.01835985\n",
      "Iteration 15, loss = 0.01533054\n",
      "Iteration 16, loss = 0.01499016\n",
      "Iteration 17, loss = 0.01485069\n",
      "Iteration 18, loss = 0.01697578\n",
      "Iteration 19, loss = 0.01363250\n",
      "Iteration 20, loss = 0.01286795\n",
      "Iteration 21, loss = 0.01432031\n",
      "Iteration 22, loss = 0.01220789\n",
      "Iteration 23, loss = 0.01094152\n",
      "Iteration 24, loss = 0.01048439\n",
      "Iteration 25, loss = 0.01001958\n",
      "Iteration 26, loss = 0.00931842\n",
      "Iteration 27, loss = 0.00888720\n",
      "Iteration 28, loss = 0.00712077\n",
      "Iteration 29, loss = 0.00775784\n",
      "Iteration 30, loss = 0.00693138\n",
      "Iteration 31, loss = 0.01122541\n",
      "Iteration 32, loss = 0.00837785\n",
      "Iteration 33, loss = 0.00878483\n",
      "Iteration 34, loss = 0.00721910\n",
      "Iteration 35, loss = 0.00620920\n",
      "Iteration 36, loss = 0.00835780\n",
      "Iteration 37, loss = 0.00663585\n",
      "Iteration 38, loss = 0.00509979\n",
      "Iteration 39, loss = 0.00793709\n",
      "Iteration 40, loss = 0.00806922\n",
      "Iteration 41, loss = 0.00566000\n",
      "Iteration 42, loss = 0.00561217\n",
      "Iteration 43, loss = 0.00445315\n",
      "Iteration 44, loss = 0.00644081\n",
      "Iteration 45, loss = 0.00445338\n",
      "Iteration 46, loss = 0.00477962\n",
      "Iteration 47, loss = 0.00533793\n",
      "Iteration 48, loss = 0.00461763\n",
      "Iteration 49, loss = 0.00614947\n",
      "Iteration 50, loss = 0.00336004\n",
      "Iteration 51, loss = 0.00462674\n",
      "Iteration 52, loss = 0.00398499\n",
      "Iteration 53, loss = 0.00417663\n",
      "Iteration 54, loss = 0.00506586\n",
      "Iteration 55, loss = 0.00395338\n",
      "Iteration 56, loss = 0.00315240\n",
      "Iteration 57, loss = 0.00383450\n",
      "Iteration 58, loss = 0.00464641\n",
      "Iteration 59, loss = 0.00210746\n",
      "Iteration 60, loss = 0.00181633\n",
      "Iteration 61, loss = 0.00464446\n",
      "Iteration 62, loss = 0.00357308\n",
      "Iteration 63, loss = 0.00286724\n",
      "Iteration 64, loss = 0.00264295\n",
      "Iteration 65, loss = 0.00261309\n",
      "Iteration 66, loss = 0.00293135\n",
      "Iteration 67, loss = 0.00229525\n",
      "Iteration 68, loss = 0.00312292\n",
      "Iteration 69, loss = 0.00319813\n",
      "Iteration 70, loss = 0.00313642\n",
      "Iteration 71, loss = 0.00179899\n",
      "Training loss did not improve more than tol=0.000100 for 10 consecutive epochs. Stopping.\n"
     ]
    },
    {
     "data": {
      "text/html": [
       "<style>#sk-container-id-1 {color: black;background-color: white;}#sk-container-id-1 pre{padding: 0;}#sk-container-id-1 div.sk-toggleable {background-color: white;}#sk-container-id-1 label.sk-toggleable__label {cursor: pointer;display: block;width: 100%;margin-bottom: 0;padding: 0.3em;box-sizing: border-box;text-align: center;}#sk-container-id-1 label.sk-toggleable__label-arrow:before {content: \"▸\";float: left;margin-right: 0.25em;color: #696969;}#sk-container-id-1 label.sk-toggleable__label-arrow:hover:before {color: black;}#sk-container-id-1 div.sk-estimator:hover label.sk-toggleable__label-arrow:before {color: black;}#sk-container-id-1 div.sk-toggleable__content {max-height: 0;max-width: 0;overflow: hidden;text-align: left;background-color: #f0f8ff;}#sk-container-id-1 div.sk-toggleable__content pre {margin: 0.2em;color: black;border-radius: 0.25em;background-color: #f0f8ff;}#sk-container-id-1 input.sk-toggleable__control:checked~div.sk-toggleable__content {max-height: 200px;max-width: 100%;overflow: auto;}#sk-container-id-1 input.sk-toggleable__control:checked~label.sk-toggleable__label-arrow:before {content: \"▾\";}#sk-container-id-1 div.sk-estimator input.sk-toggleable__control:checked~label.sk-toggleable__label {background-color: #d4ebff;}#sk-container-id-1 div.sk-label input.sk-toggleable__control:checked~label.sk-toggleable__label {background-color: #d4ebff;}#sk-container-id-1 input.sk-hidden--visually {border: 0;clip: rect(1px 1px 1px 1px);clip: rect(1px, 1px, 1px, 1px);height: 1px;margin: -1px;overflow: hidden;padding: 0;position: absolute;width: 1px;}#sk-container-id-1 div.sk-estimator {font-family: monospace;background-color: #f0f8ff;border: 1px dotted black;border-radius: 0.25em;box-sizing: border-box;margin-bottom: 0.5em;}#sk-container-id-1 div.sk-estimator:hover {background-color: #d4ebff;}#sk-container-id-1 div.sk-parallel-item::after {content: \"\";width: 100%;border-bottom: 1px solid gray;flex-grow: 1;}#sk-container-id-1 div.sk-label:hover label.sk-toggleable__label {background-color: #d4ebff;}#sk-container-id-1 div.sk-serial::before {content: \"\";position: absolute;border-left: 1px solid gray;box-sizing: border-box;top: 0;bottom: 0;left: 50%;z-index: 0;}#sk-container-id-1 div.sk-serial {display: flex;flex-direction: column;align-items: center;background-color: white;padding-right: 0.2em;padding-left: 0.2em;position: relative;}#sk-container-id-1 div.sk-item {position: relative;z-index: 1;}#sk-container-id-1 div.sk-parallel {display: flex;align-items: stretch;justify-content: center;background-color: white;position: relative;}#sk-container-id-1 div.sk-item::before, #sk-container-id-1 div.sk-parallel-item::before {content: \"\";position: absolute;border-left: 1px solid gray;box-sizing: border-box;top: 0;bottom: 0;left: 50%;z-index: -1;}#sk-container-id-1 div.sk-parallel-item {display: flex;flex-direction: column;z-index: 1;position: relative;background-color: white;}#sk-container-id-1 div.sk-parallel-item:first-child::after {align-self: flex-end;width: 50%;}#sk-container-id-1 div.sk-parallel-item:last-child::after {align-self: flex-start;width: 50%;}#sk-container-id-1 div.sk-parallel-item:only-child::after {width: 0;}#sk-container-id-1 div.sk-dashed-wrapped {border: 1px dashed gray;margin: 0 0.4em 0.5em 0.4em;box-sizing: border-box;padding-bottom: 0.4em;background-color: white;}#sk-container-id-1 div.sk-label label {font-family: monospace;font-weight: bold;display: inline-block;line-height: 1.2em;}#sk-container-id-1 div.sk-label-container {text-align: center;}#sk-container-id-1 div.sk-container {/* jupyter's `normalize.less` sets `[hidden] { display: none; }` but bootstrap.min.css set `[hidden] { display: none !important; }` so we also need the `!important` here to be able to override the default hidden behavior on the sphinx rendered scikit-learn.org. See: https://github.com/scikit-learn/scikit-learn/issues/21755 */display: inline-block !important;position: relative;}#sk-container-id-1 div.sk-text-repr-fallback {display: none;}</style><div id=\"sk-container-id-1\" class=\"sk-top-container\"><div class=\"sk-text-repr-fallback\"><pre>MLPClassifier(alpha=1e-05, hidden_layer_sizes=(20, 10, 5), max_iter=500,\n",
       "              random_state=1, verbose=True)</pre><b>In a Jupyter environment, please rerun this cell to show the HTML representation or trust the notebook. <br />On GitHub, the HTML representation is unable to render, please try loading this page with nbviewer.org.</b></div><div class=\"sk-container\" hidden><div class=\"sk-item\"><div class=\"sk-estimator sk-toggleable\"><input class=\"sk-toggleable__control sk-hidden--visually\" id=\"sk-estimator-id-1\" type=\"checkbox\" checked><label for=\"sk-estimator-id-1\" class=\"sk-toggleable__label sk-toggleable__label-arrow\">MLPClassifier</label><div class=\"sk-toggleable__content\"><pre>MLPClassifier(alpha=1e-05, hidden_layer_sizes=(20, 10, 5), max_iter=500,\n",
       "              random_state=1, verbose=True)</pre></div></div></div></div></div>"
      ],
      "text/plain": [
       "MLPClassifier(alpha=1e-05, hidden_layer_sizes=(20, 10, 5), max_iter=500,\n",
       "              random_state=1, verbose=True)"
      ]
     },
     "execution_count": 17,
     "metadata": {},
     "output_type": "execute_result"
    }
   ],
   "source": [
    "#Note: There are 3 hidden layers of 20, 10, and 5 neurons\n",
    "#the input layer must have 784 neurons to handle all of the data features\n",
    "#the output only has 2 true or false\n",
    "\n",
    "from sklearn.neural_network import MLPClassifier\n",
    "clf = MLPClassifier(solver='adam', alpha=1e-5, random_state=1, max_iter=500,hidden_layer_sizes=(20,10,5), verbose=True, warm_start=False)\n",
    "\n",
    "clf.fit(X_train, y_train_5)\n"
   ]
  },
  {
   "cell_type": "code",
   "execution_count": 18,
   "metadata": {
    "colab": {
     "base_uri": "https://localhost:8080/",
     "height": 75
    },
    "executionInfo": {
     "elapsed": 192531,
     "status": "ok",
     "timestamp": 1706226065708,
     "user": {
      "displayName": "Devan Morehouse",
      "userId": "12659030949256190002"
     },
     "user_tz": 300
    },
    "id": "coaJFvbY7sdI",
    "outputId": "2487f743-267b-432a-f0f5-ef29c97232af"
   },
   "outputs": [
    {
     "data": {
      "text/html": [
       "<style>#sk-container-id-2 {color: black;background-color: white;}#sk-container-id-2 pre{padding: 0;}#sk-container-id-2 div.sk-toggleable {background-color: white;}#sk-container-id-2 label.sk-toggleable__label {cursor: pointer;display: block;width: 100%;margin-bottom: 0;padding: 0.3em;box-sizing: border-box;text-align: center;}#sk-container-id-2 label.sk-toggleable__label-arrow:before {content: \"▸\";float: left;margin-right: 0.25em;color: #696969;}#sk-container-id-2 label.sk-toggleable__label-arrow:hover:before {color: black;}#sk-container-id-2 div.sk-estimator:hover label.sk-toggleable__label-arrow:before {color: black;}#sk-container-id-2 div.sk-toggleable__content {max-height: 0;max-width: 0;overflow: hidden;text-align: left;background-color: #f0f8ff;}#sk-container-id-2 div.sk-toggleable__content pre {margin: 0.2em;color: black;border-radius: 0.25em;background-color: #f0f8ff;}#sk-container-id-2 input.sk-toggleable__control:checked~div.sk-toggleable__content {max-height: 200px;max-width: 100%;overflow: auto;}#sk-container-id-2 input.sk-toggleable__control:checked~label.sk-toggleable__label-arrow:before {content: \"▾\";}#sk-container-id-2 div.sk-estimator input.sk-toggleable__control:checked~label.sk-toggleable__label {background-color: #d4ebff;}#sk-container-id-2 div.sk-label input.sk-toggleable__control:checked~label.sk-toggleable__label {background-color: #d4ebff;}#sk-container-id-2 input.sk-hidden--visually {border: 0;clip: rect(1px 1px 1px 1px);clip: rect(1px, 1px, 1px, 1px);height: 1px;margin: -1px;overflow: hidden;padding: 0;position: absolute;width: 1px;}#sk-container-id-2 div.sk-estimator {font-family: monospace;background-color: #f0f8ff;border: 1px dotted black;border-radius: 0.25em;box-sizing: border-box;margin-bottom: 0.5em;}#sk-container-id-2 div.sk-estimator:hover {background-color: #d4ebff;}#sk-container-id-2 div.sk-parallel-item::after {content: \"\";width: 100%;border-bottom: 1px solid gray;flex-grow: 1;}#sk-container-id-2 div.sk-label:hover label.sk-toggleable__label {background-color: #d4ebff;}#sk-container-id-2 div.sk-serial::before {content: \"\";position: absolute;border-left: 1px solid gray;box-sizing: border-box;top: 0;bottom: 0;left: 50%;z-index: 0;}#sk-container-id-2 div.sk-serial {display: flex;flex-direction: column;align-items: center;background-color: white;padding-right: 0.2em;padding-left: 0.2em;position: relative;}#sk-container-id-2 div.sk-item {position: relative;z-index: 1;}#sk-container-id-2 div.sk-parallel {display: flex;align-items: stretch;justify-content: center;background-color: white;position: relative;}#sk-container-id-2 div.sk-item::before, #sk-container-id-2 div.sk-parallel-item::before {content: \"\";position: absolute;border-left: 1px solid gray;box-sizing: border-box;top: 0;bottom: 0;left: 50%;z-index: -1;}#sk-container-id-2 div.sk-parallel-item {display: flex;flex-direction: column;z-index: 1;position: relative;background-color: white;}#sk-container-id-2 div.sk-parallel-item:first-child::after {align-self: flex-end;width: 50%;}#sk-container-id-2 div.sk-parallel-item:last-child::after {align-self: flex-start;width: 50%;}#sk-container-id-2 div.sk-parallel-item:only-child::after {width: 0;}#sk-container-id-2 div.sk-dashed-wrapped {border: 1px dashed gray;margin: 0 0.4em 0.5em 0.4em;box-sizing: border-box;padding-bottom: 0.4em;background-color: white;}#sk-container-id-2 div.sk-label label {font-family: monospace;font-weight: bold;display: inline-block;line-height: 1.2em;}#sk-container-id-2 div.sk-label-container {text-align: center;}#sk-container-id-2 div.sk-container {/* jupyter's `normalize.less` sets `[hidden] { display: none; }` but bootstrap.min.css set `[hidden] { display: none !important; }` so we also need the `!important` here to be able to override the default hidden behavior on the sphinx rendered scikit-learn.org. See: https://github.com/scikit-learn/scikit-learn/issues/21755 */display: inline-block !important;position: relative;}#sk-container-id-2 div.sk-text-repr-fallback {display: none;}</style><div id=\"sk-container-id-2\" class=\"sk-top-container\"><div class=\"sk-text-repr-fallback\"><pre>MLPClassifier(alpha=1e-05, max_iter=500, random_state=1)</pre><b>In a Jupyter environment, please rerun this cell to show the HTML representation or trust the notebook. <br />On GitHub, the HTML representation is unable to render, please try loading this page with nbviewer.org.</b></div><div class=\"sk-container\" hidden><div class=\"sk-item\"><div class=\"sk-estimator sk-toggleable\"><input class=\"sk-toggleable__control sk-hidden--visually\" id=\"sk-estimator-id-2\" type=\"checkbox\" checked><label for=\"sk-estimator-id-2\" class=\"sk-toggleable__label sk-toggleable__label-arrow\">MLPClassifier</label><div class=\"sk-toggleable__content\"><pre>MLPClassifier(alpha=1e-05, max_iter=500, random_state=1)</pre></div></div></div></div></div>"
      ],
      "text/plain": [
       "MLPClassifier(alpha=1e-05, max_iter=500, random_state=1)"
      ]
     },
     "execution_count": 18,
     "metadata": {},
     "output_type": "execute_result"
    }
   ],
   "source": [
    "from sklearn.neural_network import MLPClassifier\n",
    "clf = MLPClassifier(solver='adam', alpha=1e-5, random_state=1, max_iter=500)\n",
    "clf.fit(X_train, y_train_5)"
   ]
  },
  {
   "cell_type": "markdown",
   "metadata": {
    "id": "C0Ue5O_DI-sx"
   },
   "source": [
    "clf is an object,  an instance of the class MLPClassifier,   which has a lot of stored data, like the model structure,\n",
    "all the fitted parameter values\n",
    "\n",
    "We can use the dir() member function of clf to see what member functions and variables are within the clf object"
   ]
  },
  {
   "cell_type": "code",
   "execution_count": 19,
   "metadata": {
    "colab": {
     "base_uri": "https://localhost:8080/"
    },
    "executionInfo": {
     "elapsed": 16,
     "status": "ok",
     "timestamp": 1706226065708,
     "user": {
      "displayName": "Devan Morehouse",
      "userId": "12659030949256190002"
     },
     "user_tz": 300
    },
    "id": "DUItc7s4I-sx",
    "outputId": "38ada311-eae7-4556-de18-5723d66c5dde"
   },
   "outputs": [
    {
     "data": {
      "text/plain": [
       "['__abstractmethods__',\n",
       " '__annotations__',\n",
       " '__class__',\n",
       " '__delattr__',\n",
       " '__dict__',\n",
       " '__dir__',\n",
       " '__doc__',\n",
       " '__eq__',\n",
       " '__format__',\n",
       " '__ge__',\n",
       " '__getattribute__',\n",
       " '__getstate__',\n",
       " '__gt__',\n",
       " '__hash__',\n",
       " '__init__',\n",
       " '__init_subclass__',\n",
       " '__le__',\n",
       " '__lt__',\n",
       " '__module__',\n",
       " '__ne__',\n",
       " '__new__',\n",
       " '__reduce__',\n",
       " '__reduce_ex__',\n",
       " '__repr__',\n",
       " '__setattr__',\n",
       " '__setstate__',\n",
       " '__sizeof__',\n",
       " '__str__',\n",
       " '__subclasshook__',\n",
       " '__weakref__',\n",
       " '_abc_impl',\n",
       " '_backprop',\n",
       " '_check_feature_names',\n",
       " '_check_n_features',\n",
       " '_check_solver',\n",
       " '_compute_loss_grad',\n",
       " '_estimator_type',\n",
       " '_fit',\n",
       " '_fit_lbfgs',\n",
       " '_fit_stochastic',\n",
       " '_forward_pass',\n",
       " '_forward_pass_fast',\n",
       " '_get_param_names',\n",
       " '_get_tags',\n",
       " '_init_coef',\n",
       " '_initialize',\n",
       " '_label_binarizer',\n",
       " '_loss_grad_lbfgs',\n",
       " '_more_tags',\n",
       " '_no_improvement_count',\n",
       " '_optimizer',\n",
       " '_parameter_constraints',\n",
       " '_predict',\n",
       " '_random_state',\n",
       " '_repr_html_',\n",
       " '_repr_html_inner',\n",
       " '_repr_mimebundle_',\n",
       " '_score',\n",
       " '_unpack',\n",
       " '_update_no_improvement_count',\n",
       " '_validate_data',\n",
       " '_validate_input',\n",
       " '_validate_params',\n",
       " 'activation',\n",
       " 'alpha',\n",
       " 'batch_size',\n",
       " 'best_loss_',\n",
       " 'best_validation_score_',\n",
       " 'beta_1',\n",
       " 'beta_2',\n",
       " 'classes_',\n",
       " 'coefs_',\n",
       " 'early_stopping',\n",
       " 'epsilon',\n",
       " 'feature_names_in_',\n",
       " 'fit',\n",
       " 'get_params',\n",
       " 'hidden_layer_sizes',\n",
       " 'intercepts_',\n",
       " 'learning_rate',\n",
       " 'learning_rate_init',\n",
       " 'loss',\n",
       " 'loss_',\n",
       " 'loss_curve_',\n",
       " 'max_fun',\n",
       " 'max_iter',\n",
       " 'momentum',\n",
       " 'n_features_in_',\n",
       " 'n_iter_',\n",
       " 'n_iter_no_change',\n",
       " 'n_layers_',\n",
       " 'n_outputs_',\n",
       " 'nesterovs_momentum',\n",
       " 'out_activation_',\n",
       " 'partial_fit',\n",
       " 'power_t',\n",
       " 'predict',\n",
       " 'predict_log_proba',\n",
       " 'predict_proba',\n",
       " 'random_state',\n",
       " 'score',\n",
       " 'set_params',\n",
       " 'shuffle',\n",
       " 'solver',\n",
       " 't_',\n",
       " 'tol',\n",
       " 'validation_fraction',\n",
       " 'validation_scores_',\n",
       " 'verbose',\n",
       " 'warm_start']"
      ]
     },
     "execution_count": 19,
     "metadata": {},
     "output_type": "execute_result"
    }
   ],
   "source": [
    "dir(clf)"
   ]
  },
  {
   "cell_type": "code",
   "execution_count": 20,
   "metadata": {
    "colab": {
     "base_uri": "https://localhost:8080/"
    },
    "executionInfo": {
     "elapsed": 16,
     "status": "ok",
     "timestamp": 1706226065709,
     "user": {
      "displayName": "Devan Morehouse",
      "userId": "12659030949256190002"
     },
     "user_tz": 300
    },
    "id": "TPyU6dwF9EYh",
    "outputId": "a3ab0556-806e-4e66-bf21-67371b00f539"
   },
   "outputs": [
    {
     "data": {
      "text/plain": [
       "(100,)"
      ]
     },
     "execution_count": 20,
     "metadata": {},
     "output_type": "execute_result"
    }
   ],
   "source": [
    "clf.hidden_layer_sizes"
   ]
  },
  {
   "cell_type": "markdown",
   "metadata": {
    "id": "QslsQUn7I-sx"
   },
   "source": [
    "All sklearn model classes have a fit() and a predict() member function,  we can predict values using a trained model\n",
    "using the predict member function"
   ]
  },
  {
   "cell_type": "markdown",
   "metadata": {
    "id": "FjKXeIAWI-sx"
   },
   "source": [
    "# Question/Action\n",
    "\n",
    "What type of object is X_test?\n",
    "\n",
    "I had to change the code in the line below\n",
    "\n",
    "    clf.predict(X_test.iloc[:10,:])\n",
    "\n",
    "When I ran it in January 2022,  it was\n",
    "\n",
    "    clf.predict(X_test[:10,:])\n",
    "\n",
    "Why would code that ran fine in 2022 no longer work in 2023"
   ]
  },
  {
   "cell_type": "code",
   "execution_count": 21,
   "metadata": {
    "executionInfo": {
     "elapsed": 10,
     "status": "ok",
     "timestamp": 1706226065709,
     "user": {
      "displayName": "Devan Morehouse",
      "userId": "12659030949256190002"
     },
     "user_tz": 300
    },
    "id": "2ZC-zcoLflRU"
   },
   "outputs": [],
   "source": [
    "# clf.predict(X_test[:10,:])\n",
    "# NeuralNetwork model from skilearns was updated  was updated"
   ]
  },
  {
   "cell_type": "code",
   "execution_count": 22,
   "metadata": {
    "colab": {
     "base_uri": "https://localhost:8080/"
    },
    "executionInfo": {
     "elapsed": 9,
     "status": "ok",
     "timestamp": 1706226065709,
     "user": {
      "displayName": "Devan Morehouse",
      "userId": "12659030949256190002"
     },
     "user_tz": 300
    },
    "id": "juIuR93cfZK3",
    "outputId": "05fd6a3e-ce77-4583-96a5-68026ab1ec0c"
   },
   "outputs": [
    {
     "data": {
      "text/plain": [
       "array([False, False, False, False, False, False, False, False, False,\n",
       "       False])"
      ]
     },
     "execution_count": 22,
     "metadata": {},
     "output_type": "execute_result"
    }
   ],
   "source": [
    "clf.predict(X_test.iloc[:10,:])"
   ]
  },
  {
   "cell_type": "code",
   "execution_count": 23,
   "metadata": {
    "colab": {
     "base_uri": "https://localhost:8080/"
    },
    "executionInfo": {
     "elapsed": 30,
     "status": "ok",
     "timestamp": 1706226065923,
     "user": {
      "displayName": "Devan Morehouse",
      "userId": "12659030949256190002"
     },
     "user_tz": 300
    },
    "id": "gzWK4t-mI-sx",
    "outputId": "6a145065-37c6-48b0-9644-1c1f418ff047"
   },
   "outputs": [
    {
     "name": "stdout",
     "output_type": "stream",
     "text": [
      "X_test is this data type <class 'pandas.core.frame.DataFrame'>\n"
     ]
    }
   ],
   "source": [
    "# run code here - what type of data is X_test\n",
    "print('X_test is this data type', type(X_test))\n",
    "\n",
    "# why doesn't X_test[:10,:] work, but X_test.iloc[:10,:] does?\n",
    "\n",
    "# Answer:\n",
    "# ``.iloc[]`` is primarily integer position based (from ``0`` to\n",
    "# ``length-1`` of the axis), but may also be used with a boolean\n",
    "# array."
   ]
  },
  {
   "cell_type": "markdown",
   "metadata": {
    "id": "arl9vEKbI-sy"
   },
   "source": [
    "# Predictions\n",
    "\n",
    "We have trained the model in clf, we will now use it to predict the class of our\n",
    "first 10 test images"
   ]
  },
  {
   "cell_type": "code",
   "execution_count": 24,
   "metadata": {
    "colab": {
     "base_uri": "https://localhost:8080/"
    },
    "executionInfo": {
     "elapsed": 28,
     "status": "ok",
     "timestamp": 1706226065924,
     "user": {
      "displayName": "Devan Morehouse",
      "userId": "12659030949256190002"
     },
     "user_tz": 300
    },
    "id": "0kk1h-03I-sy",
    "outputId": "142d93fd-c994-4590-aff5-f3f42a2675e0"
   },
   "outputs": [
    {
     "data": {
      "text/plain": [
       "array([False, False, False, False, False, False, False, False, False,\n",
       "       False])"
      ]
     },
     "execution_count": 24,
     "metadata": {},
     "output_type": "execute_result"
    }
   ],
   "source": [
    "clf.predict(X_test.iloc[:10,:])"
   ]
  },
  {
   "cell_type": "markdown",
   "metadata": {
    "id": "s6zN_hNwI-s1"
   },
   "source": [
    "Notice that clf.predict gave us true/false values,   assignments to specific categories of the number equaling 5 or not\n",
    "\n",
    "These are some options, we can get a probability estimate"
   ]
  },
  {
   "cell_type": "code",
   "execution_count": 25,
   "metadata": {
    "colab": {
     "base_uri": "https://localhost:8080/"
    },
    "executionInfo": {
     "elapsed": 24,
     "status": "ok",
     "timestamp": 1706226065924,
     "user": {
      "displayName": "Devan Morehouse",
      "userId": "12659030949256190002"
     },
     "user_tz": 300
    },
    "id": "SY03Ba20I-s1",
    "outputId": "688d42f1-78a6-4d45-ffd8-d72f02ec0577"
   },
   "outputs": [
    {
     "data": {
      "text/plain": [
       "array([[1.00000000e+000, 1.97390010e-094],\n",
       "       [1.00000000e+000, 8.62378066e-068],\n",
       "       [1.00000000e+000, 1.51868716e-063],\n",
       "       [1.00000000e+000, 2.68887644e-039],\n",
       "       [1.00000000e+000, 2.87660591e-147],\n",
       "       [1.00000000e+000, 9.56756319e-110],\n",
       "       [1.00000000e+000, 5.21066851e-075],\n",
       "       [1.00000000e+000, 7.25272747e-025],\n",
       "       [1.00000000e+000, 6.01487755e-016],\n",
       "       [1.00000000e+000, 8.91301907e-140]])"
      ]
     },
     "execution_count": 25,
     "metadata": {},
     "output_type": "execute_result"
    }
   ],
   "source": [
    "clf.predict_proba(X_test.iloc[:10,:])"
   ]
  },
  {
   "cell_type": "markdown",
   "metadata": {
    "id": "j0-b6AyvI-s1"
   },
   "source": [
    "we can now look at the number of iterations used in fitting the model"
   ]
  },
  {
   "cell_type": "code",
   "execution_count": 26,
   "metadata": {
    "colab": {
     "base_uri": "https://localhost:8080/"
    },
    "executionInfo": {
     "elapsed": 20,
     "status": "ok",
     "timestamp": 1706226065924,
     "user": {
      "displayName": "Devan Morehouse",
      "userId": "12659030949256190002"
     },
     "user_tz": 300
    },
    "id": "wvBUGIBcI-s1",
    "outputId": "9d87b92f-0f49-432c-9798-63b9bd7561f3"
   },
   "outputs": [
    {
     "data": {
      "text/plain": [
       "85"
      ]
     },
     "execution_count": 26,
     "metadata": {},
     "output_type": "execute_result"
    }
   ],
   "source": [
    "clf.n_iter_"
   ]
  },
  {
   "cell_type": "markdown",
   "metadata": {
    "id": "_oM7-OaAI-s1"
   },
   "source": [
    "# Question\n",
    "Find out what the activation function was,   what the tolerance value was, and the learning rate was"
   ]
  },
  {
   "cell_type": "code",
   "execution_count": 27,
   "metadata": {
    "colab": {
     "base_uri": "https://localhost:8080/"
    },
    "executionInfo": {
     "elapsed": 17,
     "status": "ok",
     "timestamp": 1706226065924,
     "user": {
      "displayName": "Devan Morehouse",
      "userId": "12659030949256190002"
     },
     "user_tz": 300
    },
    "id": "ZTaRnTJbI-s2",
    "outputId": "dc391ff8-efce-43cf-c0bd-a424b159ffd3"
   },
   "outputs": [
    {
     "data": {
      "text/plain": [
       "['__abstractmethods__',\n",
       " '__annotations__',\n",
       " '__class__',\n",
       " '__delattr__',\n",
       " '__dict__',\n",
       " '__dir__',\n",
       " '__doc__',\n",
       " '__eq__',\n",
       " '__format__',\n",
       " '__ge__',\n",
       " '__getattribute__',\n",
       " '__getstate__',\n",
       " '__gt__',\n",
       " '__hash__',\n",
       " '__init__',\n",
       " '__init_subclass__',\n",
       " '__le__',\n",
       " '__lt__',\n",
       " '__module__',\n",
       " '__ne__',\n",
       " '__new__',\n",
       " '__reduce__',\n",
       " '__reduce_ex__',\n",
       " '__repr__',\n",
       " '__setattr__',\n",
       " '__setstate__',\n",
       " '__sizeof__',\n",
       " '__str__',\n",
       " '__subclasshook__',\n",
       " '__weakref__',\n",
       " '_abc_impl',\n",
       " '_backprop',\n",
       " '_check_feature_names',\n",
       " '_check_n_features',\n",
       " '_check_solver',\n",
       " '_compute_loss_grad',\n",
       " '_estimator_type',\n",
       " '_fit',\n",
       " '_fit_lbfgs',\n",
       " '_fit_stochastic',\n",
       " '_forward_pass',\n",
       " '_forward_pass_fast',\n",
       " '_get_param_names',\n",
       " '_get_tags',\n",
       " '_init_coef',\n",
       " '_initialize',\n",
       " '_label_binarizer',\n",
       " '_loss_grad_lbfgs',\n",
       " '_more_tags',\n",
       " '_no_improvement_count',\n",
       " '_optimizer',\n",
       " '_parameter_constraints',\n",
       " '_predict',\n",
       " '_random_state',\n",
       " '_repr_html_',\n",
       " '_repr_html_inner',\n",
       " '_repr_mimebundle_',\n",
       " '_score',\n",
       " '_unpack',\n",
       " '_update_no_improvement_count',\n",
       " '_validate_data',\n",
       " '_validate_input',\n",
       " '_validate_params',\n",
       " 'activation',\n",
       " 'alpha',\n",
       " 'batch_size',\n",
       " 'best_loss_',\n",
       " 'best_validation_score_',\n",
       " 'beta_1',\n",
       " 'beta_2',\n",
       " 'classes_',\n",
       " 'coefs_',\n",
       " 'early_stopping',\n",
       " 'epsilon',\n",
       " 'feature_names_in_',\n",
       " 'fit',\n",
       " 'get_params',\n",
       " 'hidden_layer_sizes',\n",
       " 'intercepts_',\n",
       " 'learning_rate',\n",
       " 'learning_rate_init',\n",
       " 'loss',\n",
       " 'loss_',\n",
       " 'loss_curve_',\n",
       " 'max_fun',\n",
       " 'max_iter',\n",
       " 'momentum',\n",
       " 'n_features_in_',\n",
       " 'n_iter_',\n",
       " 'n_iter_no_change',\n",
       " 'n_layers_',\n",
       " 'n_outputs_',\n",
       " 'nesterovs_momentum',\n",
       " 'out_activation_',\n",
       " 'partial_fit',\n",
       " 'power_t',\n",
       " 'predict',\n",
       " 'predict_log_proba',\n",
       " 'predict_proba',\n",
       " 'random_state',\n",
       " 'score',\n",
       " 'set_params',\n",
       " 'shuffle',\n",
       " 'solver',\n",
       " 't_',\n",
       " 'tol',\n",
       " 'validation_fraction',\n",
       " 'validation_scores_',\n",
       " 'verbose',\n",
       " 'warm_start']"
      ]
     },
     "execution_count": 27,
     "metadata": {},
     "output_type": "execute_result"
    }
   ],
   "source": [
    "dir(clf)"
   ]
  },
  {
   "cell_type": "code",
   "execution_count": 28,
   "metadata": {
    "colab": {
     "base_uri": "https://localhost:8080/"
    },
    "executionInfo": {
     "elapsed": 13,
     "status": "ok",
     "timestamp": 1706226065924,
     "user": {
      "displayName": "Devan Morehouse",
      "userId": "12659030949256190002"
     },
     "user_tz": 300
    },
    "id": "iq1CaW4rgFaf",
    "outputId": "698b8f56-c8ab-44dc-f07d-1609a98d9a91"
   },
   "outputs": [
    {
     "data": {
      "text/plain": [
       "(100,)"
      ]
     },
     "execution_count": 28,
     "metadata": {},
     "output_type": "execute_result"
    }
   ],
   "source": [
    "clf.hidden_layer_sizes"
   ]
  },
  {
   "cell_type": "code",
   "execution_count": 29,
   "metadata": {
    "colab": {
     "base_uri": "https://localhost:8080/"
    },
    "executionInfo": {
     "elapsed": 193,
     "status": "ok",
     "timestamp": 1706226066110,
     "user": {
      "displayName": "Devan Morehouse",
      "userId": "12659030949256190002"
     },
     "user_tz": 300
    },
    "id": "ty-P3R_EgbpH",
    "outputId": "4457dd32-a917-465a-a647-e1c7716c37cb"
   },
   "outputs": [
    {
     "data": {
      "text/plain": [
       "784"
      ]
     },
     "execution_count": 29,
     "metadata": {},
     "output_type": "execute_result"
    }
   ],
   "source": [
    "clf.n_features_in_"
   ]
  },
  {
   "cell_type": "code",
   "execution_count": 30,
   "metadata": {
    "executionInfo": {
     "elapsed": 6,
     "status": "ok",
     "timestamp": 1706226066110,
     "user": {
      "displayName": "Devan Morehouse",
      "userId": "12659030949256190002"
     },
     "user_tz": 300
    },
    "id": "OjMgdLPBI-s2"
   },
   "outputs": [],
   "source": [
    "# Question\n",
    "# How many features where there in the input layer?   is this what you expected?\n",
    "\n",
    "# Answer:\n",
    "# input layer has 784\n",
    "# the hidden layer size was  (20, 10, 5) 3 hidden layers\n"
   ]
  },
  {
   "cell_type": "code",
   "execution_count": 30,
   "metadata": {
    "executionInfo": {
     "elapsed": 5,
     "status": "ok",
     "timestamp": 1706226066110,
     "user": {
      "displayName": "Devan Morehouse",
      "userId": "12659030949256190002"
     },
     "user_tz": 300
    },
    "id": "9qwm5uYwI-s2"
   },
   "outputs": [],
   "source": []
  },
  {
   "cell_type": "markdown",
   "metadata": {
    "id": "0BEv0437I-s2"
   },
   "source": [
    "# Part 2:  How well does this classifier actually work?\n",
    "\n",
    "We will use a number of different types of measures and metrics of performance from sklearn"
   ]
  },
  {
   "cell_type": "markdown",
   "metadata": {
    "id": "ujTsFtwlI-s2"
   },
   "source": [
    "Create a second version of the classifier, but with the verbose option set to false, so it will not show the\n",
    "change in the cross entropy as the network is trained.\n",
    "\n"
   ]
  },
  {
   "cell_type": "code",
   "execution_count": 31,
   "metadata": {
    "executionInfo": {
     "elapsed": 6,
     "status": "ok",
     "timestamp": 1706226066111,
     "user": {
      "displayName": "Devan Morehouse",
      "userId": "12659030949256190002"
     },
     "user_tz": 300
    },
    "id": "vh-k5dwFI-s2"
   },
   "outputs": [],
   "source": [
    "silent_clf = MLPClassifier(solver='adam',activation='relu', alpha=1e-5, random_state=1, max_iter=500,hidden_layer_sizes=(20,20,5), verbose=False, warm_start=True)"
   ]
  },
  {
   "cell_type": "markdown",
   "metadata": {
    "id": "u6PtTv8OI-s2"
   },
   "source": [
    "Below is a manual cross validation to look at the correct classification rate\n",
    "\n",
    "We want to estimate how likely the model (predictor) is going to be if we use it on new images\n",
    "\n",
    "What we are doing is splitting the data into 3 sections (my_split=3) and training silent_clf on 2/3 of the data and testing how well it does on the remaining sections of the data.  The remaining 1/3 the model was not trained on is called the validation data\n",
    "\n",
    "The performance of the method on the validation data is called a crossed validation estimate.  If we estimated the performance of the model on the training data, that would be called a resubstitution estimate of the performance.     \n",
    "\n",
    "If we had totally new, unused data that we use to estimate performance, that is called a test set estimate.\n",
    "\n",
    "Note- this requires 3 separate fittings of the model, it will be slow"
   ]
  },
  {
   "cell_type": "code",
   "execution_count": 32,
   "metadata": {
    "colab": {
     "base_uri": "https://localhost:8080/"
    },
    "executionInfo": {
     "elapsed": 261650,
     "status": "ok",
     "timestamp": 1706226327755,
     "user": {
      "displayName": "Devan Morehouse",
      "userId": "12659030949256190002"
     },
     "user_tz": 300
    },
    "id": "ou3Tk_ZlI-s2",
    "outputId": "5c9f596d-ae33-4a37-e1a2-4589c8992897"
   },
   "outputs": [
    {
     "name": "stdout",
     "output_type": "stream",
     "text": [
      "0.9916\n",
      "0.99295\n",
      "0.992\n"
     ]
    }
   ],
   "source": [
    "from sklearn.model_selection import StratifiedKFold\n",
    "from sklearn.base import clone\n",
    "\n",
    "my_splits=3\n",
    "\n",
    "# this splits the data into the training \"fold\" and the test fold\n",
    "\n",
    "skfolds = StratifiedKFold(n_splits=my_splits,shuffle=True, random_state=42)\n",
    "\n",
    "\n",
    "for train_index, test_index in skfolds.split(X_train, y_train_5):\n",
    "    # make a clone of the model\n",
    "    clone_clf = clone(silent_clf)\n",
    "    #set up the test and train sets from the fold or split of the data\n",
    "    X_train_folds = X_train.iloc[train_index]\n",
    "    y_train_folds = y_train_5[train_index]\n",
    "    X_test_fold = X_train.iloc[test_index]\n",
    "    y_test_fold = y_train_5[test_index]\n",
    "    # fit the cloned model to the data and predict the outcomes for the training set\n",
    "    clone_clf.fit(X_train_folds, y_train_folds)\n",
    "    y_pred = clone_clf.predict(X_test_fold)\n",
    "    # compute the number of times the the predicted class was correct\n",
    "    n_correct = sum(y_pred == y_test_fold)\n",
    "    print(n_correct / len(y_pred))"
   ]
  },
  {
   "cell_type": "code",
   "execution_count": 33,
   "metadata": {
    "executionInfo": {
     "elapsed": 19,
     "status": "ok",
     "timestamp": 1706226327755,
     "user": {
      "displayName": "Devan Morehouse",
      "userId": "12659030949256190002"
     },
     "user_tz": 300
    },
    "id": "vwEW5cUUMDK1"
   },
   "outputs": [],
   "source": [
    "#Another way to preform the task above\n",
    "# from sklearn.model_selection import cross_val_score\n",
    "# cross_val_score(silent_clf, X_train, y_train_5, cv=3, scoring= 'accuracy')"
   ]
  },
  {
   "cell_type": "markdown",
   "metadata": {
    "id": "hGYL0pKyI-s2"
   },
   "source": [
    "We are up around 99% or higher rate of correct assignments.  Pretty cool.\n",
    "\n",
    "But this is an unbalanced set,  10% of the data are \"5\"s,   90%  are not\n",
    "\n",
    "If we simply made a predictor that always returned \"False\" it would be 90% correct"
   ]
  },
  {
   "cell_type": "markdown",
   "metadata": {
    "id": "lNlWuyffI-s3"
   },
   "source": [
    "Here is a better way to do this, using a built-in function to do the cross validation, using a built-in sklearn function\n",
    "\n",
    "Notice here a whole set of predictions created by the model,  all in one function call"
   ]
  },
  {
   "cell_type": "code",
   "execution_count": 34,
   "metadata": {
    "executionInfo": {
     "elapsed": 4,
     "status": "ok",
     "timestamp": 1706226327755,
     "user": {
      "displayName": "Devan Morehouse",
      "userId": "12659030949256190002"
     },
     "user_tz": 300
    },
    "id": "4gd14w-JN5zY"
   },
   "outputs": [],
   "source": [
    "#This is why accuracy is not the best measure especially when dealing with skewed datasets, (i.e. when some points appear more than others)\n",
    "# a better approach to this is to use a confusion matrix (CM)"
   ]
  },
  {
   "cell_type": "code",
   "execution_count": 35,
   "metadata": {
    "executionInfo": {
     "elapsed": 201209,
     "status": "ok",
     "timestamp": 1706226528960,
     "user": {
      "displayName": "Devan Morehouse",
      "userId": "12659030949256190002"
     },
     "user_tz": 300
    },
    "id": "KEnNs1BHI-s3"
   },
   "outputs": [],
   "source": [
    "from sklearn.model_selection import cross_val_predict\n",
    "\n",
    "y_train_pred = cross_val_predict(silent_clf, X_train, y_train_5, cv=3)\n",
    "\n",
    "# the cross_val_predict() performs k-folds cross-validation, and it returns the predictions made on each test fold\n",
    "# these are clean predictions meaning the model is making predictions on data that it never saw during training"
   ]
  },
  {
   "cell_type": "code",
   "execution_count": 36,
   "metadata": {
    "colab": {
     "base_uri": "https://localhost:8080/"
    },
    "executionInfo": {
     "elapsed": 34,
     "status": "ok",
     "timestamp": 1706226528961,
     "user": {
      "displayName": "Devan Morehouse",
      "userId": "12659030949256190002"
     },
     "user_tz": 300
    },
    "id": "6TcfDsGOMegn",
    "outputId": "74511aa6-4c1f-4a0f-b1bb-8d3dd2060c2b"
   },
   "outputs": [
    {
     "data": {
      "text/plain": [
       "array([ True, False, False, ...,  True, False, False])"
      ]
     },
     "execution_count": 36,
     "metadata": {},
     "output_type": "execute_result"
    }
   ],
   "source": [
    "y_train_pred"
   ]
  },
  {
   "cell_type": "markdown",
   "metadata": {
    "id": "3bAFG4CJ1cS4"
   },
   "source": [
    "#### Personal Question:\n",
    "##### Does this mean that y_train_pred will have 3 different fit models?\n",
    "##### Bc how can it find the best over all model between the 3 sets without overfitting problems\n"
   ]
  },
  {
   "cell_type": "markdown",
   "metadata": {
    "id": "QQnHpTRv1XWN"
   },
   "source": []
  },
  {
   "cell_type": "markdown",
   "metadata": {
    "id": "9eXlg2KaI-s3"
   },
   "source": [
    "# Question\n",
    "\n",
    "In general,   resubsitution rates are untrustworthy.  Why?\n",
    "-  \n",
    "\n",
    "We prefer independent test results over cross validation estimates,  why is this?\n",
    "-   \n",
    "\n",
    "Why are cross validation estimates easier to obtain and work with?\n",
    "-   "
   ]
  },
  {
   "cell_type": "markdown",
   "metadata": {},
   "source": [
    "### Answer \n",
    "- resubstitution rate are untrustworthly bc it is training and test the model on the same data that can lead to bias in the accuracy \n",
    "- we prefer cross validation because this gives folds the data into different training and testing data and will give a better measure of calculating accuracy in the model\n",
    "- cross validation estimated are easier to obtain and work with because of the nature of folding the data into training and testing based on the desired amount of fold. "
   ]
  },
  {
   "cell_type": "markdown",
   "metadata": {
    "id": "azgwdh9wI-s3"
   },
   "source": [
    "Next we will create a confusion matrix to look at the performance of the model\n",
    "\n",
    "The ideas related to classification metrics, confusion matrices and ROC curves are all discussed in Geron,  Chapter 3\n",
    "\n",
    "https://learning.oreilly.com/library/view/hands-on-machine-learning/9781492032632/ch03.html#idm45022187098104\n",
    "\n",
    "There is another discussion in Provost and Fawcett that is very business oriented\n",
    "\n",
    "https://learning.oreilly.com/library/view/data-science-for/9781449374273/ch08.html#eightdot4_the_area_under_the_roc_curve_l\n",
    "\n",
    "\n",
    "A confusion matrix shows the correct label (y) and the predicted category as labels on a matrix, so we can see what types of mistakes the classifier is making and how many\n",
    "\n",
    "The columns are the predictions,   rows are the actual correct classes\n",
    "\n",
    "          Prediction        \n",
    "actual       {5}                 {not 5}\n",
    "  {5}     | True Positives    False Negative |\n",
    " {not 5}  | False Positive    True Negative  |\n"
   ]
  },
  {
   "cell_type": "code",
   "execution_count": 37,
   "metadata": {
    "colab": {
     "base_uri": "https://localhost:8080/"
    },
    "executionInfo": {
     "elapsed": 27,
     "status": "ok",
     "timestamp": 1706226528961,
     "user": {
      "displayName": "Devan Morehouse",
      "userId": "12659030949256190002"
     },
     "user_tz": 300
    },
    "id": "6SD6uRMZI-s3",
    "outputId": "5ad1010d-0d67-4b53-8100-eb8fa70a9032"
   },
   "outputs": [
    {
     "data": {
      "text/plain": [
       "array([[54372,   207],\n",
       "       [  267,  5154]])"
      ]
     },
     "execution_count": 37,
     "metadata": {},
     "output_type": "execute_result"
    }
   ],
   "source": [
    "from sklearn.metrics import confusion_matrix\n",
    "\n",
    "confusion_matrix(y_train_5,y_train_pred)\n",
    "# Each row explains an actual class (First row Negative class, Second row Postive class)\n",
    "# Each columns explains a predicted class\n",
    "\n",
    "# True Negatives, False Positives (Type I error)\n",
    "# False Negatives (Type II error), True Positives"
   ]
  },
  {
   "cell_type": "markdown",
   "metadata": {
    "id": "pYZOL2q3I-s3"
   },
   "source": [
    "What is the fraction of correct classifications?"
   ]
  },
  {
   "cell_type": "code",
   "execution_count": 38,
   "metadata": {
    "colab": {
     "base_uri": "https://localhost:8080/"
    },
    "executionInfo": {
     "elapsed": 25,
     "status": "ok",
     "timestamp": 1706226528961,
     "user": {
      "displayName": "Devan Morehouse",
      "userId": "12659030949256190002"
     },
     "user_tz": 300
    },
    "id": "Nm9W6I8dI-s3",
    "outputId": "53de714e-32c9-4cf0-b18a-0c338a5b68db"
   },
   "outputs": [
    {
     "name": "stdout",
     "output_type": "stream",
     "text": [
      "0.9921\n"
     ]
    }
   ],
   "source": [
    "n_correct = sum(y_train_pred == y_train_5)\n",
    "print(n_correct / len(y_train_pred))"
   ]
  },
  {
   "cell_type": "markdown",
   "metadata": {
    "id": "Y0YBip4qfgk5"
   },
   "source": [
    "![image.png](data:image/png;base64,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)"
   ]
  },
  {
   "cell_type": "code",
   "execution_count": 39,
   "metadata": {
    "colab": {
     "base_uri": "https://localhost:8080/"
    },
    "executionInfo": {
     "elapsed": 218,
     "status": "ok",
     "timestamp": 1706226529158,
     "user": {
      "displayName": "Devan Morehouse",
      "userId": "12659030949256190002"
     },
     "user_tz": 300
    },
    "id": "ZExWrpD1I-s3",
    "outputId": "a8d39a92-8aec-42b2-fc4e-5e9c46eb1eac"
   },
   "outputs": [
    {
     "name": "stdout",
     "output_type": "stream",
     "text": [
      "0.9613878007834359\n",
      "0.9507470946319867\n"
     ]
    }
   ],
   "source": [
    "from sklearn.metrics import precision_score, recall_score\n",
    "\n",
    "#TP- True positive,   a positive y classed as positive\n",
    "#FP- False positive,  a negative y classed as a positive\n",
    "\n",
    "#FN  -False negative,   a positive y classed as negative\n",
    "#T   -True negative,    a negative classed as a negative\n",
    "\n",
    "# Precision = TP/(FP+TP)\n",
    "print(precision_score(y_train_5, y_train_pred))\n",
    "# When predicting postive item it can correctly assume it this %\n",
    "\n",
    "#recall,   TP/(TP+FN)\n",
    "print(recall_score(y_train_5, y_train_pred))\n",
    "# When looking at the actual postive value it can detect them this %"
   ]
  },
  {
   "cell_type": "markdown",
   "metadata": {
    "id": "Xq9kKw88I-s4"
   },
   "source": [
    "In your own words,  \n",
    "what is Precision?\n",
    "-   \n",
    "\n",
    "What is recall?\n",
    "-     \n",
    "\n",
    "\n",
    "\n"
   ]
  },
  {
   "cell_type": "markdown",
   "metadata": {
    "executionInfo": {
     "elapsed": 5,
     "status": "ok",
     "timestamp": 1706226529159,
     "user": {
      "displayName": "Devan Morehouse",
      "userId": "12659030949256190002"
     },
     "user_tz": 300
    },
    "id": "92rL6T3CjKP7"
   },
   "source": [
    "#### There are time talking about precision and recall, where you will care more one over the other\n",
    "#### For example:\n",
    "    # - A trained classifier to YouTube detecting sensitive information harmful to kids\n",
    "    # - We would prefer a classifier that rejects many good videos (low recall), but only keeps safe ones (high precision)\n",
    "\n",
    "#### Alternative example:\n",
    "    # - a security alarm that detects shoplifters\n",
    "    # - We would prefer a lot more false alarms (low precision), in the exchange of catching all the shoplifters (high recall)\n",
    "\n",
    "#### Remember we can't have it both ways increasing the precision, decreases the reduces the recall, and vice versa\n",
    "    # This is called the precision/recall tradeoff\n",
    "\n",
    "#### If you can't have a lot of incorrect approvals you need high precision\n",
    "#### If you can't let the targeted group go unchecked you need high recall"
   ]
  },
  {
   "cell_type": "markdown",
   "metadata": {
    "id": "j7SPEU8WI-s4"
   },
   "source": [
    " ## Part 3:  More advanced ideas on describing classifier behavior\n"
   ]
  },
  {
   "cell_type": "markdown",
   "metadata": {
    "id": "Au2bQ9TOI-s4"
   },
   "source": [
    "We can plot precision and recall as a function of the Threshold\n",
    "\n",
    "The output of the classifier as a probability value allows us to decide which category to assign each specimen.\n",
    "\n",
    "We would state a classification rule such as:\n",
    "\n",
    "If probability of class 1 for a specimen is greater than the threshold level,  assign the specimen to class 1,  if not assign\n",
    "it to class 2.\n",
    "\n",
    "Changing the threshold value alters the number of TP, FP, TN an FN results we will see and thus\n",
    "the precision and recall.\n",
    "\n",
    "Plotting precision and recall is helpful in understanding the model behavior"
   ]
  },
  {
   "cell_type": "markdown",
   "metadata": {
    "id": "tB7kVFINvKXA"
   },
   "source": [
    "![image.png](data:image/png;base64,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)"
   ]
  },
  {
   "cell_type": "markdown",
   "metadata": {
    "executionInfo": {
     "elapsed": 5,
     "status": "ok",
     "timestamp": 1706226529159,
     "user": {
      "displayName": "Devan Morehouse",
      "userId": "12659030949256190002"
     },
     "user_tz": 300
    },
    "id": "tzZHhyzzvVny"
   },
   "source": [
    "#### Note:\n",
    "- Increasing the threshold increases the precision and decreases the recall"
   ]
  },
  {
   "cell_type": "code",
   "execution_count": 42,
   "metadata": {
    "executionInfo": {
     "elapsed": 207747,
     "status": "ok",
     "timestamp": 1706226736902,
     "user": {
      "displayName": "Devan Morehouse",
      "userId": "12659030949256190002"
     },
     "user_tz": 300
    },
    "id": "z_vjMvBDI-s4",
    "scrolled": true
   },
   "outputs": [],
   "source": [
    "y_scores = cross_val_predict(silent_clf, X_train, y_train_5, cv=3,\n",
    "                             method=\"predict_proba\")"
   ]
  },
  {
   "cell_type": "code",
   "execution_count": 43,
   "metadata": {
    "executionInfo": {
     "elapsed": 146,
     "status": "ok",
     "timestamp": 1706226736902,
     "user": {
      "displayName": "Devan Morehouse",
      "userId": "12659030949256190002"
     },
     "user_tz": 300
    },
    "id": "u4lDwFqEyV2n"
   },
   "outputs": [],
   "source": [
    "# ?cross_val_predict"
   ]
  },
  {
   "cell_type": "code",
   "execution_count": 44,
   "metadata": {
    "executionInfo": {
     "elapsed": 145,
     "status": "ok",
     "timestamp": 1706226736902,
     "user": {
      "displayName": "Devan Morehouse",
      "userId": "12659030949256190002"
     },
     "user_tz": 300
    },
    "id": "P8YF0q9RI-s4"
   },
   "outputs": [],
   "source": [
    "from sklearn.metrics import precision_recall_curve\n",
    "\n",
    "precisions, recalls, thresholds = precision_recall_curve(y_train_5, y_scores[:,1])"
   ]
  },
  {
   "cell_type": "code",
   "execution_count": 45,
   "metadata": {
    "colab": {
     "base_uri": "https://localhost:8080/"
    },
    "executionInfo": {
     "elapsed": 144,
     "status": "ok",
     "timestamp": 1706226736902,
     "user": {
      "displayName": "Devan Morehouse",
      "userId": "12659030949256190002"
     },
     "user_tz": 300
    },
    "id": "CBok3TTgI-s4",
    "outputId": "90fbf9fb-6c8a-4034-9d48-e99064896de3"
   },
   "outputs": [
    {
     "name": "stdout",
     "output_type": "stream",
     "text": [
      "[0.09035    0.09035151 0.09035301 ... 1.         1.         1.        ]\n"
     ]
    }
   ],
   "source": [
    "print(precisions)"
   ]
  },
  {
   "cell_type": "code",
   "execution_count": 46,
   "metadata": {
    "colab": {
     "base_uri": "https://localhost:8080/"
    },
    "executionInfo": {
     "elapsed": 162,
     "status": "ok",
     "timestamp": 1706226737046,
     "user": {
      "displayName": "Devan Morehouse",
      "userId": "12659030949256190002"
     },
     "user_tz": 300
    },
    "id": "EDKzQRRm1N3m",
    "outputId": "24e4a1c5-e7c2-4224-a953-0fa4275ee2bd"
   },
   "outputs": [
    {
     "name": "stdout",
     "output_type": "stream",
     "text": [
      "[1.         1.         1.         ... 0.27633278 0.25862387 0.        ]\n"
     ]
    }
   ],
   "source": [
    "print(recalls)"
   ]
  },
  {
   "cell_type": "markdown",
   "metadata": {
    "id": "y3S6pJiZI-s4"
   },
   "source": [
    "This is a precision-recall curve"
   ]
  },
  {
   "cell_type": "code",
   "execution_count": 47,
   "metadata": {
    "colab": {
     "base_uri": "https://localhost:8080/",
     "height": 449
    },
    "executionInfo": {
     "elapsed": 200,
     "status": "ok",
     "timestamp": 1706226737244,
     "user": {
      "displayName": "Devan Morehouse",
      "userId": "12659030949256190002"
     },
     "user_tz": 300
    },
    "id": "FmI1MV15I-s4",
    "outputId": "95ee05fd-969e-488a-a2bd-c1336925cfa1",
    "scrolled": true
   },
   "outputs": [
    {
     "data": {
      "image/png": "[encoded data removed]",
      "text/plain": [
       "<Figure size 640x480 with 1 Axes>"
      ]
     },
     "metadata": {},
     "output_type": "display_data"
    }
   ],
   "source": [
    "def plot_precision_recall_vs_threshold(precisions, recalls, thresholds):\n",
    "    plt.plot(thresholds, precisions[:-1], \"b--\", label=\"Precision\")\n",
    "    plt.plot(thresholds, recalls[:-1], \"g-\", label=\"Recall\")\n",
    "    plt.legend()\n",
    "    plt.grid()\n",
    "    plt.ylabel(\"precsion/recall\")\n",
    "    plt.xlabel(\"Threshold\")\n",
    "    [...] # highlight the threshold and add the legend, axis label, and grid\n",
    "\n",
    "plot_precision_recall_vs_threshold(precisions, recalls, thresholds)\n",
    "plt.show()"
   ]
  },
  {
   "cell_type": "markdown",
   "metadata": {
    "id": "rnUaZGjbI-s5"
   },
   "source": [
    "### The receiver-operator curve\n",
    "\n",
    "This works great for binary classifiers such as this one\n",
    "\n",
    "It plots the TP rate verses the FP rate,  both are altered by changing the threshold level.\n",
    "\n",
    "In a perfect model,  changing the thresshold will have no effect on the outputs, and the area under the RC curve will be 1.\n",
    "\n",
    "For a random classification,  p=0.5 for all models, and we get the dashed line in the plot, and an area under the curve of 0.5\n",
    "\n",
    "Here's what this looks like"
   ]
  },
  {
   "cell_type": "code",
   "execution_count": 48,
   "metadata": {
    "executionInfo": {
     "elapsed": 190,
     "status": "ok",
     "timestamp": 1706226737430,
     "user": {
      "displayName": "Devan Morehouse",
      "userId": "12659030949256190002"
     },
     "user_tz": 300
    },
    "id": "Pq9VTkDCI-s5"
   },
   "outputs": [],
   "source": [
    "from sklearn.metrics import roc_curve\n",
    "\n",
    "fpr, tpr, thresholds = roc_curve(y_train_5, y_scores[:,1])"
   ]
  },
  {
   "cell_type": "code",
   "execution_count": 49,
   "metadata": {
    "colab": {
     "base_uri": "https://localhost:8080/",
     "height": 449
    },
    "executionInfo": {
     "elapsed": 173,
     "status": "ok",
     "timestamp": 1706226737600,
     "user": {
      "displayName": "Devan Morehouse",
      "userId": "12659030949256190002"
     },
     "user_tz": 300
    },
    "id": "AAkHz_gEI-s5",
    "outputId": "d02b39da-e01d-4f1b-d2f1-200d425b4db4",
    "scrolled": true
   },
   "outputs": [
    {
     "data": {
      "image/png": "[encoded data removed]",
      "text/plain": [
       "<Figure size 640x480 with 1 Axes>"
      ]
     },
     "metadata": {},
     "output_type": "display_data"
    }
   ],
   "source": [
    "def plot_roc_curve(fpr, tpr, label=None):\n",
    "    plt.plot(fpr, tpr, linewidth=2, label=\"ML Model\")\n",
    "    plt.plot([0, 1], [0, 1], 'k--',label=\"Chance\") # Dashed diagonal\n",
    "    plt.legend() # Add axis labels and grid\n",
    "    plt.grid()\n",
    "    plt.ylabel(\"True Positive Rate (Recall)\") # Also called Specificity\n",
    "    plt.xlabel(\"False Positive Rate\") # Also called Fall-out\n",
    "\n",
    "plot_roc_curve(fpr, tpr)\n",
    "plt.show()"
   ]
  },
  {
   "cell_type": "markdown",
   "metadata": {
    "id": "wpHzHK9OI-s5"
   },
   "source": [
    "This is a really impressive ROC curve, there is a tiny rounding area in the upper right corner, that indicates some reduction\n",
    "in the True Positive Rate when the False Positive rate is zero."
   ]
  },
  {
   "cell_type": "code",
   "execution_count": 50,
   "metadata": {
    "colab": {
     "base_uri": "https://localhost:8080/"
    },
    "executionInfo": {
     "elapsed": 6,
     "status": "ok",
     "timestamp": 1706226737600,
     "user": {
      "displayName": "Devan Morehouse",
      "userId": "12659030949256190002"
     },
     "user_tz": 300
    },
    "id": "Y_G19RkDI-s5",
    "outputId": "d40906cc-112d-42df-a6dd-89910ae2eae1"
   },
   "outputs": [
    {
     "data": {
      "text/plain": [
       "0.9972886266964508"
      ]
     },
     "execution_count": 50,
     "metadata": {},
     "output_type": "execute_result"
    }
   ],
   "source": [
    "from sklearn.metrics import roc_auc_score\n",
    "roc_auc_score(y_train_5, y_scores[:,1])"
   ]
  },
  {
   "cell_type": "markdown",
   "metadata": {
    "id": "W6-SQfZCI-s5"
   },
   "source": [
    "# 4 Final Step:  evaluate the performance of your best model using the Test Data\n",
    "\n",
    "Now let's look at the actual test set- this should be the last step in an analysis!\n",
    "\n",
    "When you have the final model chosen, and you have optimized it and studied it and thrashed the living tar out of the input step,  you want to test that final model against the test data,  which you have never really looked at.\n",
    "\n",
    "You only meet a test set for the first time once.   It is only \"new\" data once.   Remember that after you look at data, you are in an a-posteriori world,   not the a-priori world of new data.   (Remember the Monte Hall problem?).\n",
    "\n",
    "So,  a test set is only useable once.   After that,  it could be training data, but never truly test data again."
   ]
  },
  {
   "cell_type": "markdown",
   "metadata": {
    "id": "UooxQ4zgI-s5"
   },
   "source": [
    "### Overfitting and Underfitting\n",
    "\n",
    "If your model is too simple,  it doesn't make full use of the information in the predictors X and has less than ideal peformance.   Your model has prediction bias, since it misses important features of the data\n",
    "\n",
    "If your model is too complex,  it tries to be two precise or detailed for what you know about the data (ie you drew a regression line through all the points on a graph).   THis is called a prediction variance.\n",
    "\n",
    "You want a model in the sweet spot between prediction and variance.\n"
   ]
  },
  {
   "cell_type": "markdown",
   "metadata": {
    "id": "FMxNIFvXI-s5"
   },
   "source": [
    "Predict on the X-test set (only once!) and then characterize performance"
   ]
  },
  {
   "cell_type": "code",
   "execution_count": 51,
   "metadata": {
    "executionInfo": {
     "elapsed": 152,
     "status": "ok",
     "timestamp": 1706226737748,
     "user": {
      "displayName": "Devan Morehouse",
      "userId": "12659030949256190002"
     },
     "user_tz": 300
    },
    "id": "jUiZWSGPI-s6",
    "scrolled": true
   },
   "outputs": [],
   "source": [
    "pred_test=clf.predict(X_test)"
   ]
  },
  {
   "cell_type": "code",
   "execution_count": 52,
   "metadata": {
    "executionInfo": {
     "elapsed": 173,
     "status": "ok",
     "timestamp": 1706226737919,
     "user": {
      "displayName": "Devan Morehouse",
      "userId": "12659030949256190002"
     },
     "user_tz": 300
    },
    "id": "NXRCOVKmI-s6"
   },
   "outputs": [],
   "source": [
    "pred_test_prob=clf.predict_proba(X_test)"
   ]
  },
  {
   "cell_type": "code",
   "execution_count": 53,
   "metadata": {
    "colab": {
     "base_uri": "https://localhost:8080/"
    },
    "executionInfo": {
     "elapsed": 10,
     "status": "ok",
     "timestamp": 1706226737919,
     "user": {
      "displayName": "Devan Morehouse",
      "userId": "12659030949256190002"
     },
     "user_tz": 300
    },
    "id": "XghWUBnRI-s6",
    "outputId": "2c873fc9-aef3-479d-e1d1-2ebf5f46c529"
   },
   "outputs": [
    {
     "data": {
      "text/plain": [
       "array([[9093,   15],\n",
       "       [  35,  857]])"
      ]
     },
     "execution_count": 53,
     "metadata": {},
     "output_type": "execute_result"
    }
   ],
   "source": [
    "confusion_matrix(y_test_5, pred_test)"
   ]
  },
  {
   "cell_type": "code",
   "execution_count": 54,
   "metadata": {
    "colab": {
     "base_uri": "https://localhost:8080/"
    },
    "executionInfo": {
     "elapsed": 8,
     "status": "ok",
     "timestamp": 1706226737920,
     "user": {
      "displayName": "Devan Morehouse",
      "userId": "12659030949256190002"
     },
     "user_tz": 300
    },
    "id": "0jE1rq-1I-s6",
    "outputId": "6d49a1b3-46d9-4fd2-efb8-f14d6457665e"
   },
   "outputs": [
    {
     "name": "stdout",
     "output_type": "stream",
     "text": [
      "0.995\n"
     ]
    }
   ],
   "source": [
    "n_correct = sum(y_test_5 == pred_test)\n",
    "print(n_correct / len(y_test_5))"
   ]
  },
  {
   "cell_type": "code",
   "execution_count": 55,
   "metadata": {
    "executionInfo": {
     "elapsed": 5,
     "status": "ok",
     "timestamp": 1706226737920,
     "user": {
      "displayName": "Devan Morehouse",
      "userId": "12659030949256190002"
     },
     "user_tz": 300
    },
    "id": "szenBh7hI-s6"
   },
   "outputs": [],
   "source": [
    "fpr, tpr, thresholds = roc_curve(y_test_5, pred_test_prob[:,1])"
   ]
  },
  {
   "cell_type": "code",
   "execution_count": 56,
   "metadata": {
    "colab": {
     "base_uri": "https://localhost:8080/",
     "height": 449
    },
    "executionInfo": {
     "elapsed": 473,
     "status": "ok",
     "timestamp": 1706226738389,
     "user": {
      "displayName": "Devan Morehouse",
      "userId": "12659030949256190002"
     },
     "user_tz": 300
    },
    "id": "Y3wYrvseI-s6",
    "outputId": "50744764-b027-4162-8b28-50b15bcb69b3"
   },
   "outputs": [
    {
     "data": {
      "image/png": "[encoded data removed]",
      "text/plain": [
       "<Figure size 640x480 with 1 Axes>"
      ]
     },
     "metadata": {},
     "output_type": "display_data"
    }
   ],
   "source": [
    "plot_roc_curve(fpr, tpr)\n",
    "plt.show()"
   ]
  },
  {
   "cell_type": "code",
   "execution_count": 57,
   "metadata": {
    "colab": {
     "base_uri": "https://localhost:8080/"
    },
    "executionInfo": {
     "elapsed": 16,
     "status": "ok",
     "timestamp": 1706226738390,
     "user": {
      "displayName": "Devan Morehouse",
      "userId": "12659030949256190002"
     },
     "user_tz": 300
    },
    "id": "j0h6sgHhI-s6",
    "outputId": "405cba3c-5875-4ccf-c536-dc694f913825"
   },
   "outputs": [
    {
     "data": {
      "text/plain": [
       "0.9972886266964508"
      ]
     },
     "execution_count": 57,
     "metadata": {},
     "output_type": "execute_result"
    }
   ],
   "source": [
    "roc_auc_score(y_train_5, y_scores[:,1])"
   ]
  },
  {
   "cell_type": "markdown",
   "metadata": {
    "id": "podl8DU4I-s6"
   },
   "source": [
    "# Questions\n",
    "\n",
    "Is there any evidence of overfitting here?  \n",
    "\n",
    "How could we look for signs of bias?"
   ]
  },
  {
   "cell_type": "markdown",
   "metadata": {},
   "source": [
    "#### Answer:\n",
    "- There does not look to be any signs of overfitting of the model. We can conclude this by observing no change in the roc_auc_score for the training data and the test data. If the model was overfit, meaning there was bias to the training data, we would see a decrease in the roc_auc_score"
   ]
  },
  {
   "cell_type": "markdown",
   "metadata": {
    "id": "8LsODNYYI-s6"
   },
   "source": [
    "## Coming up on the homework\n",
    "\n",
    "1.) Use the cells of this example notebook to create a new classifier that uses all ten image classes,  meaning using y_train\n",
    "rather than y_train_5.   This is a multiple category classifier rather than a binary classifier.\n",
    "\n",
    "You may want to increase the number of neurons in the model.\n",
    "\n",
    "Use the accuracy, precision and recall calculations, but not the ROC plot or the precision vs recall plots,  those don't work\n",
    "for multiple category models.    Do calculate and look at the confusion matrix\n",
    "\n",
    "2.) Load the MNIST Fashion data set, which is a tougher problem.   It is as set of black and white images of pieces of clothing\n",
    "\n",
    "\n",
    "These are 28 x 28 greyscale images,  just as we saw above\n",
    "\n",
    "Build a neural net classifier for this data set,attempt to optimize it and describe the performance as above.   Start with a\n",
    "binary classifier to try to detect one particular clothing item,  then go on to try to classify using all ten categories"
   ]
  },
  {
   "cell_type": "code",
   "execution_count": 57,
   "metadata": {
    "executionInfo": {
     "elapsed": 11,
     "status": "ok",
     "timestamp": 1706226738390,
     "user": {
      "displayName": "Devan Morehouse",
      "userId": "12659030949256190002"
     },
     "user_tz": 300
    },
    "id": "nupbrFwuI-s7"
   },
   "outputs": [],
   "source": []
  }
 ],
 "metadata": {
  "colab": {
   "provenance": []
  },
  "kernelspec": {
   "display_name": "Python 3 (ipykernel)",
   "language": "python",
   "name": "python3"
  },
  "language_info": {
   "codemirror_mode": {
    "name": "ipython",
    "version": 3
   },
   "file_extension": ".py",
   "mimetype": "text/x-python",
   "name": "python",
   "nbconvert_exporter": "python",
   "pygments_lexer": "ipython3",
   "version": "3.11.5"
  }
 },
 "nbformat": 4,
 "nbformat_minor": 1
}
