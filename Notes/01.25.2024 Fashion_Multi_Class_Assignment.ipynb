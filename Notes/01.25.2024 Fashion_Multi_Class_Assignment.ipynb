{
 "cells": [
  {
   "cell_type": "markdown",
   "metadata": {
    "id": "d1Z-NCNr7oUV"
   },
   "source": [
    "# 0:  Loading the MNIST fashion data set\n",
    "\n",
    "It is already split out into a train and test set,  but the X and y values (label or target) are in single file\n",
    "\n",
    "In this version, we want to build a multiple category classification system, rather than a binary classifier\n",
    "\n",
    "The opening section of this notebook is identical to the binary classification assignment\n",
    "\n",
    "Use the ideas from the in class exercise using the MNIST digits set to build a classifier for the Fashion data with multiple categories"
   ]
  },
  {
   "cell_type": "markdown",
   "metadata": {
    "id": "TG871a527oUW"
   },
   "source": [
    "I'm going to get you started here a bit,  but pay attention to how I load the data here and the data formats used.\n",
    "\n",
    "This data came as two csv files, with the filenames as shown\n",
    "\n",
    "I got the data files from kaggle.com,  this data set is widely distributed\n",
    "\n",
    "I loaded this as a pandas data frame,  this is a relatively reliable, easy data frame to use\n",
    "\n",
    "I think this file has a header\n",
    "\n",
    "See\n",
    "\n",
    "https://www.kaggle.com/zalando-research/fashionmnist\n"
   ]
  },
  {
   "cell_type": "markdown",
   "metadata": {
    "id": "yfZGujQY7oUX"
   },
   "source": [
    "# load the pandas and numpy libraries\n",
    "used for the data frame tools (Pandas) and to define matrices and do linear algebra (Numpy)"
   ]
  },
  {
   "cell_type": "code",
   "execution_count": 1,
   "metadata": {
    "id": "v2fPwIq07oUX"
   },
   "outputs": [],
   "source": [
    "import pandas as pd\n",
    "import numpy as np"
   ]
  },
  {
   "cell_type": "markdown",
   "metadata": {
    "id": "Rz8oQlry7oUX"
   },
   "source": [
    "The next steps load the test and training data into pandas data frames\n",
    "\n",
    "Pandas has a dataframe structure much like the R dataframe, or an SQL table\n",
    "\n",
    "There are many pandas member functions that do useful operations on the data frame,  here the\n",
    "read_csv() member function is used to load csv files into data frames.\n",
    "\n",
    "The infile style variables need to have the full path name to the location of the data files in use\n",
    "\n",
    "If you are working on a local computer, download thes files and then enter their full file address below, using the same format I used.\n",
    "\n",
    "If you are using google colab to run this,\n",
    "\n",
    "         -click on the file menu on the left command bar\n",
    "\n",
    "         -click on the sample data folder (or create it)\n",
    "\n",
    "         -upload the two files to colab's file storage\n",
    "\n",
    "                -fashion-mnist_train.csv\n",
    "\n",
    "                -fashion-mnist_test.csv\n",
    "          \n",
    "          -when the files are uploaded, right click on them and\n",
    "             copy the file addresses down to the infile names below\n",
    "  "
   ]
  },
  {
   "cell_type": "code",
   "execution_count": 2,
   "metadata": {
    "id": "Pkc1gJxL7oUX"
   },
   "outputs": [],
   "source": [
    "# the first two lines are for an upload of the data file on a local computer\n",
    "\n",
    "#train_infile=\"D:\\\\Example_data\\\\MNIST\\\\fashion-mnist_train.csv\"\n",
    "\n",
    "#test_infile=\"D:\\\\Example_data\\\\MNIST\\\\fashion-mnist_test.csv\"\n",
    "\n",
    "\n",
    "# the next two lines are in infile names when I ran this on Colab\n",
    "\n",
    "train_infile=\"../Data/fashion-mnist_train.csv\"\n",
    "\n",
    "test_infile=\"../Data/fashion-mnist_test.csv\"\n",
    "\n",
    "\n",
    "train_df=pd.read_csv(train_infile)\n",
    "\n",
    "test_df=pd.read_csv(test_infile)"
   ]
  },
  {
   "cell_type": "markdown",
   "metadata": {
    "id": "-YZZa_vt7oUX"
   },
   "source": [
    "Let's look at the available member function for a pandas data frame"
   ]
  },
  {
   "cell_type": "code",
   "execution_count": 3,
   "metadata": {
    "colab": {
     "base_uri": "https://localhost:8080/"
    },
    "id": "h4KLP9PY7oUX",
    "outputId": "252ae6e2-6145-4d61-ff3c-7585b398d951"
   },
   "outputs": [
    {
     "data": {
      "text/plain": [
       "['T',\n",
       " '_AXIS_LEN',\n",
       " '_AXIS_ORDERS',\n",
       " '_AXIS_TO_AXIS_NUMBER',\n",
       " '_HANDLED_TYPES',\n",
       " '__abs__',\n",
       " '__add__',\n",
       " '__and__',\n",
       " '__annotations__',\n",
       " '__array__',\n",
       " '__array_priority__',\n",
       " '__array_ufunc__',\n",
       " '__bool__',\n",
       " '__class__',\n",
       " '__contains__',\n",
       " '__copy__',\n",
       " '__dataframe__',\n",
       " '__deepcopy__',\n",
       " '__delattr__',\n",
       " '__delitem__',\n",
       " '__dict__',\n",
       " '__dir__',\n",
       " '__divmod__',\n",
       " '__doc__',\n",
       " '__eq__',\n",
       " '__finalize__',\n",
       " '__floordiv__',\n",
       " '__format__',\n",
       " '__ge__',\n",
       " '__getattr__',\n",
       " '__getattribute__',\n",
       " '__getitem__',\n",
       " '__getstate__',\n",
       " '__gt__',\n",
       " '__hash__',\n",
       " '__iadd__',\n",
       " '__iand__',\n",
       " '__ifloordiv__',\n",
       " '__imod__',\n",
       " '__imul__',\n",
       " '__init__',\n",
       " '__init_subclass__',\n",
       " '__invert__',\n",
       " '__ior__',\n",
       " '__ipow__',\n",
       " '__isub__',\n",
       " '__iter__',\n",
       " '__itruediv__',\n",
       " '__ixor__',\n",
       " '__le__',\n",
       " '__len__',\n",
       " '__lt__',\n",
       " '__matmul__',\n",
       " '__mod__',\n",
       " '__module__',\n",
       " '__mul__',\n",
       " '__ne__',\n",
       " '__neg__',\n",
       " '__new__',\n",
       " '__nonzero__',\n",
       " '__or__',\n",
       " '__pos__',\n",
       " '__pow__',\n",
       " '__radd__',\n",
       " '__rand__',\n",
       " '__rdivmod__',\n",
       " '__reduce__',\n",
       " '__reduce_ex__',\n",
       " '__repr__',\n",
       " '__rfloordiv__',\n",
       " '__rmatmul__',\n",
       " '__rmod__',\n",
       " '__rmul__',\n",
       " '__ror__',\n",
       " '__round__',\n",
       " '__rpow__',\n",
       " '__rsub__',\n",
       " '__rtruediv__',\n",
       " '__rxor__',\n",
       " '__setattr__',\n",
       " '__setitem__',\n",
       " '__setstate__',\n",
       " '__sizeof__',\n",
       " '__str__',\n",
       " '__sub__',\n",
       " '__subclasshook__',\n",
       " '__truediv__',\n",
       " '__weakref__',\n",
       " '__xor__',\n",
       " '_accessors',\n",
       " '_accum_func',\n",
       " '_add_numeric_operations',\n",
       " '_agg_examples_doc',\n",
       " '_agg_summary_and_see_also_doc',\n",
       " '_align_frame',\n",
       " '_align_series',\n",
       " '_append',\n",
       " '_arith_method',\n",
       " '_as_manager',\n",
       " '_attrs',\n",
       " '_box_col_values',\n",
       " '_can_fast_transpose',\n",
       " '_check_inplace_and_allows_duplicate_labels',\n",
       " '_check_inplace_setting',\n",
       " '_check_is_chained_assignment_possible',\n",
       " '_check_label_or_level_ambiguity',\n",
       " '_check_setitem_copy',\n",
       " '_clear_item_cache',\n",
       " '_clip_with_one_bound',\n",
       " '_clip_with_scalar',\n",
       " '_cmp_method',\n",
       " '_combine_frame',\n",
       " '_consolidate',\n",
       " '_consolidate_inplace',\n",
       " '_construct_axes_dict',\n",
       " '_construct_result',\n",
       " '_constructor',\n",
       " '_constructor_sliced',\n",
       " '_create_data_for_split_and_tight_to_dict',\n",
       " '_data',\n",
       " '_dir_additions',\n",
       " '_dir_deletions',\n",
       " '_dispatch_frame_op',\n",
       " '_drop_axis',\n",
       " '_drop_labels_or_levels',\n",
       " '_ensure_valid_index',\n",
       " '_find_valid_index',\n",
       " '_flags',\n",
       " '_from_arrays',\n",
       " '_get_agg_axis',\n",
       " '_get_axis',\n",
       " '_get_axis_name',\n",
       " '_get_axis_number',\n",
       " '_get_axis_resolvers',\n",
       " '_get_block_manager_axis',\n",
       " '_get_bool_data',\n",
       " '_get_cleaned_column_resolvers',\n",
       " '_get_column_array',\n",
       " '_get_index_resolvers',\n",
       " '_get_item_cache',\n",
       " '_get_label_or_level_values',\n",
       " '_get_numeric_data',\n",
       " '_get_value',\n",
       " '_getitem_bool_array',\n",
       " '_getitem_multilevel',\n",
       " '_getitem_nocopy',\n",
       " '_gotitem',\n",
       " '_hidden_attrs',\n",
       " '_indexed_same',\n",
       " '_info_axis',\n",
       " '_info_axis_name',\n",
       " '_info_axis_number',\n",
       " '_info_repr',\n",
       " '_init_mgr',\n",
       " '_inplace_method',\n",
       " '_internal_names',\n",
       " '_internal_names_set',\n",
       " '_is_copy',\n",
       " '_is_homogeneous_type',\n",
       " '_is_label_or_level_reference',\n",
       " '_is_label_reference',\n",
       " '_is_level_reference',\n",
       " '_is_mixed_type',\n",
       " '_is_view',\n",
       " '_iset_item',\n",
       " '_iset_item_mgr',\n",
       " '_iset_not_inplace',\n",
       " '_item_cache',\n",
       " '_iter_column_arrays',\n",
       " '_ixs',\n",
       " '_join_compat',\n",
       " '_logical_func',\n",
       " '_logical_method',\n",
       " '_maybe_cache_changed',\n",
       " '_maybe_update_cacher',\n",
       " '_metadata',\n",
       " '_mgr',\n",
       " '_min_count_stat_function',\n",
       " '_needs_reindex_multi',\n",
       " '_protect_consolidate',\n",
       " '_reduce',\n",
       " '_reduce_axis1',\n",
       " '_reindex_axes',\n",
       " '_reindex_columns',\n",
       " '_reindex_index',\n",
       " '_reindex_multi',\n",
       " '_reindex_with_indexers',\n",
       " '_rename',\n",
       " '_replace_columnwise',\n",
       " '_repr_data_resource_',\n",
       " '_repr_fits_horizontal_',\n",
       " '_repr_fits_vertical_',\n",
       " '_repr_html_',\n",
       " '_repr_latex_',\n",
       " '_reset_cache',\n",
       " '_reset_cacher',\n",
       " '_sanitize_column',\n",
       " '_series',\n",
       " '_set_axis',\n",
       " '_set_axis_name',\n",
       " '_set_axis_nocheck',\n",
       " '_set_is_copy',\n",
       " '_set_item',\n",
       " '_set_item_frame_value',\n",
       " '_set_item_mgr',\n",
       " '_set_value',\n",
       " '_setitem_array',\n",
       " '_setitem_frame',\n",
       " '_setitem_slice',\n",
       " '_slice',\n",
       " '_stat_axis',\n",
       " '_stat_axis_name',\n",
       " '_stat_axis_number',\n",
       " '_stat_function',\n",
       " '_stat_function_ddof',\n",
       " '_take',\n",
       " '_take_with_is_copy',\n",
       " '_to_dict_of_blocks',\n",
       " '_to_latex_via_styler',\n",
       " '_typ',\n",
       " '_update_inplace',\n",
       " '_validate_dtype',\n",
       " '_values',\n",
       " '_where',\n",
       " 'abs',\n",
       " 'add',\n",
       " 'add_prefix',\n",
       " 'add_suffix',\n",
       " 'agg',\n",
       " 'aggregate',\n",
       " 'align',\n",
       " 'all',\n",
       " 'any',\n",
       " 'apply',\n",
       " 'applymap',\n",
       " 'asfreq',\n",
       " 'asof',\n",
       " 'assign',\n",
       " 'astype',\n",
       " 'at',\n",
       " 'at_time',\n",
       " 'attrs',\n",
       " 'axes',\n",
       " 'backfill',\n",
       " 'between_time',\n",
       " 'bfill',\n",
       " 'bool',\n",
       " 'boxplot',\n",
       " 'clip',\n",
       " 'columns',\n",
       " 'combine',\n",
       " 'combine_first',\n",
       " 'compare',\n",
       " 'convert_dtypes',\n",
       " 'copy',\n",
       " 'corr',\n",
       " 'corrwith',\n",
       " 'count',\n",
       " 'cov',\n",
       " 'cummax',\n",
       " 'cummin',\n",
       " 'cumprod',\n",
       " 'cumsum',\n",
       " 'describe',\n",
       " 'diff',\n",
       " 'div',\n",
       " 'divide',\n",
       " 'dot',\n",
       " 'drop',\n",
       " 'drop_duplicates',\n",
       " 'droplevel',\n",
       " 'dropna',\n",
       " 'dtypes',\n",
       " 'duplicated',\n",
       " 'empty',\n",
       " 'eq',\n",
       " 'equals',\n",
       " 'eval',\n",
       " 'ewm',\n",
       " 'expanding',\n",
       " 'explode',\n",
       " 'ffill',\n",
       " 'fillna',\n",
       " 'filter',\n",
       " 'first',\n",
       " 'first_valid_index',\n",
       " 'flags',\n",
       " 'floordiv',\n",
       " 'from_dict',\n",
       " 'from_records',\n",
       " 'ge',\n",
       " 'get',\n",
       " 'groupby',\n",
       " 'gt',\n",
       " 'head',\n",
       " 'hist',\n",
       " 'iat',\n",
       " 'idxmax',\n",
       " 'idxmin',\n",
       " 'iloc',\n",
       " 'index',\n",
       " 'infer_objects',\n",
       " 'info',\n",
       " 'insert',\n",
       " 'interpolate',\n",
       " 'isetitem',\n",
       " 'isin',\n",
       " 'isna',\n",
       " 'isnull',\n",
       " 'items',\n",
       " 'iterrows',\n",
       " 'itertuples',\n",
       " 'join',\n",
       " 'keys',\n",
       " 'kurt',\n",
       " 'kurtosis',\n",
       " 'label',\n",
       " 'last',\n",
       " 'last_valid_index',\n",
       " 'le',\n",
       " 'loc',\n",
       " 'lt',\n",
       " 'mask',\n",
       " 'max',\n",
       " 'mean',\n",
       " 'median',\n",
       " 'melt',\n",
       " 'memory_usage',\n",
       " 'merge',\n",
       " 'min',\n",
       " 'mod',\n",
       " 'mode',\n",
       " 'mul',\n",
       " 'multiply',\n",
       " 'ndim',\n",
       " 'ne',\n",
       " 'nlargest',\n",
       " 'notna',\n",
       " 'notnull',\n",
       " 'nsmallest',\n",
       " 'nunique',\n",
       " 'pad',\n",
       " 'pct_change',\n",
       " 'pipe',\n",
       " 'pivot',\n",
       " 'pivot_table',\n",
       " 'pixel1',\n",
       " 'pixel10',\n",
       " 'pixel11',\n",
       " 'pixel12',\n",
       " 'pixel13',\n",
       " 'pixel14',\n",
       " 'pixel15',\n",
       " 'pixel16',\n",
       " 'pixel17',\n",
       " 'pixel18',\n",
       " 'pixel19',\n",
       " 'pixel2',\n",
       " 'pixel20',\n",
       " 'pixel21',\n",
       " 'pixel22',\n",
       " 'pixel23',\n",
       " 'pixel24',\n",
       " 'pixel25',\n",
       " 'pixel26',\n",
       " 'pixel27',\n",
       " 'pixel28',\n",
       " 'pixel29',\n",
       " 'pixel3',\n",
       " 'pixel30',\n",
       " 'pixel31',\n",
       " 'pixel32',\n",
       " 'pixel33',\n",
       " 'pixel34',\n",
       " 'pixel35',\n",
       " 'pixel36',\n",
       " 'pixel37',\n",
       " 'pixel38',\n",
       " 'pixel39',\n",
       " 'pixel4',\n",
       " 'pixel40',\n",
       " 'pixel41',\n",
       " 'pixel42',\n",
       " 'pixel43',\n",
       " 'pixel44',\n",
       " 'pixel45',\n",
       " 'pixel46',\n",
       " 'pixel47',\n",
       " 'pixel48',\n",
       " 'pixel49',\n",
       " 'pixel5',\n",
       " 'pixel50',\n",
       " 'pixel51',\n",
       " 'pixel52',\n",
       " 'pixel53',\n",
       " 'pixel54',\n",
       " 'pixel55',\n",
       " 'pixel56',\n",
       " 'pixel57',\n",
       " 'pixel58',\n",
       " 'pixel59',\n",
       " 'pixel6',\n",
       " 'pixel60',\n",
       " 'pixel61',\n",
       " 'pixel62',\n",
       " 'pixel63',\n",
       " 'pixel64',\n",
       " 'pixel65',\n",
       " 'pixel66',\n",
       " 'pixel67',\n",
       " 'pixel68',\n",
       " 'pixel69',\n",
       " 'pixel7',\n",
       " 'pixel70',\n",
       " 'pixel71',\n",
       " 'pixel72',\n",
       " 'pixel73',\n",
       " 'pixel74',\n",
       " 'pixel75',\n",
       " 'pixel76',\n",
       " 'pixel77',\n",
       " 'pixel78',\n",
       " 'pixel79',\n",
       " 'pixel8',\n",
       " 'pixel80',\n",
       " 'pixel81',\n",
       " 'pixel82',\n",
       " 'pixel83',\n",
       " 'pixel84',\n",
       " 'pixel85',\n",
       " 'pixel86',\n",
       " 'pixel87',\n",
       " 'pixel88',\n",
       " 'pixel89',\n",
       " 'pixel9',\n",
       " 'pixel90',\n",
       " 'pixel91',\n",
       " 'pixel92',\n",
       " 'pixel93',\n",
       " 'pixel94',\n",
       " 'pixel95',\n",
       " 'pixel96',\n",
       " 'pixel97',\n",
       " 'pixel98',\n",
       " 'pixel99',\n",
       " 'plot',\n",
       " 'pop',\n",
       " 'pow',\n",
       " 'prod',\n",
       " 'product',\n",
       " 'quantile',\n",
       " 'query',\n",
       " 'radd',\n",
       " 'rank',\n",
       " 'rdiv',\n",
       " 'reindex',\n",
       " 'reindex_like',\n",
       " 'rename',\n",
       " 'rename_axis',\n",
       " 'reorder_levels',\n",
       " 'replace',\n",
       " 'resample',\n",
       " 'reset_index',\n",
       " 'rfloordiv',\n",
       " 'rmod',\n",
       " 'rmul',\n",
       " 'rolling',\n",
       " 'round',\n",
       " 'rpow',\n",
       " 'rsub',\n",
       " 'rtruediv',\n",
       " 'sample',\n",
       " 'select_dtypes',\n",
       " 'sem',\n",
       " 'set_axis',\n",
       " 'set_flags',\n",
       " 'set_index',\n",
       " 'shape',\n",
       " 'shift',\n",
       " 'size',\n",
       " 'skew',\n",
       " 'sort_index',\n",
       " 'sort_values',\n",
       " 'squeeze',\n",
       " 'stack',\n",
       " 'std',\n",
       " 'style',\n",
       " 'sub',\n",
       " 'subtract',\n",
       " 'sum',\n",
       " 'swapaxes',\n",
       " 'swaplevel',\n",
       " 'tail',\n",
       " 'take',\n",
       " 'to_clipboard',\n",
       " 'to_csv',\n",
       " 'to_dict',\n",
       " 'to_excel',\n",
       " 'to_feather',\n",
       " 'to_gbq',\n",
       " 'to_hdf',\n",
       " 'to_html',\n",
       " 'to_json',\n",
       " 'to_latex',\n",
       " 'to_markdown',\n",
       " 'to_numpy',\n",
       " 'to_orc',\n",
       " 'to_parquet',\n",
       " 'to_period',\n",
       " 'to_pickle',\n",
       " 'to_records',\n",
       " 'to_sql',\n",
       " 'to_stata',\n",
       " 'to_string',\n",
       " 'to_timestamp',\n",
       " 'to_xarray',\n",
       " 'to_xml',\n",
       " 'transform',\n",
       " 'transpose',\n",
       " 'truediv',\n",
       " 'truncate',\n",
       " 'tz_convert',\n",
       " 'tz_localize',\n",
       " 'unstack',\n",
       " 'update',\n",
       " 'value_counts',\n",
       " 'values',\n",
       " 'var',\n",
       " 'where',\n",
       " 'xs']"
      ]
     },
     "execution_count": 3,
     "metadata": {},
     "output_type": "execute_result"
    }
   ],
   "source": [
    "dir(test_df)"
   ]
  },
  {
   "cell_type": "code",
   "execution_count": 4,
   "metadata": {
    "colab": {
     "base_uri": "https://localhost:8080/"
    },
    "id": "RenyaHKX7oUY",
    "outputId": "7d215a56-00c5-47e9-bf26-ecbc64b0b34d"
   },
   "outputs": [
    {
     "data": {
      "text/plain": [
       "Index(['label', 'pixel1', 'pixel2', 'pixel3', 'pixel4'], dtype='object')"
      ]
     },
     "execution_count": 4,
     "metadata": {},
     "output_type": "execute_result"
    }
   ],
   "source": [
    "test_df.columns[0:5]"
   ]
  },
  {
   "cell_type": "code",
   "execution_count": 5,
   "metadata": {
    "colab": {
     "base_uri": "https://localhost:8080/"
    },
    "id": "MX7Jc-hO7oUY",
    "outputId": "a6c2e33a-f14f-454b-8e5d-1e7138b418ba"
   },
   "outputs": [
    {
     "data": {
      "text/plain": [
       "(10000, 785)"
      ]
     },
     "execution_count": 5,
     "metadata": {},
     "output_type": "execute_result"
    }
   ],
   "source": [
    "test_df.shape"
   ]
  },
  {
   "cell_type": "code",
   "execution_count": 6,
   "metadata": {
    "colab": {
     "base_uri": "https://localhost:8080/"
    },
    "id": "wK65byH87oUY",
    "outputId": "52454e10-a0e1-40e5-97dd-776e1f2f1190"
   },
   "outputs": [
    {
     "data": {
      "text/plain": [
       "(60000, 785)"
      ]
     },
     "execution_count": 6,
     "metadata": {},
     "output_type": "execute_result"
    }
   ],
   "source": [
    "train_df.shape"
   ]
  },
  {
   "cell_type": "markdown",
   "metadata": {
    "id": "bym58Zf57oUZ"
   },
   "source": [
    "Okay,  I'm expecting 28 x 28 greyscale images again,  we have the first column as the label, the rest of this is the pixels\n",
    "\n",
    "Most skearn models will accept pandas dataframes as input data,   so I don't think we need to do much here except split out\n",
    "the first column as y and the rest of the df as X\n",
    "\n",
    "pandas has a member function called pop that removes a row from the dataframe.  We'll use that to both set y_train equal to the labels, and X_train to the remaining df"
   ]
  },
  {
   "cell_type": "code",
   "execution_count": 7,
   "metadata": {
    "id": "SF4jsY-I7oUZ"
   },
   "outputs": [],
   "source": [
    "y_train=train_df.pop('label')\n",
    "X_train=train_df"
   ]
  },
  {
   "cell_type": "code",
   "execution_count": 8,
   "metadata": {
    "colab": {
     "base_uri": "https://localhost:8080/"
    },
    "id": "IcrHtrEu7oUZ",
    "outputId": "7459b587-01d4-4e2b-cc60-6188810a1621"
   },
   "outputs": [
    {
     "name": "stdout",
     "output_type": "stream",
     "text": [
      "(60000,)\n",
      "(60000, 784)\n"
     ]
    }
   ],
   "source": [
    "print(y_train.shape)\n",
    "print(X_train.shape)"
   ]
  },
  {
   "cell_type": "code",
   "execution_count": 9,
   "metadata": {
    "id": "oslfzhOw7oUZ"
   },
   "outputs": [],
   "source": [
    "y_test=test_df.pop('label')\n",
    "X_test=test_df"
   ]
  },
  {
   "cell_type": "markdown",
   "metadata": {
    "id": "UcG8CBfP7oUZ"
   },
   "source": [
    "Labels\n",
    "\n",
    "Each training and test example is assigned to one of the following labels:\n",
    "\n",
    "0 T-shirt/top\n",
    "1 Trouser\n",
    "2 Pullover\n",
    "3 Dress\n",
    "4 Coat\n",
    "5 Sandal\n",
    "6 Shirt\n",
    "7 Sneaker\n",
    "8 Bag\n",
    "9 Ankle boot"
   ]
  },
  {
   "cell_type": "markdown",
   "metadata": {
    "id": "3VVPCwDC7oUZ"
   },
   "source": [
    "The % symbol indicates that this is a magic function,  that is to say a function\n",
    "command for the jupyter notebook server, not to the python kernel\n",
    "\n",
    "This particular command causes plots created using the matplotlib libary to print in the\n",
    "notebook not in a new window"
   ]
  },
  {
   "cell_type": "code",
   "execution_count": 10,
   "metadata": {
    "id": "Hu8Imx8_7oUZ"
   },
   "outputs": [],
   "source": [
    "%matplotlib inline"
   ]
  },
  {
   "cell_type": "markdown",
   "metadata": {
    "id": "03CaS29-7oUZ"
   },
   "source": [
    "## 1: Data plots\n",
    "\n",
    "Okay here is the visualization of one image, a shirt\n",
    "\n",
    "Note:   I use a location slice of the X_train dataframe,    X_train.loc[0,:] to get row zero, all entries,  or the first\n",
    "    image in the array.   I then force that into the np.array form so I can use the reshape() member function to reshape the\n",
    "    row of data into a 28 x 28 image.\n",
    "    \n",
    "    I don't think that pandas easily allows the reshape maneuver, so that's why I converted to an np.array,  the\n",
    "    reshape operation produces an np matrix that can be plotted with imshow.  There may be a better way to do this.  Hmm.\n",
    "    \n",
    "Also I checked, and we can feed X_train into the training input of the classifier as a pd.dataframe, there is no need to change\n",
    "the format\n",
    "\n",
    "Most sklearn models will accept either pandas dataframes or np matrices as inputs,  which is a help"
   ]
  },
  {
   "cell_type": "code",
   "execution_count": 11,
   "metadata": {
    "colab": {
     "base_uri": "https://localhost:8080/",
     "height": 406
    },
    "id": "Nh_Cr5QN7oUa",
    "outputId": "08c38a7a-11d1-4a3f-9cc3-f35fac89bf16"
   },
   "outputs": [
    {
     "data": {
      "image/png": "[encoded data removed]",
      "text/plain": [
       "<Figure size 640x480 with 1 Axes>"
      ]
     },
     "metadata": {},
     "output_type": "display_data"
    }
   ],
   "source": [
    "import matplotlib as mpl\n",
    "import matplotlib.pyplot as plt\n",
    "\n",
    "some_digit = np.array(X_train.loc[0,:])\n",
    "some_digit_image = some_digit.reshape(28, 28)\n",
    "\n",
    "plt.imshow(some_digit_image, cmap=\"binary\")\n",
    "plt.axis(\"off\")\n",
    "plt.show()"
   ]
  },
  {
   "cell_type": "code",
   "execution_count": 12,
   "metadata": {
    "colab": {
     "base_uri": "https://localhost:8080/"
    },
    "id": "AEsxRZwv7oUa",
    "outputId": "3c2e9621-7b7a-456d-9f46-9dadc4b27470"
   },
   "outputs": [
    {
     "data": {
      "text/plain": [
       "2"
      ]
     },
     "execution_count": 12,
     "metadata": {},
     "output_type": "execute_result"
    }
   ],
   "source": [
    "y_train[0]"
   ]
  },
  {
   "cell_type": "markdown",
   "metadata": {
    "id": "eye3oUld7oUa"
   },
   "source": [
    "# Question/Action\n",
    "\n",
    "What type of cloting is this image supposed to be?   Insert a cell with your answer below"
   ]
  },
  {
   "cell_type": "markdown",
   "metadata": {
    "id": "B7RpH9EC7oUa"
   },
   "source": [
    "#Question/Action\n",
    "\n",
    "Show images of a sandal and a sneaker from this data set, show them in cells below\n",
    "\n",
    "Show all your steps"
   ]
  },
  {
   "cell_type": "code",
   "execution_count": 13,
   "metadata": {
    "colab": {
     "base_uri": "https://localhost:8080/",
     "height": 406
    },
    "id": "SBaASm397oUa",
    "outputId": "8329ffb7-aa39-4b93-d67f-44ea7412a803"
   },
   "outputs": [
    {
     "data": {
      "image/png": "[encoded data removed]",
      "text/plain": [
       "<Figure size 640x480 with 1 Axes>"
      ]
     },
     "metadata": {},
     "output_type": "display_data"
    }
   ],
   "source": [
    "import matplotlib as mpl\n",
    "import matplotlib.pyplot as plt\n",
    "\n",
    "some_digit = np.array(X_train.loc[1,:])\n",
    "some_digit_image = some_digit.reshape(28, 28)\n",
    "\n",
    "plt.imshow(some_digit_image, cmap=\"binary\")\n",
    "plt.axis(\"off\")\n",
    "plt.show()"
   ]
  },
  {
   "cell_type": "code",
   "execution_count": 14,
   "metadata": {
    "colab": {
     "base_uri": "https://localhost:8080/"
    },
    "id": "5c-cAYaS7oUa",
    "outputId": "67c050de-df66-422c-dd2f-a3a35b044057"
   },
   "outputs": [
    {
     "data": {
      "text/plain": [
       "9"
      ]
     },
     "execution_count": 14,
     "metadata": {},
     "output_type": "execute_result"
    }
   ],
   "source": [
    "y_train[1]"
   ]
  },
  {
   "cell_type": "markdown",
   "metadata": {
    "id": "LNDUcoku7oUa"
   },
   "source": [
    "## 2: Time to Build some models\n",
    "\n",
    "Lets build a multi category classifying neural net model\n",
    "\n",
    "fclf - this should classify each image to one of the ten label classes (0-9)\n",
    "\n"
   ]
  },
  {
   "cell_type": "markdown",
   "metadata": {
    "id": "hnHCLwja7oUa"
   },
   "source": [
    "## Okay, go build some models-Assignment\n",
    "\n",
    "1.) For each model find the accuracy, the confusion matrix, the precision and the recall, label these all/\n",
    "    Look at the confusion matrix,  explain which classes of objects were most likely to be confused with\n",
    "    each other and which were most distinct.  Explain why you think this happens,  does it make sense?\n",
    "\n",
    "    I ran these quickly (so I know this works) and got 87.7 % accuracy for the X-train data set using all 10 classes and\n",
    "    97.7 % accuracy  for the binary classification (ie the pullover detector).  See if you can beat the quick results I got.       Post your results in the discussion section of D2L for this week.  Discuss what you did to beat my score\n",
    "\n",
    "2.) Also, create the ROC curve for the binary classifier and compute the AUC for the ROC,  for the binary classifier,  but not for the 10 element classifier\n",
    "\n",
    "3.) When you are done with steps 1 and 2,   use your two classifier models to classify the test data.\n",
    "    Is there evidence of overfitting?  What tells you this?\n",
    "\n",
    "\n",
    "Print your completed jupyter notebook to a pdf file,  you can use the browser to print to pdf.  Upload this to dropbox in D2L to submit the homework."
   ]
  },
  {
   "cell_type": "markdown",
   "metadata": {
    "id": "BHp3-1l57oUb"
   },
   "source": [
    "## fclf2-  A binary classifier as either class 2 or not\n",
    "\n",
    "Since class two is a pullover, this is a \"pullover detector\""
   ]
  },
  {
   "cell_type": "code",
   "execution_count": 15,
   "metadata": {
    "id": "0lptWGXX7oUb"
   },
   "outputs": [
    {
     "name": "stdout",
     "output_type": "stream",
     "text": [
      "Iteration 1, loss = 2.39701701\n",
      "Iteration 2, loss = 1.26783595\n",
      "Iteration 3, loss = 0.91331237\n",
      "Iteration 4, loss = 0.78310348\n",
      "Iteration 5, loss = 0.69564741\n",
      "Iteration 6, loss = 0.63831862\n",
      "Iteration 7, loss = 0.57820165\n",
      "Iteration 8, loss = 0.53043468\n",
      "Iteration 9, loss = 0.49799182\n",
      "Iteration 10, loss = 0.47684637\n",
      "Iteration 11, loss = 0.46056097\n",
      "Iteration 12, loss = 0.44871773\n",
      "Iteration 13, loss = 0.43886652\n",
      "Iteration 14, loss = 0.43281108\n",
      "Iteration 15, loss = 0.42625512\n",
      "Iteration 16, loss = 0.42238268\n",
      "Iteration 17, loss = 0.41704239\n",
      "Iteration 18, loss = 0.41061998\n",
      "Iteration 19, loss = 0.41468647\n",
      "Iteration 20, loss = 0.40866045\n",
      "Iteration 21, loss = 0.40560107\n",
      "Iteration 22, loss = 0.39711162\n",
      "Iteration 23, loss = 0.39359247\n",
      "Iteration 24, loss = 0.39429087\n",
      "Iteration 25, loss = 0.39189282\n",
      "Iteration 26, loss = 0.38827783\n",
      "Iteration 27, loss = 0.38641069\n",
      "Iteration 28, loss = 0.38699566\n",
      "Iteration 29, loss = 0.38334247\n",
      "Iteration 30, loss = 0.38240784\n",
      "Iteration 31, loss = 0.37543925\n",
      "Iteration 32, loss = 0.37230378\n",
      "Iteration 33, loss = 0.37446763\n",
      "Iteration 34, loss = 0.37263191\n",
      "Iteration 35, loss = 0.36475039\n",
      "Iteration 36, loss = 0.36682977\n",
      "Iteration 37, loss = 0.36315167\n",
      "Iteration 38, loss = 0.36035363\n",
      "Iteration 39, loss = 0.36522729\n",
      "Iteration 40, loss = 0.36035252\n",
      "Iteration 41, loss = 0.35660430\n",
      "Iteration 42, loss = 0.35576797\n",
      "Iteration 43, loss = 0.35553212\n",
      "Iteration 44, loss = 0.35219978\n",
      "Iteration 45, loss = 0.35392071\n",
      "Iteration 46, loss = 0.34836479\n",
      "Iteration 47, loss = 0.35352245\n",
      "Iteration 48, loss = 0.34657533\n",
      "Iteration 49, loss = 0.34845672\n",
      "Iteration 50, loss = 0.34663882\n",
      "Iteration 51, loss = 0.34307613\n",
      "Iteration 52, loss = 0.34147375\n",
      "Iteration 53, loss = 0.34322582\n",
      "Iteration 54, loss = 0.33996163\n",
      "Iteration 55, loss = 0.33942158\n",
      "Iteration 56, loss = 0.33980426\n",
      "Iteration 57, loss = 0.33669304\n",
      "Iteration 58, loss = 0.33866180\n",
      "Iteration 59, loss = 0.33814570\n",
      "Iteration 60, loss = 0.33097066\n",
      "Iteration 61, loss = 0.33314326\n",
      "Iteration 62, loss = 0.33548404\n",
      "Iteration 63, loss = 0.33101922\n",
      "Iteration 64, loss = 0.32778643\n",
      "Iteration 65, loss = 0.33064806\n",
      "Iteration 66, loss = 0.33144293\n",
      "Iteration 67, loss = 0.32442077\n",
      "Iteration 68, loss = 0.32725587\n",
      "Iteration 69, loss = 0.32499830\n",
      "Iteration 70, loss = 0.32549903\n",
      "Iteration 71, loss = 0.33029769\n",
      "Iteration 72, loss = 0.32939584\n",
      "Iteration 73, loss = 0.32100154\n",
      "Iteration 74, loss = 0.32644517\n",
      "Iteration 75, loss = 0.32280949\n",
      "Iteration 76, loss = 0.32113548\n",
      "Iteration 77, loss = 0.32502426\n",
      "Iteration 78, loss = 0.31831366\n",
      "Iteration 79, loss = 0.32028025\n",
      "Iteration 80, loss = 0.32518164\n",
      "Iteration 81, loss = 0.31984769\n",
      "Iteration 82, loss = 0.31729616\n",
      "Iteration 83, loss = 0.31996047\n",
      "Iteration 84, loss = 0.31735705\n",
      "Iteration 85, loss = 0.31498409\n",
      "Iteration 86, loss = 0.31721687\n",
      "Iteration 87, loss = 0.31940991\n",
      "Iteration 88, loss = 0.31280738\n",
      "Iteration 89, loss = 0.31110452\n",
      "Iteration 90, loss = 0.31520596\n",
      "Iteration 91, loss = 0.31808982\n",
      "Iteration 92, loss = 0.31642062\n",
      "Iteration 93, loss = 0.31561801\n",
      "Iteration 94, loss = 0.31057491\n",
      "Iteration 95, loss = 0.30957906\n",
      "Iteration 96, loss = 0.31271667\n",
      "Iteration 97, loss = 0.30783567\n",
      "Iteration 98, loss = 0.31435207\n",
      "Iteration 99, loss = 0.30832317\n",
      "Iteration 100, loss = 0.30950177\n",
      "Iteration 101, loss = 0.31304043\n",
      "Iteration 102, loss = 0.30699052\n",
      "Iteration 103, loss = 0.30802130\n",
      "Iteration 104, loss = 0.31065979\n",
      "Iteration 105, loss = 0.30826191\n",
      "Iteration 106, loss = 0.30527069\n",
      "Iteration 107, loss = 0.31191678\n",
      "Iteration 108, loss = 0.30574304\n",
      "Iteration 109, loss = 0.30826866\n",
      "Iteration 110, loss = 0.30698797\n",
      "Iteration 111, loss = 0.30357593\n",
      "Iteration 112, loss = 0.30443350\n",
      "Iteration 113, loss = 0.31114983\n",
      "Iteration 114, loss = 0.30372815\n",
      "Iteration 115, loss = 0.30249066\n",
      "Iteration 116, loss = 0.30263194\n",
      "Iteration 117, loss = 0.30823893\n",
      "Iteration 118, loss = 0.30644104\n",
      "Iteration 119, loss = 0.30109283\n",
      "Iteration 120, loss = 0.30214095\n",
      "Iteration 121, loss = 0.29773336\n",
      "Iteration 122, loss = 0.30501248\n",
      "Iteration 123, loss = 0.30265914\n",
      "Iteration 124, loss = 0.29946483\n",
      "Iteration 125, loss = 0.29843924\n",
      "Iteration 126, loss = 0.29944263\n",
      "Iteration 127, loss = 0.30114820\n",
      "Iteration 128, loss = 0.29924070\n",
      "Iteration 129, loss = 0.29931914\n",
      "Iteration 130, loss = 0.29883424\n",
      "Iteration 131, loss = 0.30033114\n",
      "Iteration 132, loss = 0.30006475\n",
      "Training loss did not improve more than tol=0.000100 for 10 consecutive epochs. Stopping.\n"
     ]
    },
    {
     "data": {
      "text/html": [
       "<style>#sk-container-id-1 {color: black;}#sk-container-id-1 pre{padding: 0;}#sk-container-id-1 div.sk-toggleable {background-color: white;}#sk-container-id-1 label.sk-toggleable__label {cursor: pointer;display: block;width: 100%;margin-bottom: 0;padding: 0.3em;box-sizing: border-box;text-align: center;}#sk-container-id-1 label.sk-toggleable__label-arrow:before {content: \"▸\";float: left;margin-right: 0.25em;color: #696969;}#sk-container-id-1 label.sk-toggleable__label-arrow:hover:before {color: black;}#sk-container-id-1 div.sk-estimator:hover label.sk-toggleable__label-arrow:before {color: black;}#sk-container-id-1 div.sk-toggleable__content {max-height: 0;max-width: 0;overflow: hidden;text-align: left;background-color: #f0f8ff;}#sk-container-id-1 div.sk-toggleable__content pre {margin: 0.2em;color: black;border-radius: 0.25em;background-color: #f0f8ff;}#sk-container-id-1 input.sk-toggleable__control:checked~div.sk-toggleable__content {max-height: 200px;max-width: 100%;overflow: auto;}#sk-container-id-1 input.sk-toggleable__control:checked~label.sk-toggleable__label-arrow:before {content: \"▾\";}#sk-container-id-1 div.sk-estimator input.sk-toggleable__control:checked~label.sk-toggleable__label {background-color: #d4ebff;}#sk-container-id-1 div.sk-label input.sk-toggleable__control:checked~label.sk-toggleable__label {background-color: #d4ebff;}#sk-container-id-1 input.sk-hidden--visually {border: 0;clip: rect(1px 1px 1px 1px);clip: rect(1px, 1px, 1px, 1px);height: 1px;margin: -1px;overflow: hidden;padding: 0;position: absolute;width: 1px;}#sk-container-id-1 div.sk-estimator {font-family: monospace;background-color: #f0f8ff;border: 1px dotted black;border-radius: 0.25em;box-sizing: border-box;margin-bottom: 0.5em;}#sk-container-id-1 div.sk-estimator:hover {background-color: #d4ebff;}#sk-container-id-1 div.sk-parallel-item::after {content: \"\";width: 100%;border-bottom: 1px solid gray;flex-grow: 1;}#sk-container-id-1 div.sk-label:hover label.sk-toggleable__label {background-color: #d4ebff;}#sk-container-id-1 div.sk-serial::before {content: \"\";position: absolute;border-left: 1px solid gray;box-sizing: border-box;top: 0;bottom: 0;left: 50%;z-index: 0;}#sk-container-id-1 div.sk-serial {display: flex;flex-direction: column;align-items: center;background-color: white;padding-right: 0.2em;padding-left: 0.2em;position: relative;}#sk-container-id-1 div.sk-item {position: relative;z-index: 1;}#sk-container-id-1 div.sk-parallel {display: flex;align-items: stretch;justify-content: center;background-color: white;position: relative;}#sk-container-id-1 div.sk-item::before, #sk-container-id-1 div.sk-parallel-item::before {content: \"\";position: absolute;border-left: 1px solid gray;box-sizing: border-box;top: 0;bottom: 0;left: 50%;z-index: -1;}#sk-container-id-1 div.sk-parallel-item {display: flex;flex-direction: column;z-index: 1;position: relative;background-color: white;}#sk-container-id-1 div.sk-parallel-item:first-child::after {align-self: flex-end;width: 50%;}#sk-container-id-1 div.sk-parallel-item:last-child::after {align-self: flex-start;width: 50%;}#sk-container-id-1 div.sk-parallel-item:only-child::after {width: 0;}#sk-container-id-1 div.sk-dashed-wrapped {border: 1px dashed gray;margin: 0 0.4em 0.5em 0.4em;box-sizing: border-box;padding-bottom: 0.4em;background-color: white;}#sk-container-id-1 div.sk-label label {font-family: monospace;font-weight: bold;display: inline-block;line-height: 1.2em;}#sk-container-id-1 div.sk-label-container {text-align: center;}#sk-container-id-1 div.sk-container {/* jupyter's `normalize.less` sets `[hidden] { display: none; }` but bootstrap.min.css set `[hidden] { display: none !important; }` so we also need the `!important` here to be able to override the default hidden behavior on the sphinx rendered scikit-learn.org. See: https://github.com/scikit-learn/scikit-learn/issues/21755 */display: inline-block !important;position: relative;}#sk-container-id-1 div.sk-text-repr-fallback {display: none;}</style><div id=\"sk-container-id-1\" class=\"sk-top-container\"><div class=\"sk-text-repr-fallback\"><pre>MLPClassifier(alpha=1e-05, hidden_layer_sizes=(20, 15, 15, 10), max_iter=500,\n",
       "              random_state=1, verbose=True)</pre><b>In a Jupyter environment, please rerun this cell to show the HTML representation or trust the notebook. <br />On GitHub, the HTML representation is unable to render, please try loading this page with nbviewer.org.</b></div><div class=\"sk-container\" hidden><div class=\"sk-item\"><div class=\"sk-estimator sk-toggleable\"><input class=\"sk-toggleable__control sk-hidden--visually\" id=\"sk-estimator-id-1\" type=\"checkbox\" checked><label for=\"sk-estimator-id-1\" class=\"sk-toggleable__label sk-toggleable__label-arrow\">MLPClassifier</label><div class=\"sk-toggleable__content\"><pre>MLPClassifier(alpha=1e-05, hidden_layer_sizes=(20, 15, 15, 10), max_iter=500,\n",
       "              random_state=1, verbose=True)</pre></div></div></div></div></div>"
      ],
      "text/plain": [
       "MLPClassifier(alpha=1e-05, hidden_layer_sizes=(20, 15, 15, 10), max_iter=500,\n",
       "              random_state=1, verbose=True)"
      ]
     },
     "execution_count": 15,
     "metadata": {},
     "output_type": "execute_result"
    }
   ],
   "source": [
    "from sklearn.neural_network import MLPClassifier\n",
    "clf = MLPClassifier(solver='adam', alpha=1e-5, random_state=1, max_iter=500,hidden_layer_sizes=(20,15,15,10), verbose=True, warm_start=False)\n",
    "# the hidden layers were 20,10,5\n",
    "clf.fit(X_train, y_train)"
   ]
  },
  {
   "cell_type": "code",
   "execution_count": 16,
   "metadata": {
    "id": "BVYaqOZ77oUb"
   },
   "outputs": [
    {
     "data": {
      "text/plain": [
       "array([[6.72385918e-001, 5.04030646e-007, 1.51678749e-005,\n",
       "        8.76450799e-006, 8.77883579e-007, 4.07601340e-024,\n",
       "        3.27555320e-001, 5.04984645e-060, 3.34484903e-005,\n",
       "        1.08742223e-017],\n",
       "       [2.00368068e-018, 9.99999997e-001, 1.03142483e-043,\n",
       "        3.76742609e-012, 3.17456073e-009, 8.72707309e-075,\n",
       "        1.75549873e-028, 8.92745988e-136, 1.00432803e-024,\n",
       "        2.83130753e-053],\n",
       "       [1.46322415e-002, 1.54464640e-004, 8.72715524e-001,\n",
       "        1.36606068e-002, 1.90523850e-002, 2.61092497e-010,\n",
       "        7.88079560e-002, 9.83435557e-018, 9.71157278e-004,\n",
       "        5.66472759e-006],\n",
       "       [3.06618459e-001, 6.01482318e-004, 1.69784042e-001,\n",
       "        2.00693210e-002, 5.03760022e-003, 1.39617687e-010,\n",
       "        4.92441525e-001, 4.56697738e-022, 5.44694574e-003,\n",
       "        6.25733581e-007],\n",
       "       [3.63280069e-003, 1.62981810e-003, 1.26684000e-002,\n",
       "        4.53463784e-001, 5.10413010e-001, 1.66927370e-039,\n",
       "        1.80587851e-002, 1.57567182e-072, 1.33401418e-004,\n",
       "        5.82665319e-020],\n",
       "       [4.05731073e-001, 1.59739933e-003, 6.05733663e-002,\n",
       "        2.31589981e-002, 3.10818324e-003, 1.51979666e-008,\n",
       "        4.92248685e-001, 1.19365896e-018, 1.35800921e-002,\n",
       "        2.18784425e-006],\n",
       "       [1.28166515e-002, 3.99654620e-004, 1.16635548e-003,\n",
       "        1.39511067e-003, 1.01117983e-004, 8.09906926e-004,\n",
       "        2.07409434e-002, 6.57290114e-008, 9.62474201e-001,\n",
       "        9.59930483e-005],\n",
       "       [3.70801177e-002, 3.00548576e-004, 3.79362256e-001,\n",
       "        2.80817089e-002, 1.26513045e-001, 3.69528790e-020,\n",
       "        4.27472913e-001, 6.81081126e-041, 1.18940997e-003,\n",
       "        1.14536662e-011],\n",
       "       [6.57609972e-049, 4.99268267e-040, 2.39134320e-064,\n",
       "        2.65848532e-054, 2.48704902e-033, 1.00000000e+000,\n",
       "        3.56273515e-057, 1.31023423e-021, 2.77880868e-032,\n",
       "        7.05962423e-018],\n",
       "       [9.89674232e-001, 1.73858092e-006, 5.43721215e-010,\n",
       "        5.49568889e-006, 1.57673545e-009, 1.13224205e-036,\n",
       "        1.03093553e-002, 9.59327002e-084, 9.17591466e-006,\n",
       "        3.89583055e-025]])"
      ]
     },
     "execution_count": 16,
     "metadata": {},
     "output_type": "execute_result"
    }
   ],
   "source": [
    "clf.predict_proba(X_test.iloc[:10,:])"
   ]
  },
  {
   "cell_type": "code",
   "execution_count": 17,
   "metadata": {
    "id": "B7_2g7VQ7oUb"
   },
   "outputs": [
    {
     "data": {
      "text/plain": [
       "array([0, 1, 2, 6, 4, 6, 8, 6, 5, 0], dtype=int64)"
      ]
     },
     "execution_count": 17,
     "metadata": {},
     "output_type": "execute_result"
    }
   ],
   "source": [
    "clf.predict(X_test.iloc[:10,:])"
   ]
  },
  {
   "cell_type": "code",
   "execution_count": 18,
   "metadata": {},
   "outputs": [
    {
     "data": {
      "text/plain": [
       "0    0\n",
       "1    1\n",
       "2    2\n",
       "3    2\n",
       "4    3\n",
       "5    2\n",
       "6    8\n",
       "7    6\n",
       "8    5\n",
       "9    0\n",
       "Name: label, dtype: int64"
      ]
     },
     "execution_count": 18,
     "metadata": {},
     "output_type": "execute_result"
    }
   ],
   "source": [
    "y_test[0:10]"
   ]
  },
  {
   "cell_type": "code",
   "execution_count": 21,
   "metadata": {},
   "outputs": [],
   "source": [
    "y_pred=clf.predict(X_train)"
   ]
  },
  {
   "cell_type": "code",
   "execution_count": 22,
   "metadata": {},
   "outputs": [
    {
     "data": {
      "text/plain": [
       "array([[5146,   16,   91,  118,   21,    0,  596,    0,   12,    0],\n",
       "       [   6, 5875,    9,   65,   29,    1,   14,    0,    1,    0],\n",
       "       [  27,    0, 4775,   35,  908,    0,  251,    0,    4,    0],\n",
       "       [ 213,   71,   85, 5110,  366,    1,  149,    0,    4,    1],\n",
       "       [   3,    6,  355,   79, 5386,    3,  168,    0,    0,    0],\n",
       "       [   0,    0,    1,    0,    0, 5923,    3,   56,    4,   13],\n",
       "       [ 879,    6,  676,   74,  806,    0, 3548,    0,   11,    0],\n",
       "       [   0,    0,    0,    0,    0,   47,    0, 5835,    3,  115],\n",
       "       [  14,    2,   32,    8,   30,   12,   75,   28, 5799,    0],\n",
       "       [   0,    0,    0,    0,    0,   12,    0,  214,    0, 5774]],\n",
       "      dtype=int64)"
      ]
     },
     "execution_count": 22,
     "metadata": {},
     "output_type": "execute_result"
    }
   ],
   "source": [
    "from sklearn.metrics import confusion_matrix\n",
    "\n",
    "my_cm=confusion_matrix(y_train,y_pred)\n",
    "my_cm"
   ]
  },
  {
   "cell_type": "markdown",
   "metadata": {
    "id": "lfsx2gkH7oUb"
   },
   "source": [
    "# Action\n",
    "Add the confusion matrix and visualize it as a heatmap"
   ]
  },
  {
   "cell_type": "code",
   "execution_count": 24,
   "metadata": {},
   "outputs": [
    {
     "data": {
      "text/plain": [
       "<Axes: >"
      ]
     },
     "execution_count": 24,
     "metadata": {},
     "output_type": "execute_result"
    },
    {
     "data": {
      "image/png": "[encoded data removed]",
      "text/plain": [
       "<Figure size 640x480 with 2 Axes>"
      ]
     },
     "metadata": {},
     "output_type": "display_data"
    }
   ],
   "source": [
    "import seaborn as sns\n",
    "\n",
    "sns.heatmap(my_cm,annot=True)"
   ]
  },
  {
   "cell_type": "code",
   "execution_count": null,
   "metadata": {},
   "outputs": [],
   "source": [
    "plt.ticklabel_format(useOffset=False)\n"
   ]
  },
  {
   "cell_type": "code",
   "execution_count": 25,
   "metadata": {},
   "outputs": [
    {
     "data": {
      "text/plain": [
       "<Axes: >"
      ]
     },
     "execution_count": 25,
     "metadata": {},
     "output_type": "execute_result"
    },
    {
     "data": {
      "image/png": "[encoded data removed]",
      "text/plain": [
       "<Figure size 640x480 with 2 Axes>"
      ]
     },
     "metadata": {},
     "output_type": "display_data"
    }
   ],
   "source": [
    "import numpy as np\n",
    "\n",
    "sns.heatmap(my_cm-np.eye(my_cm.shape[0])*my_cm,annot=True)"
   ]
  },
  {
   "cell_type": "markdown",
   "metadata": {
    "id": "4GirDyw87oUb"
   },
   "source": [
    "# Action\n",
    "\n",
    "Figure out how to calculate the percentage of correct answers for each category"
   ]
  },
  {
   "cell_type": "code",
   "execution_count": 23,
   "metadata": {},
   "outputs": [
    {
     "data": {
      "text/plain": [
       "0.8861833333333333"
      ]
     },
     "execution_count": 23,
     "metadata": {},
     "output_type": "execute_result"
    }
   ],
   "source": [
    "my_cm.trace()/my_cm.sum()"
   ]
  },
  {
   "cell_type": "code",
   "execution_count": 35,
   "metadata": {},
   "outputs": [
    {
     "name": "stdout",
     "output_type": "stream",
     "text": [
      "              precision    recall  f1-score   support\n",
      "\n",
      "           0     0.8184    0.8577    0.8376      6000\n",
      "           1     0.9831    0.9792    0.9811      6000\n",
      "           2     0.7927    0.7958    0.7942      6000\n",
      "           3     0.9310    0.8517    0.8895      6000\n",
      "           4     0.7138    0.8977    0.7952      6000\n",
      "           5     0.9873    0.9872    0.9872      6000\n",
      "           6     0.7386    0.5913    0.6568      6000\n",
      "           7     0.9514    0.9725    0.9618      6000\n",
      "           8     0.9933    0.9665    0.9797      6000\n",
      "           9     0.9781    0.9623    0.9702      6000\n",
      "\n",
      "    accuracy                         0.8862     60000\n",
      "   macro avg     0.8888    0.8862    0.8853     60000\n",
      "weighted avg     0.8888    0.8862    0.8853     60000\n",
      "\n"
     ]
    }
   ],
   "source": [
    "from sklearn.metrics import classification_report\n",
    "print(classification_report(y_train, y_pred, digits=4))"
   ]
  }
 ],
 "metadata": {
  "colab": {
   "provenance": []
  },
  "kernelspec": {
   "display_name": "Python 3 (ipykernel)",
   "language": "python",
   "name": "python3"
  },
  "language_info": {
   "codemirror_mode": {
    "name": "ipython",
    "version": 3
   },
   "file_extension": ".py",
   "mimetype": "text/x-python",
   "name": "python",
   "nbconvert_exporter": "python",
   "pygments_lexer": "ipython3",
   "version": "3.11.5"
  }
 },
 "nbformat": 4,
 "nbformat_minor": 1
}
